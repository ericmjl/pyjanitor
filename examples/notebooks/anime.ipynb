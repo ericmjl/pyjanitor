{
 "cells": [
  {
   "cell_type": "markdown",
   "metadata": {},
   "source": [
    "# Processing Anime Data \n",
    "\n",
    "## Background\n",
    "\n",
    "We will use pyjanitor to showcase how to conveniently chain methods together to perform data cleaning in one shot. We will chain the dataframe methods together with pyjanitor methods to complete the data cleaning process. The below example shows a one-shot script followed by a step-by-step detail of each part of the method chain.\n",
    "\n",
    "We have adapted a [TidyTuesday analysis](https://github.com/rfordatascience/tidytuesday/blob/master/data/2019/2019-04-23/readme.md) that was originally performed in R. The original text from TidyTuesday will be shown in blockquotes.\n",
    "\n",
    "Note: TidyTuesday is based on the principles discussed and made popular by Hadley Wickham in his paper [Tidy Data](https://www.jstatsoft.org/index.php/jss/article/view/v059i10/v59i10.pdf).\n",
    "\n",
    "*The original text from TidyTuesday will be shown in blockquotes.*\n",
    "Here is a description of the Anime data set that we will use."
   ]
  },
  {
   "cell_type": "markdown",
   "metadata": {},
   "source": [
    ">This week's data comes from [Tam Nguyen](https://github.com/tamdrashtri) and [MyAnimeList.net via Kaggle](https://www.kaggle.com/aludosan/myanimelist-anime-dataset-as-20190204). [According to Wikipedia](https://en.wikipedia.org/wiki/MyAnimeList) - \"MyAnimeList, often abbreviated as MAL, is an anime and manga social networking and social cataloging application website. The site provides its users with a list-like system to organize and score anime and manga. It facilitates finding users who share similar tastes and provides a large database on anime and manga. The site claims to have 4.4 million anime and 775,000 manga entries. In 2015, the site received 120 million visitors a month.\"\n",
    ">\n",
    ">Anime without rankings or popularity scores were excluded. Producers, genre, and studio were converted from lists to tidy observations, so there will be repetitions of shows with multiple producers, genres, etc. The raw data is also uploaded.\n",
    ">\n",
    ">Lots of interesting ways to explore the data this week!"
   ]
  },
  {
   "cell_type": "markdown",
   "metadata": {},
   "source": [
    "Import libraries and load data"
   ]
  },
  {
   "cell_type": "code",
   "execution_count": 20,
   "metadata": {},
   "outputs": [],
   "source": [
    "# Import pyjanitor and pandas\n",
    "import janitor\n",
    "import pandas as pd"
   ]
  },
  {
   "cell_type": "code",
   "execution_count": 21,
   "metadata": {},
   "outputs": [],
   "source": [
    "# Supress user warnings when we try overwriting our custom pandas flavor functions\n",
    "# dont think this warning is necessary anymore\n",
    "import warnings\n",
    "warnings.filterwarnings('ignore')"
   ]
  },
  {
   "cell_type": "markdown",
   "metadata": {},
   "source": [
    "## One-Shot"
   ]
  },
  {
   "cell_type": "code",
   "execution_count": 22,
   "metadata": {},
   "outputs": [
    {
     "output_type": "execute_result",
     "data": {
      "text/plain": "   animeID          name title_english title_japanese title_synonyms type  \\\n0        1  Cowboy Bebop  Cowboy Bebop      カウボーイビバップ             []   TV   \n0        1  Cowboy Bebop  Cowboy Bebop      カウボーイビバップ             []   TV   \n0        1  Cowboy Bebop  Cowboy Bebop      カウボーイビバップ             []   TV   \n0        1  Cowboy Bebop  Cowboy Bebop      カウボーイビバップ             []   TV   \n0        1  Cowboy Bebop  Cowboy Bebop      カウボーイビバップ             []   TV   \n\n     source      producers      genre   studio  ...  popularity   members  \\\n0  Original  Bandai Visual     Action  Sunrise  ...        39.0  795733.0   \n0  Original  Bandai Visual  Adventure  Sunrise  ...        39.0  795733.0   \n0  Original  Bandai Visual     Comedy  Sunrise  ...        39.0  795733.0   \n0  Original  Bandai Visual      Drama  Sunrise  ...        39.0  795733.0   \n0  Original  Bandai Visual     Sci-Fi  Sunrise  ...        39.0  795733.0   \n\n  favorites                                           synopsis  \\\n0   43460.0  In the year 2071, humanity has colonized sever...   \n0   43460.0  In the year 2071, humanity has colonized sever...   \n0   43460.0  In the year 2071, humanity has colonized sever...   \n0   43460.0  In the year 2071, humanity has colonized sever...   \n0   43460.0  In the year 2071, humanity has colonized sever...   \n\n                                          background    premiered  \\\n0  When Cowboy Bebop first aired in spring of 199...  Spring 1998   \n0  When Cowboy Bebop first aired in spring of 199...  Spring 1998   \n0  When Cowboy Bebop first aired in spring of 199...  Spring 1998   \n0  When Cowboy Bebop first aired in spring of 199...  Spring 1998   \n0  When Cowboy Bebop first aired in spring of 199...  Spring 1998   \n\n                  broadcast  \\\n0  Saturdays at 01:00 (JST)   \n0  Saturdays at 01:00 (JST)   \n0  Saturdays at 01:00 (JST)   \n0  Saturdays at 01:00 (JST)   \n0  Saturdays at 01:00 (JST)   \n\n                                             related  start_date   end_date  \n0  {'Adaptation': [{'mal_id': 173, 'type': 'manga...  1998-04-03 1999-04-24  \n0  {'Adaptation': [{'mal_id': 173, 'type': 'manga...  1998-04-03 1999-04-24  \n0  {'Adaptation': [{'mal_id': 173, 'type': 'manga...  1998-04-03 1999-04-24  \n0  {'Adaptation': [{'mal_id': 173, 'type': 'manga...  1998-04-03 1999-04-24  \n0  {'Adaptation': [{'mal_id': 173, 'type': 'manga...  1998-04-03 1999-04-24  \n\n[5 rows x 28 columns]",
      "text/html": "<div>\n<style scoped>\n    .dataframe tbody tr th:only-of-type {\n        vertical-align: middle;\n    }\n\n    .dataframe tbody tr th {\n        vertical-align: top;\n    }\n\n    .dataframe thead th {\n        text-align: right;\n    }\n</style>\n<table border=\"1\" class=\"dataframe\">\n  <thead>\n    <tr style=\"text-align: right;\">\n      <th></th>\n      <th>animeID</th>\n      <th>name</th>\n      <th>title_english</th>\n      <th>title_japanese</th>\n      <th>title_synonyms</th>\n      <th>type</th>\n      <th>source</th>\n      <th>producers</th>\n      <th>genre</th>\n      <th>studio</th>\n      <th>...</th>\n      <th>popularity</th>\n      <th>members</th>\n      <th>favorites</th>\n      <th>synopsis</th>\n      <th>background</th>\n      <th>premiered</th>\n      <th>broadcast</th>\n      <th>related</th>\n      <th>start_date</th>\n      <th>end_date</th>\n    </tr>\n  </thead>\n  <tbody>\n    <tr>\n      <th>0</th>\n      <td>1</td>\n      <td>Cowboy Bebop</td>\n      <td>Cowboy Bebop</td>\n      <td>カウボーイビバップ</td>\n      <td>[]</td>\n      <td>TV</td>\n      <td>Original</td>\n      <td>Bandai Visual</td>\n      <td>Action</td>\n      <td>Sunrise</td>\n      <td>...</td>\n      <td>39.0</td>\n      <td>795733.0</td>\n      <td>43460.0</td>\n      <td>In the year 2071, humanity has colonized sever...</td>\n      <td>When Cowboy Bebop first aired in spring of 199...</td>\n      <td>Spring 1998</td>\n      <td>Saturdays at 01:00 (JST)</td>\n      <td>{'Adaptation': [{'mal_id': 173, 'type': 'manga...</td>\n      <td>1998-04-03</td>\n      <td>1999-04-24</td>\n    </tr>\n    <tr>\n      <th>0</th>\n      <td>1</td>\n      <td>Cowboy Bebop</td>\n      <td>Cowboy Bebop</td>\n      <td>カウボーイビバップ</td>\n      <td>[]</td>\n      <td>TV</td>\n      <td>Original</td>\n      <td>Bandai Visual</td>\n      <td>Adventure</td>\n      <td>Sunrise</td>\n      <td>...</td>\n      <td>39.0</td>\n      <td>795733.0</td>\n      <td>43460.0</td>\n      <td>In the year 2071, humanity has colonized sever...</td>\n      <td>When Cowboy Bebop first aired in spring of 199...</td>\n      <td>Spring 1998</td>\n      <td>Saturdays at 01:00 (JST)</td>\n      <td>{'Adaptation': [{'mal_id': 173, 'type': 'manga...</td>\n      <td>1998-04-03</td>\n      <td>1999-04-24</td>\n    </tr>\n    <tr>\n      <th>0</th>\n      <td>1</td>\n      <td>Cowboy Bebop</td>\n      <td>Cowboy Bebop</td>\n      <td>カウボーイビバップ</td>\n      <td>[]</td>\n      <td>TV</td>\n      <td>Original</td>\n      <td>Bandai Visual</td>\n      <td>Comedy</td>\n      <td>Sunrise</td>\n      <td>...</td>\n      <td>39.0</td>\n      <td>795733.0</td>\n      <td>43460.0</td>\n      <td>In the year 2071, humanity has colonized sever...</td>\n      <td>When Cowboy Bebop first aired in spring of 199...</td>\n      <td>Spring 1998</td>\n      <td>Saturdays at 01:00 (JST)</td>\n      <td>{'Adaptation': [{'mal_id': 173, 'type': 'manga...</td>\n      <td>1998-04-03</td>\n      <td>1999-04-24</td>\n    </tr>\n    <tr>\n      <th>0</th>\n      <td>1</td>\n      <td>Cowboy Bebop</td>\n      <td>Cowboy Bebop</td>\n      <td>カウボーイビバップ</td>\n      <td>[]</td>\n      <td>TV</td>\n      <td>Original</td>\n      <td>Bandai Visual</td>\n      <td>Drama</td>\n      <td>Sunrise</td>\n      <td>...</td>\n      <td>39.0</td>\n      <td>795733.0</td>\n      <td>43460.0</td>\n      <td>In the year 2071, humanity has colonized sever...</td>\n      <td>When Cowboy Bebop first aired in spring of 199...</td>\n      <td>Spring 1998</td>\n      <td>Saturdays at 01:00 (JST)</td>\n      <td>{'Adaptation': [{'mal_id': 173, 'type': 'manga...</td>\n      <td>1998-04-03</td>\n      <td>1999-04-24</td>\n    </tr>\n    <tr>\n      <th>0</th>\n      <td>1</td>\n      <td>Cowboy Bebop</td>\n      <td>Cowboy Bebop</td>\n      <td>カウボーイビバップ</td>\n      <td>[]</td>\n      <td>TV</td>\n      <td>Original</td>\n      <td>Bandai Visual</td>\n      <td>Sci-Fi</td>\n      <td>Sunrise</td>\n      <td>...</td>\n      <td>39.0</td>\n      <td>795733.0</td>\n      <td>43460.0</td>\n      <td>In the year 2071, humanity has colonized sever...</td>\n      <td>When Cowboy Bebop first aired in spring of 199...</td>\n      <td>Spring 1998</td>\n      <td>Saturdays at 01:00 (JST)</td>\n      <td>{'Adaptation': [{'mal_id': 173, 'type': 'manga...</td>\n      <td>1998-04-03</td>\n      <td>1999-04-24</td>\n    </tr>\n  </tbody>\n</table>\n<p>5 rows × 28 columns</p>\n</div>"
     },
     "metadata": {},
     "execution_count": 22
    }
   ],
   "source": [
    "filename = 'https://raw.githubusercontent.com/rfordatascience/tidytuesday/master/data/2019/2019-04-23/raw_anime.csv'\n",
    "df = pd.read_csv(filename)\n",
    "\n",
    "clean_df = (df\n",
    "            .process_text(column = 'producers', string_function = 'replace', pat=\"(\\[|\\])|'\", repl=\"\")\n",
    "            .process_text(column = 'producers', string_function = 'split', pat = ',')\n",
    "            .explode('producers')\n",
    "            .process_text(column = 'producers', string_function = 'strip')\n",
    "            .process_text(column = 'genre', string_function = 'replace', pat=\"(\\[|\\])|'\", repl=\"\")\n",
    "            .process_text(column = 'genre', string_function = 'split', pat = ',')\n",
    "            .explode('genre')\n",
    "            .process_text(column = 'genre', string_function = 'strip')\n",
    "            .process_text(column = 'studio', string_function = 'replace', pat=\"(\\[|\\])|'\", repl=\"\")\n",
    "            .process_text(column = 'studio', string_function = 'split', pat = ',')\n",
    "            .explode('studio')\n",
    "            .process_text(column = 'studio', string_function = 'strip')\n",
    "            .process_text(column = 'aired', string_function = 'replace', pat=\"\\{|\\}|'from':\\s*|'to':\\s*\", repl=\"\")\n",
    "            .process_text(column = 'aired', string_function = 'split', pat = ',')\n",
    "            .process_text(column = 'aired', string_function = 'slice', start = 0, stop = 2)\n",
    "            .process_text(column = 'aired', string_function = 'join', sep = ',')\n",
    "            .deconcatenate_column(column_name=\"aired\", new_column_names=[\"start_date\", \"end_date\"], sep=\",\")\n",
    "            .remove_columns(column_names=[\"aired\"])\n",
    "            .process_text(column = 'start_date', string_function = 'replace', pat=\"'\", repl=\"\")\n",
    "            .process_text(column = 'start_date', string_function = 'slice', start = 0, stop = 10)\n",
    "            .process_text(column = 'end_date', string_function = 'replace', pat=\"'\", repl=\"\")\n",
    "            .process_text(column = 'end_date', string_function = 'slice', start = 0, stop = 11)\n",
    "            .to_datetime(\"start_date\", format=\"%Y-%m-%d\", errors=\"coerce\")\n",
    "            .to_datetime(\"end_date\", format=\"%Y-%m-%d\", errors=\"coerce\")\n",
    "            .fill_empty(columns=[\"rank\", \"popularity\"], value=0)\n",
    "            .filter_on(\"rank != 0 & popularity != 0\")\n",
    "           )\n",
    "\n",
    "clean_df.head()"
   ]
  },
  {
   "cell_type": "markdown",
   "metadata": {},
   "source": [
    "## Multi-Step"
   ]
  },
  {
   "cell_type": "markdown",
   "metadata": {},
   "source": [
    ">Data Dictionary\n",
    ">\n",
    ">Heads up the dataset is about 97 mb - if you want to free up some space, drop the synopsis and background, they are long strings, or broadcast, premiered, related as they are redundant or less useful.\n",
    ">\n",
    ">|variable       |class     |description |\n",
    "|:--------------|:---------|:-----------|\n",
    "|animeID        |double    | Anime ID (as in https://myanimelist.net/anime/animeID)          |\n",
    "|name           |character |anime title - extracted from the site.           |\n",
    "|title_english  |character | title in English (sometimes is different, sometimes is missing)          |\n",
    "|title_japanese |character | title in Japanese (if Anime is Chinese or Korean, the title, if available, in the respective language)          |\n",
    "|title_synonyms |character | other variants of the title         |\n",
    "|type           |character | anime type (e.g. TV, Movie, OVA)          |\n",
    "|source         |character | source of anime (i.e original, manga, game, music, visual novel etc.)         |\n",
    "|producers      |character | producers          |\n",
    "|genre          |character | genre         |\n",
    "|studio         |character | studio           |\n",
    "|episodes       |double    | number of episodes           |\n",
    "|status         |character | Aired or not aired      |\n",
    "|airing         |logical   | True/False is still airing          |\n",
    "|start_date     |double    | Start date (ymd)        |\n",
    "|end_date       |double    | End date (ymd)        |\n",
    "|duration       |character | Per episode duration or entire duration, text string        |\n",
    "|rating         |character | Age rating         |\n",
    "|score          |double    | Score (higher = better)       |\n",
    "|scored_by      |double    | Number of users that scored          |\n",
    "|rank           |double    | Rank - weight according to MyAnimeList formula          |\n",
    "|popularity     |double    |  based on how many members/users have the respective anime in their list          |\n",
    "|members        |double    | number members that added this anime in their list         |\n",
    "|favorites      |double    | number members that favorites these in their list          |\n",
    "|synopsis       |character | long string with anime synopsis          |\n",
    "|background     |character | long string with production background and other things          |\n",
    "|premiered      |character | anime premiered on season/year          |\n",
    "|broadcast      |character | when is (regularly) broadcasted         |\n",
    "|related        |character | dictionary: related animes, series, games etc."
   ]
  },
  {
   "cell_type": "markdown",
   "metadata": {},
   "source": [
    "### Step 0: Load data"
   ]
  },
  {
   "cell_type": "code",
   "execution_count": 23,
   "metadata": {},
   "outputs": [],
   "source": [
    "filename = 'https://raw.githubusercontent.com/rfordatascience/tidytuesday/master/data/2019/2019-04-23/raw_anime.csv'\n",
    "df = pd.read_csv(filename)"
   ]
  },
  {
   "cell_type": "code",
   "execution_count": 24,
   "metadata": {},
   "outputs": [
    {
     "output_type": "execute_result",
     "data": {
      "text/plain": "                                                                0  \\\nanimeID                                                         1   \nname                                                 Cowboy Bebop   \ntitle_english                                        Cowboy Bebop   \ntitle_japanese                                          カウボーイビバップ   \ntitle_synonyms                                                 []   \ntype                                                           TV   \nsource                                                   Original   \nproducers                                       ['Bandai Visual']   \ngenre           ['Action', 'Adventure', 'Comedy', 'Drama', 'Sc...   \nstudio                                                ['Sunrise']   \nepisodes                                                       26   \nstatus                                            Finished Airing   \nairing                                                      False   \naired           {'from': '1998-04-03T00:00:00+00:00', 'to': '1...   \nduration                                            24 min per ep   \nrating                             R - 17+ (violence & profanity)   \nscore                                                        8.81   \nscored_by                                                  405664   \nrank                                                           26   \npopularity                                                     39   \nmembers                                                    795733   \nfavorites                                                   43460   \nsynopsis        In the year 2071, humanity has colonized sever...   \nbackground      When Cowboy Bebop first aired in spring of 199...   \npremiered                                             Spring 1998   \nbroadcast                                Saturdays at 01:00 (JST)   \nrelated         {'Adaptation': [{'mal_id': 173, 'type': 'manga...   \n\n                                                                1  \\\nanimeID                                                         5   \nname                              Cowboy Bebop: Tengoku no Tobira   \ntitle_english                             Cowboy Bebop: The Movie   \ntitle_japanese                                     カウボーイビバップ 天国の扉   \ntitle_synonyms        [\"Cowboy Bebop: Knockin' on Heaven's Door\"]   \ntype                                                        Movie   \nsource                                                   Original   \nproducers                            ['Sunrise', 'Bandai Visual']   \ngenre           ['Action', 'Drama', 'Mystery', 'Sci-Fi', 'Space']   \nstudio                                                  ['Bones']   \nepisodes                                                        1   \nstatus                                            Finished Airing   \nairing                                                      False   \naired           {'from': '2001-09-01T00:00:00+00:00', 'to': No...   \nduration                                              1 hr 55 min   \nrating                             R - 17+ (violence & profanity)   \nscore                                                        8.41   \nscored_by                                                  120243   \nrank                                                          164   \npopularity                                                    449   \nmembers                                                    197791   \nfavorites                                                     776   \nsynopsis        Another day, another bounty—such is the life o...   \nbackground                                                    NaN   \npremiered                                                     NaN   \nbroadcast                                                     NaN   \nrelated         {'Parent story': [{'mal_id': 1, 'type': 'anime...   \n\n                                                                2  \nanimeID                                                         6  \nname                                                       Trigun  \ntitle_english                                              Trigun  \ntitle_japanese                                              トライガン  \ntitle_synonyms                                                 []  \ntype                                                           TV  \nsource                                                      Manga  \nproducers                                ['Victor Entertainment']  \ngenre           ['Action', 'Sci-Fi', 'Adventure', 'Comedy', 'D...  \nstudio                                               ['Madhouse']  \nepisodes                                                       26  \nstatus                                            Finished Airing  \nairing                                                      False  \naired           {'from': '1998-04-01T00:00:00+00:00', 'to': '1...  \nduration                                            24 min per ep  \nrating                                  PG-13 - Teens 13 or older  \nscore                                                         8.3  \nscored_by                                                  212537  \nrank                                                          255  \npopularity                                                    146  \nmembers                                                    408548  \nfavorites                                                   10432  \nsynopsis        Vash the Stampede is the man with a $$60,000,0...  \nbackground      The Japanese release by Victor Entertainment h...  \npremiered                                             Spring 1998  \nbroadcast                                Thursdays at 01:15 (JST)  \nrelated         {'Adaptation': [{'mal_id': 703, 'type': 'manga...  ",
      "text/html": "<div>\n<style scoped>\n    .dataframe tbody tr th:only-of-type {\n        vertical-align: middle;\n    }\n\n    .dataframe tbody tr th {\n        vertical-align: top;\n    }\n\n    .dataframe thead th {\n        text-align: right;\n    }\n</style>\n<table border=\"1\" class=\"dataframe\">\n  <thead>\n    <tr style=\"text-align: right;\">\n      <th></th>\n      <th>0</th>\n      <th>1</th>\n      <th>2</th>\n    </tr>\n  </thead>\n  <tbody>\n    <tr>\n      <th>animeID</th>\n      <td>1</td>\n      <td>5</td>\n      <td>6</td>\n    </tr>\n    <tr>\n      <th>name</th>\n      <td>Cowboy Bebop</td>\n      <td>Cowboy Bebop: Tengoku no Tobira</td>\n      <td>Trigun</td>\n    </tr>\n    <tr>\n      <th>title_english</th>\n      <td>Cowboy Bebop</td>\n      <td>Cowboy Bebop: The Movie</td>\n      <td>Trigun</td>\n    </tr>\n    <tr>\n      <th>title_japanese</th>\n      <td>カウボーイビバップ</td>\n      <td>カウボーイビバップ 天国の扉</td>\n      <td>トライガン</td>\n    </tr>\n    <tr>\n      <th>title_synonyms</th>\n      <td>[]</td>\n      <td>[\"Cowboy Bebop: Knockin' on Heaven's Door\"]</td>\n      <td>[]</td>\n    </tr>\n    <tr>\n      <th>type</th>\n      <td>TV</td>\n      <td>Movie</td>\n      <td>TV</td>\n    </tr>\n    <tr>\n      <th>source</th>\n      <td>Original</td>\n      <td>Original</td>\n      <td>Manga</td>\n    </tr>\n    <tr>\n      <th>producers</th>\n      <td>['Bandai Visual']</td>\n      <td>['Sunrise', 'Bandai Visual']</td>\n      <td>['Victor Entertainment']</td>\n    </tr>\n    <tr>\n      <th>genre</th>\n      <td>['Action', 'Adventure', 'Comedy', 'Drama', 'Sc...</td>\n      <td>['Action', 'Drama', 'Mystery', 'Sci-Fi', 'Space']</td>\n      <td>['Action', 'Sci-Fi', 'Adventure', 'Comedy', 'D...</td>\n    </tr>\n    <tr>\n      <th>studio</th>\n      <td>['Sunrise']</td>\n      <td>['Bones']</td>\n      <td>['Madhouse']</td>\n    </tr>\n    <tr>\n      <th>episodes</th>\n      <td>26</td>\n      <td>1</td>\n      <td>26</td>\n    </tr>\n    <tr>\n      <th>status</th>\n      <td>Finished Airing</td>\n      <td>Finished Airing</td>\n      <td>Finished Airing</td>\n    </tr>\n    <tr>\n      <th>airing</th>\n      <td>False</td>\n      <td>False</td>\n      <td>False</td>\n    </tr>\n    <tr>\n      <th>aired</th>\n      <td>{'from': '1998-04-03T00:00:00+00:00', 'to': '1...</td>\n      <td>{'from': '2001-09-01T00:00:00+00:00', 'to': No...</td>\n      <td>{'from': '1998-04-01T00:00:00+00:00', 'to': '1...</td>\n    </tr>\n    <tr>\n      <th>duration</th>\n      <td>24 min per ep</td>\n      <td>1 hr 55 min</td>\n      <td>24 min per ep</td>\n    </tr>\n    <tr>\n      <th>rating</th>\n      <td>R - 17+ (violence &amp; profanity)</td>\n      <td>R - 17+ (violence &amp; profanity)</td>\n      <td>PG-13 - Teens 13 or older</td>\n    </tr>\n    <tr>\n      <th>score</th>\n      <td>8.81</td>\n      <td>8.41</td>\n      <td>8.3</td>\n    </tr>\n    <tr>\n      <th>scored_by</th>\n      <td>405664</td>\n      <td>120243</td>\n      <td>212537</td>\n    </tr>\n    <tr>\n      <th>rank</th>\n      <td>26</td>\n      <td>164</td>\n      <td>255</td>\n    </tr>\n    <tr>\n      <th>popularity</th>\n      <td>39</td>\n      <td>449</td>\n      <td>146</td>\n    </tr>\n    <tr>\n      <th>members</th>\n      <td>795733</td>\n      <td>197791</td>\n      <td>408548</td>\n    </tr>\n    <tr>\n      <th>favorites</th>\n      <td>43460</td>\n      <td>776</td>\n      <td>10432</td>\n    </tr>\n    <tr>\n      <th>synopsis</th>\n      <td>In the year 2071, humanity has colonized sever...</td>\n      <td>Another day, another bounty—such is the life o...</td>\n      <td>Vash the Stampede is the man with a $$60,000,0...</td>\n    </tr>\n    <tr>\n      <th>background</th>\n      <td>When Cowboy Bebop first aired in spring of 199...</td>\n      <td>NaN</td>\n      <td>The Japanese release by Victor Entertainment h...</td>\n    </tr>\n    <tr>\n      <th>premiered</th>\n      <td>Spring 1998</td>\n      <td>NaN</td>\n      <td>Spring 1998</td>\n    </tr>\n    <tr>\n      <th>broadcast</th>\n      <td>Saturdays at 01:00 (JST)</td>\n      <td>NaN</td>\n      <td>Thursdays at 01:15 (JST)</td>\n    </tr>\n    <tr>\n      <th>related</th>\n      <td>{'Adaptation': [{'mal_id': 173, 'type': 'manga...</td>\n      <td>{'Parent story': [{'mal_id': 1, 'type': 'anime...</td>\n      <td>{'Adaptation': [{'mal_id': 703, 'type': 'manga...</td>\n    </tr>\n  </tbody>\n</table>\n</div>"
     },
     "metadata": {},
     "execution_count": 24
    }
   ],
   "source": [
    "df.head(3).T"
   ]
  },
  {
   "cell_type": "markdown",
   "metadata": {},
   "source": [
    "### Step 1: Clean `producers` column"
   ]
  },
  {
   "cell_type": "markdown",
   "metadata": {},
   "source": [
    "The first step tries to clean up the `producers` column by removing some brackets ('[]') and trim off some empty spaces\n",
    "\n",
    ">```\n",
    ">clean_df <- raw_df %>% \n",
    ">  # Producers\n",
    ">  mutate(producers = str_remove(producers, \"\\\\[\"),\n",
    "         producers = str_remove(producers, \"\\\\]\"))\n",
    ">```\n",
    "\n",
    "What is mutate? This [link](https://pandas.pydata.org/pandas-docs/stable/getting_started/comparison/comparison_with_r.html) compares R's `mutate` to be similar to pandas' `df.assign`.\n",
    "However, `df.assign` returns a new DataFrame whereas `mutate` adds a new variable while preserving the previous ones.\n",
    "Therefore, for this example, I will compare `mutate` to be similar to `df['col'] = X`"
   ]
  },
  {
   "cell_type": "markdown",
   "metadata": {},
   "source": [
    "As we can see, this looks like a list of items but in string form"
   ]
  },
  {
   "cell_type": "code",
   "execution_count": 25,
   "metadata": {},
   "outputs": [
    {
     "output_type": "execute_result",
     "data": {
      "text/plain": "0               ['Bandai Visual']\n1    ['Sunrise', 'Bandai Visual']\n2        ['Victor Entertainment']\n3               ['Bandai Visual']\n4          ['TV Tokyo', 'Dentsu']\nName: producers, dtype: object"
     },
     "metadata": {},
     "execution_count": 25
    }
   ],
   "source": [
    "# Let's see what we trying to remove\n",
    "df.loc[df['producers'].str.contains(\"\\[\", na=False), 'producers'].head()"
   ]
  },
  {
   "cell_type": "markdown",
   "metadata": {},
   "source": [
    "Let's use the `process_text` function to *process* this (pun intended)."
   ]
  },
  {
   "cell_type": "code",
   "execution_count": 26,
   "metadata": {},
   "outputs": [],
   "source": [
    "clean_df = (\n",
    "    df\n",
    "    .process_text(column = 'producers', string_function = 'replace', pat=\"(\\[|\\])|'\", repl=\"\")\n",
    ")"
   ]
  },
  {
   "cell_type": "markdown",
   "metadata": {},
   "source": [
    "With brackets and the `'` removed."
   ]
  },
  {
   "cell_type": "code",
   "execution_count": 27,
   "metadata": {},
   "outputs": [
    {
     "output_type": "execute_result",
     "data": {
      "text/plain": "0             Bandai Visual\n1    Sunrise, Bandai Visual\n2      Victor Entertainment\n3             Bandai Visual\n4          TV Tokyo, Dentsu\nName: producers, dtype: object"
     },
     "metadata": {},
     "execution_count": 27
    }
   ],
   "source": [
    "clean_df['producers'].head()"
   ]
  },
  {
   "cell_type": "markdown",
   "metadata": {},
   "source": [
    "Brackets are removed. Now the next part\n",
    ">```\n",
    ">  separate_rows(producers, sep = \",\") %>% \n",
    ">```\n",
    "\n",
    "It seems like separate rows will go through each value of the column, and if the value is a list, will create a new row for each value in the list with the remaining column values being the same. This is commonly known as an `explode` method, for which we will use from `pandas`. First, we get the column into list form with the `split` string method."
   ]
  },
  {
   "cell_type": "code",
   "execution_count": 28,
   "metadata": {},
   "outputs": [],
   "source": [
    "clean_df = (\n",
    "    clean_df\n",
    "    .process_text(column = 'producers', string_function = 'split', pat = ',')\n",
    "    .explode(column='producers')\n",
    ")"
   ]
  },
  {
   "cell_type": "markdown",
   "metadata": {},
   "source": [
    "Now every producer is its own row."
   ]
  },
  {
   "cell_type": "code",
   "execution_count": 29,
   "metadata": {},
   "outputs": [
    {
     "output_type": "execute_result",
     "data": {
      "text/plain": "0           Bandai Visual\n1                 Sunrise\n1           Bandai Visual\n2    Victor Entertainment\n3           Bandai Visual\nName: producers, dtype: object"
     },
     "metadata": {},
     "execution_count": 29
    }
   ],
   "source": [
    "clean_df['producers'].head()"
   ]
  },
  {
   "cell_type": "markdown",
   "metadata": {},
   "source": [
    "Now remove single quotes and a bit of trimming. We removed the single quotes earlier, so let's trim with Pandas `strip` string method.\n",
    ">```\n",
    "  mutate(producers = str_remove(producers, \"\\\\'\"),\n",
    "         producers = str_remove(producers, \"\\\\'\"),\n",
    "         producers = str_trim(producers)) %>% \n",
    "```"
   ]
  },
  {
   "cell_type": "code",
   "execution_count": 30,
   "metadata": {},
   "outputs": [],
   "source": [
    "clean_df = clean_df.process_text(column = 'producers', string_function = 'strip')"
   ]
  },
  {
   "cell_type": "markdown",
   "metadata": {},
   "source": [
    "Finally, here is our cleaned `producers` column."
   ]
  },
  {
   "cell_type": "code",
   "execution_count": 31,
   "metadata": {},
   "outputs": [
    {
     "output_type": "execute_result",
     "data": {
      "text/plain": "0           Bandai Visual\n1                 Sunrise\n1           Bandai Visual\n2    Victor Entertainment\n3           Bandai Visual\nName: producers, dtype: object"
     },
     "metadata": {},
     "execution_count": 31
    }
   ],
   "source": [
    "clean_df['producers'].head()"
   ]
  },
  {
   "cell_type": "markdown",
   "metadata": {},
   "source": [
    "### Step 2: Clean `genre` and `studio` Columns"
   ]
  },
  {
   "cell_type": "markdown",
   "metadata": {},
   "source": [
    "Let's do the same process for columns `Genre` and `Studio`\n",
    "\n",
    ">```\n",
    ">  # Genre\n",
    "  mutate(genre = str_remove(genre, \"\\\\[\"),\n",
    "         genre = str_remove(genre, \"\\\\]\")) %>% \n",
    "  separate_rows(genre, sep = \",\") %>% \n",
    "  mutate(genre = str_remove(genre, \"\\\\'\"),\n",
    "         genre = str_remove(genre, \"\\\\'\"),\n",
    "         genre = str_trim(genre)) %>% \n",
    ">  # Studio\n",
    "  mutate(studio = str_remove(studio, \"\\\\[\"),\n",
    "         studio = str_remove(studio, \"\\\\]\")) %>% \n",
    "  separate_rows(studio, sep = \",\") %>% \n",
    "  mutate(studio = str_remove(studio, \"\\\\'\"),\n",
    "         studio = str_remove(studio, \"\\\\'\"),\n",
    "         studio = str_trim(studio)) %>% \n",
    "```"
   ]
  },
  {
   "cell_type": "code",
   "execution_count": 32,
   "metadata": {},
   "outputs": [],
   "source": [
    "clean_df = (\n",
    "    clean_df\n",
    "    # Perform operation for genre.\n",
    "    .process_text(column = 'genre', string_function = 'replace', pat=\"(\\[|\\])|'\", repl=\"\")\n",
    "    .process_text(column = 'genre', string_function = 'split', pat = ',')\n",
    "    .explode('genre')\n",
    "    .process_text(column = 'genre', string_function = 'strip')\n",
    "    # Now do it for studio\n",
    "    .process_text(column = 'studio', string_function = 'replace', pat=\"(\\[|\\])|'\", repl=\"\")\n",
    "    .process_text(column = 'studio', string_function = 'split', pat = ',')\n",
    "    .explode('studio')\n",
    "    .process_text(column = 'studio', string_function = 'strip')\n",
    ")"
   ]
  },
  {
   "cell_type": "markdown",
   "metadata": {},
   "source": [
    "Resulting cleaned columns."
   ]
  },
  {
   "cell_type": "code",
   "execution_count": 33,
   "metadata": {},
   "outputs": [
    {
     "output_type": "execute_result",
     "data": {
      "text/plain": "       genre   studio\n0     Action  Sunrise\n0  Adventure  Sunrise\n0     Comedy  Sunrise\n0      Drama  Sunrise\n0     Sci-Fi  Sunrise",
      "text/html": "<div>\n<style scoped>\n    .dataframe tbody tr th:only-of-type {\n        vertical-align: middle;\n    }\n\n    .dataframe tbody tr th {\n        vertical-align: top;\n    }\n\n    .dataframe thead th {\n        text-align: right;\n    }\n</style>\n<table border=\"1\" class=\"dataframe\">\n  <thead>\n    <tr style=\"text-align: right;\">\n      <th></th>\n      <th>genre</th>\n      <th>studio</th>\n    </tr>\n  </thead>\n  <tbody>\n    <tr>\n      <th>0</th>\n      <td>Action</td>\n      <td>Sunrise</td>\n    </tr>\n    <tr>\n      <th>0</th>\n      <td>Adventure</td>\n      <td>Sunrise</td>\n    </tr>\n    <tr>\n      <th>0</th>\n      <td>Comedy</td>\n      <td>Sunrise</td>\n    </tr>\n    <tr>\n      <th>0</th>\n      <td>Drama</td>\n      <td>Sunrise</td>\n    </tr>\n    <tr>\n      <th>0</th>\n      <td>Sci-Fi</td>\n      <td>Sunrise</td>\n    </tr>\n  </tbody>\n</table>\n</div>"
     },
     "metadata": {},
     "execution_count": 33
    }
   ],
   "source": [
    "clean_df[['genre', 'studio']].head()"
   ]
  },
  {
   "cell_type": "markdown",
   "metadata": {},
   "source": [
    "### Step 3: Clean `aired` column"
   ]
  },
  {
   "cell_type": "markdown",
   "metadata": {},
   "source": [
    "The `aired` column has something a little different. In addition to the usual removing some strings and whitespace trimming, we want to separate the values into two separate columns `start_date` and `end_date`\n",
    "\n",
    ">```r\n",
    ">  # Aired\n",
    "  mutate(aired = str_remove(aired, \"\\\\{\"),\n",
    "         aired = str_remove(aired, \"\\\\}\"),\n",
    "         aired = str_remove(aired, \"'from': \"),\n",
    "         aired = str_remove(aired, \"'to': \"),\n",
    "         aired = word(aired, start = 1, 2, sep = \",\")) %>% \n",
    "  separate(aired, into = c(\"start_date\", \"end_date\"), sep = \",\") %>% \n",
    "  mutate(start_date = str_remove_all(start_date, \"'\"),\n",
    "         start_date = str_sub(start_date, 1, 10),\n",
    "         end_date = str_remove_all(start_date, \"'\"),\n",
    "         end_date = str_sub(end_date, 1, 10)) %>%\n",
    "  mutate(start_date = lubridate::ymd(start_date),\n",
    "         end_date = lubridate::ymd(end_date)) %>%\n",
    "```"
   ]
  },
  {
   "cell_type": "markdown",
   "metadata": {},
   "source": [
    "We will use the `process_text` function, as well as pyjanitor's `deconcatenate_column` to clean up."
   ]
  },
  {
   "cell_type": "code",
   "execution_count": 34,
   "metadata": {},
   "outputs": [
    {
     "output_type": "execute_result",
     "data": {
      "text/plain": "0    {'from': '1998-04-03T00:00:00+00:00', 'to': '1...\n0    {'from': '1998-04-03T00:00:00+00:00', 'to': '1...\n0    {'from': '1998-04-03T00:00:00+00:00', 'to': '1...\n0    {'from': '1998-04-03T00:00:00+00:00', 'to': '1...\n0    {'from': '1998-04-03T00:00:00+00:00', 'to': '1...\nName: aired, dtype: object"
     },
     "metadata": {},
     "execution_count": 34
    }
   ],
   "source": [
    "# Currently looks like this\n",
    "clean_df['aired'].head()"
   ]
  },
  {
   "cell_type": "code",
   "execution_count": 35,
   "metadata": {},
   "outputs": [],
   "source": [
    "clean_df = (clean_df\n",
    ".process_text(column = 'aired', string_function = 'replace', pat=\"\\{|\\}|'from':\\s*|'to':\\s*\", repl=\"\")\n",
    ".process_text(column = 'aired', string_function = 'split', pat = ',')\n",
    ".process_text(column = 'aired', string_function = 'slice', start = 0, stop = 2)\n",
    ".process_text(column = 'aired', string_function = 'join', sep = ',')\n",
    ".deconcatenate_column(column_name=\"aired\", new_column_names=[\"start_date\", \"end_date\"], sep=\",\")\n",
    ".remove_columns(column_names=[\"aired\"])\n",
    ".process_text(column = 'start_date', string_function = 'replace', pat=\"'\", repl=\"\")\n",
    ".process_text(column = 'start_date', string_function = 'slice', start = 0, stop = 10)\n",
    ".process_text(column = 'end_date', string_function = 'replace', pat=\"'\", repl=\"\")\n",
    ".process_text(column = 'end_date', string_function = 'slice', start = 0, stop = 11)\n",
    ".to_datetime(\"start_date\", format=\"%Y-%m-%d\", errors=\"coerce\")\n",
    ".to_datetime(\"end_date\", format=\"%Y-%m-%d\", errors=\"coerce\")\n",
    ")"
   ]
  },
  {
   "cell_type": "code",
   "execution_count": 36,
   "metadata": {},
   "outputs": [
    {
     "output_type": "execute_result",
     "data": {
      "text/plain": "  start_date   end_date\n0 1998-04-03 1999-04-24\n0 1998-04-03 1999-04-24\n0 1998-04-03 1999-04-24\n0 1998-04-03 1999-04-24\n0 1998-04-03 1999-04-24",
      "text/html": "<div>\n<style scoped>\n    .dataframe tbody tr th:only-of-type {\n        vertical-align: middle;\n    }\n\n    .dataframe tbody tr th {\n        vertical-align: top;\n    }\n\n    .dataframe thead th {\n        text-align: right;\n    }\n</style>\n<table border=\"1\" class=\"dataframe\">\n  <thead>\n    <tr style=\"text-align: right;\">\n      <th></th>\n      <th>start_date</th>\n      <th>end_date</th>\n    </tr>\n  </thead>\n  <tbody>\n    <tr>\n      <th>0</th>\n      <td>1998-04-03</td>\n      <td>1999-04-24</td>\n    </tr>\n    <tr>\n      <th>0</th>\n      <td>1998-04-03</td>\n      <td>1999-04-24</td>\n    </tr>\n    <tr>\n      <th>0</th>\n      <td>1998-04-03</td>\n      <td>1999-04-24</td>\n    </tr>\n    <tr>\n      <th>0</th>\n      <td>1998-04-03</td>\n      <td>1999-04-24</td>\n    </tr>\n    <tr>\n      <th>0</th>\n      <td>1998-04-03</td>\n      <td>1999-04-24</td>\n    </tr>\n  </tbody>\n</table>\n</div>"
     },
     "metadata": {},
     "execution_count": 36
    }
   ],
   "source": [
    "# Resulting 'start_date' and 'end_date' columns with 'aired' column removed\n",
    "clean_df[['start_date', 'end_date']].head()"
   ]
  },
  {
   "cell_type": "markdown",
   "metadata": {},
   "source": [
    "### Step 4: Filter out unranked and unpopular series"
   ]
  },
  {
   "cell_type": "markdown",
   "metadata": {},
   "source": [
    "Finally, let's drop the unranked or unpopular series with pyjanitor's `filter_on`."
   ]
  },
  {
   "cell_type": "code",
   "execution_count": 37,
   "metadata": {},
   "outputs": [],
   "source": [
    "# First fill any NA values with 0 and then filter != 0\n",
    "clean_df = clean_df.fill_empty(column_names=[\"rank\", \"popularity\"], value=0).filter_on(\n",
    "    \"rank != 0 & popularity != 0\"\n",
    ")"
   ]
  },
  {
   "cell_type": "markdown",
   "metadata": {},
   "source": [
    "### End Result"
   ]
  },
  {
   "cell_type": "code",
   "execution_count": 38,
   "metadata": {},
   "outputs": [
    {
     "output_type": "execute_result",
     "data": {
      "text/plain": "   animeID          name title_english title_japanese title_synonyms type  \\\n0        1  Cowboy Bebop  Cowboy Bebop      カウボーイビバップ             []   TV   \n0        1  Cowboy Bebop  Cowboy Bebop      カウボーイビバップ             []   TV   \n0        1  Cowboy Bebop  Cowboy Bebop      カウボーイビバップ             []   TV   \n0        1  Cowboy Bebop  Cowboy Bebop      カウボーイビバップ             []   TV   \n0        1  Cowboy Bebop  Cowboy Bebop      カウボーイビバップ             []   TV   \n\n     source      producers      genre   studio  ...  popularity   members  \\\n0  Original  Bandai Visual     Action  Sunrise  ...        39.0  795733.0   \n0  Original  Bandai Visual  Adventure  Sunrise  ...        39.0  795733.0   \n0  Original  Bandai Visual     Comedy  Sunrise  ...        39.0  795733.0   \n0  Original  Bandai Visual      Drama  Sunrise  ...        39.0  795733.0   \n0  Original  Bandai Visual     Sci-Fi  Sunrise  ...        39.0  795733.0   \n\n  favorites                                           synopsis  \\\n0   43460.0  In the year 2071, humanity has colonized sever...   \n0   43460.0  In the year 2071, humanity has colonized sever...   \n0   43460.0  In the year 2071, humanity has colonized sever...   \n0   43460.0  In the year 2071, humanity has colonized sever...   \n0   43460.0  In the year 2071, humanity has colonized sever...   \n\n                                          background    premiered  \\\n0  When Cowboy Bebop first aired in spring of 199...  Spring 1998   \n0  When Cowboy Bebop first aired in spring of 199...  Spring 1998   \n0  When Cowboy Bebop first aired in spring of 199...  Spring 1998   \n0  When Cowboy Bebop first aired in spring of 199...  Spring 1998   \n0  When Cowboy Bebop first aired in spring of 199...  Spring 1998   \n\n                  broadcast  \\\n0  Saturdays at 01:00 (JST)   \n0  Saturdays at 01:00 (JST)   \n0  Saturdays at 01:00 (JST)   \n0  Saturdays at 01:00 (JST)   \n0  Saturdays at 01:00 (JST)   \n\n                                             related  start_date   end_date  \n0  {'Adaptation': [{'mal_id': 173, 'type': 'manga...  1998-04-03 1999-04-24  \n0  {'Adaptation': [{'mal_id': 173, 'type': 'manga...  1998-04-03 1999-04-24  \n0  {'Adaptation': [{'mal_id': 173, 'type': 'manga...  1998-04-03 1999-04-24  \n0  {'Adaptation': [{'mal_id': 173, 'type': 'manga...  1998-04-03 1999-04-24  \n0  {'Adaptation': [{'mal_id': 173, 'type': 'manga...  1998-04-03 1999-04-24  \n\n[5 rows x 28 columns]",
      "text/html": "<div>\n<style scoped>\n    .dataframe tbody tr th:only-of-type {\n        vertical-align: middle;\n    }\n\n    .dataframe tbody tr th {\n        vertical-align: top;\n    }\n\n    .dataframe thead th {\n        text-align: right;\n    }\n</style>\n<table border=\"1\" class=\"dataframe\">\n  <thead>\n    <tr style=\"text-align: right;\">\n      <th></th>\n      <th>animeID</th>\n      <th>name</th>\n      <th>title_english</th>\n      <th>title_japanese</th>\n      <th>title_synonyms</th>\n      <th>type</th>\n      <th>source</th>\n      <th>producers</th>\n      <th>genre</th>\n      <th>studio</th>\n      <th>...</th>\n      <th>popularity</th>\n      <th>members</th>\n      <th>favorites</th>\n      <th>synopsis</th>\n      <th>background</th>\n      <th>premiered</th>\n      <th>broadcast</th>\n      <th>related</th>\n      <th>start_date</th>\n      <th>end_date</th>\n    </tr>\n  </thead>\n  <tbody>\n    <tr>\n      <th>0</th>\n      <td>1</td>\n      <td>Cowboy Bebop</td>\n      <td>Cowboy Bebop</td>\n      <td>カウボーイビバップ</td>\n      <td>[]</td>\n      <td>TV</td>\n      <td>Original</td>\n      <td>Bandai Visual</td>\n      <td>Action</td>\n      <td>Sunrise</td>\n      <td>...</td>\n      <td>39.0</td>\n      <td>795733.0</td>\n      <td>43460.0</td>\n      <td>In the year 2071, humanity has colonized sever...</td>\n      <td>When Cowboy Bebop first aired in spring of 199...</td>\n      <td>Spring 1998</td>\n      <td>Saturdays at 01:00 (JST)</td>\n      <td>{'Adaptation': [{'mal_id': 173, 'type': 'manga...</td>\n      <td>1998-04-03</td>\n      <td>1999-04-24</td>\n    </tr>\n    <tr>\n      <th>0</th>\n      <td>1</td>\n      <td>Cowboy Bebop</td>\n      <td>Cowboy Bebop</td>\n      <td>カウボーイビバップ</td>\n      <td>[]</td>\n      <td>TV</td>\n      <td>Original</td>\n      <td>Bandai Visual</td>\n      <td>Adventure</td>\n      <td>Sunrise</td>\n      <td>...</td>\n      <td>39.0</td>\n      <td>795733.0</td>\n      <td>43460.0</td>\n      <td>In the year 2071, humanity has colonized sever...</td>\n      <td>When Cowboy Bebop first aired in spring of 199...</td>\n      <td>Spring 1998</td>\n      <td>Saturdays at 01:00 (JST)</td>\n      <td>{'Adaptation': [{'mal_id': 173, 'type': 'manga...</td>\n      <td>1998-04-03</td>\n      <td>1999-04-24</td>\n    </tr>\n    <tr>\n      <th>0</th>\n      <td>1</td>\n      <td>Cowboy Bebop</td>\n      <td>Cowboy Bebop</td>\n      <td>カウボーイビバップ</td>\n      <td>[]</td>\n      <td>TV</td>\n      <td>Original</td>\n      <td>Bandai Visual</td>\n      <td>Comedy</td>\n      <td>Sunrise</td>\n      <td>...</td>\n      <td>39.0</td>\n      <td>795733.0</td>\n      <td>43460.0</td>\n      <td>In the year 2071, humanity has colonized sever...</td>\n      <td>When Cowboy Bebop first aired in spring of 199...</td>\n      <td>Spring 1998</td>\n      <td>Saturdays at 01:00 (JST)</td>\n      <td>{'Adaptation': [{'mal_id': 173, 'type': 'manga...</td>\n      <td>1998-04-03</td>\n      <td>1999-04-24</td>\n    </tr>\n    <tr>\n      <th>0</th>\n      <td>1</td>\n      <td>Cowboy Bebop</td>\n      <td>Cowboy Bebop</td>\n      <td>カウボーイビバップ</td>\n      <td>[]</td>\n      <td>TV</td>\n      <td>Original</td>\n      <td>Bandai Visual</td>\n      <td>Drama</td>\n      <td>Sunrise</td>\n      <td>...</td>\n      <td>39.0</td>\n      <td>795733.0</td>\n      <td>43460.0</td>\n      <td>In the year 2071, humanity has colonized sever...</td>\n      <td>When Cowboy Bebop first aired in spring of 199...</td>\n      <td>Spring 1998</td>\n      <td>Saturdays at 01:00 (JST)</td>\n      <td>{'Adaptation': [{'mal_id': 173, 'type': 'manga...</td>\n      <td>1998-04-03</td>\n      <td>1999-04-24</td>\n    </tr>\n    <tr>\n      <th>0</th>\n      <td>1</td>\n      <td>Cowboy Bebop</td>\n      <td>Cowboy Bebop</td>\n      <td>カウボーイビバップ</td>\n      <td>[]</td>\n      <td>TV</td>\n      <td>Original</td>\n      <td>Bandai Visual</td>\n      <td>Sci-Fi</td>\n      <td>Sunrise</td>\n      <td>...</td>\n      <td>39.0</td>\n      <td>795733.0</td>\n      <td>43460.0</td>\n      <td>In the year 2071, humanity has colonized sever...</td>\n      <td>When Cowboy Bebop first aired in spring of 199...</td>\n      <td>Spring 1998</td>\n      <td>Saturdays at 01:00 (JST)</td>\n      <td>{'Adaptation': [{'mal_id': 173, 'type': 'manga...</td>\n      <td>1998-04-03</td>\n      <td>1999-04-24</td>\n    </tr>\n  </tbody>\n</table>\n<p>5 rows × 28 columns</p>\n</div>"
     },
     "metadata": {},
     "execution_count": 38
    }
   ],
   "source": [
    "clean_df.head()"
   ]
  },
  {
   "cell_type": "code",
   "execution_count": null,
   "metadata": {},
   "outputs": [],
   "source": []
  }
 ],
 "metadata": {
  "kernelspec": {
   "display_name": "Python 3",
   "language": "python",
   "name": "python3"
  },
  "language_info": {
   "codemirror_mode": {
    "name": "ipython",
    "version": 3
   },
   "file_extension": ".py",
   "mimetype": "text/x-python",
   "name": "python",
   "nbconvert_exporter": "python",
   "pygments_lexer": "ipython3",
   "version": "3.7.7-final"
  }
 },
 "nbformat": 4,
 "nbformat_minor": 4
}