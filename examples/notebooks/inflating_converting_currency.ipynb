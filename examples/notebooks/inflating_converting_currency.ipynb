{
 "cells": [
  {
   "cell_type": "markdown",
   "metadata": {},
   "source": [
    "# Inflating and Converting Currency"
   ]
  },
  {
   "cell_type": "markdown",
   "metadata": {},
   "source": [
    "## Background"
   ]
  },
  {
   "cell_type": "markdown",
   "metadata": {},
   "source": [
    "This notebook serves to show a brief and simple example of how to use the `convert_currency()` and `inflate_currency()` methods from pyjanitor's finance submodule.\n",
    "\n",
    "The data for this example notebook come from the [United States Department of Agriculture Economic Research Service](https://www.ers.usda.gov/data-products/food-expenditure-series/), and we are specifically going to download the data of nominal food and alcohol expenditures, with taxes and tips, for all purchasers.  The data set includes nominal expenditures for 1997-2018, and the expenditures are provided in **millions** of U.S. dollars for the year in the which the expenditures were made.  For example, the expenditure values for 1997 are in units of 1997 U.S. dollars, whereas expenditures for 2018 are in 2018 U.S. dollars."
   ]
  },
  {
   "cell_type": "markdown",
   "metadata": {},
   "source": [
    "## Getting and Cleaning the Data"
   ]
  },
  {
   "cell_type": "code",
   "execution_count": 2,
   "metadata": {},
   "outputs": [],
   "source": [
    "import pandas as pd\n",
    "import janitor"
   ]
  },
  {
   "cell_type": "code",
   "execution_count": 3,
   "metadata": {},
   "outputs": [
    {
     "data": {
      "text/html": [
       "<div>\n",
       "<style scoped>\n",
       "    .dataframe tbody tr th:only-of-type {\n",
       "        vertical-align: middle;\n",
       "    }\n",
       "\n",
       "    .dataframe tbody tr th {\n",
       "        vertical-align: top;\n",
       "    }\n",
       "\n",
       "    .dataframe thead th {\n",
       "        text-align: right;\n",
       "    }\n",
       "</style>\n",
       "<table border=\"1\" class=\"dataframe\">\n",
       "  <thead>\n",
       "    <tr style=\"text-align: right;\">\n",
       "      <th></th>\n",
       "      <th>year</th>\n",
       "      <th>store_type</th>\n",
       "      <th>expenditure</th>\n",
       "    </tr>\n",
       "  </thead>\n",
       "  <tbody>\n",
       "    <tr>\n",
       "      <th>0</th>\n",
       "      <td>1997</td>\n",
       "      <td>grocery_stores</td>\n",
       "      <td>270956.91</td>\n",
       "    </tr>\n",
       "    <tr>\n",
       "      <th>1</th>\n",
       "      <td>1998</td>\n",
       "      <td>grocery_stores</td>\n",
       "      <td>273638.88</td>\n",
       "    </tr>\n",
       "    <tr>\n",
       "      <th>2</th>\n",
       "      <td>1999</td>\n",
       "      <td>grocery_stores</td>\n",
       "      <td>283782.47</td>\n",
       "    </tr>\n",
       "    <tr>\n",
       "      <th>3</th>\n",
       "      <td>2000</td>\n",
       "      <td>grocery_stores</td>\n",
       "      <td>286669.78</td>\n",
       "    </tr>\n",
       "    <tr>\n",
       "      <th>4</th>\n",
       "      <td>2001</td>\n",
       "      <td>grocery_stores</td>\n",
       "      <td>296436.72</td>\n",
       "    </tr>\n",
       "  </tbody>\n",
       "</table>\n",
       "</div>"
      ],
      "text/plain": [
       "   year      store_type  expenditure\n",
       "0  1997  grocery_stores    270956.91\n",
       "1  1998  grocery_stores    273638.88\n",
       "2  1999  grocery_stores    283782.47\n",
       "3  2000  grocery_stores    286669.78\n",
       "4  2001  grocery_stores    296436.72"
      ]
     },
     "execution_count": 3,
     "metadata": {},
     "output_type": "execute_result"
    }
   ],
   "source": [
    "url = (\n",
    "    \"https://www.ers.usda.gov/webdocs/DataFiles/50606/nominal_expenditures.csv?v=9289.4\"\n",
    ")\n",
    "# 1) Read in the data from .csv file\n",
    "# 2) Clean up the column names\n",
    "# 3) Remove any empty rows or columns\n",
    "# 4) Melt the dataframe (from wide to long) to obtain \"tidy\" format\n",
    "data = (\n",
    "    pd.read_csv(\n",
    "        url,\n",
    "        skiprows=4,\n",
    "        usecols=[0, 1, 2, 3, 4, 5, 6, 7, 8, 9],\n",
    "        nrows=22,\n",
    "        thousands=','\n",
    "    )\n",
    "    .clean_names()\n",
    "    .remove_empty()\n",
    "    .melt(id_vars=['year'], var_name='store_type', value_name='expenditure')\n",
    "    )\n",
    "data.head()"
   ]
  },
  {
   "cell_type": "markdown",
   "metadata": {},
   "source": [
    "## Use inflate_currency() to Inflate All Values to 2018$"
   ]
  },
  {
   "cell_type": "code",
   "execution_count": 4,
   "metadata": {},
   "outputs": [
    {
     "data": {
      "text/html": [
       "<div>\n",
       "<style scoped>\n",
       "    .dataframe tbody tr th:only-of-type {\n",
       "        vertical-align: middle;\n",
       "    }\n",
       "\n",
       "    .dataframe tbody tr th {\n",
       "        vertical-align: top;\n",
       "    }\n",
       "\n",
       "    .dataframe thead th {\n",
       "        text-align: right;\n",
       "    }\n",
       "</style>\n",
       "<table border=\"1\" class=\"dataframe\">\n",
       "  <thead>\n",
       "    <tr style=\"text-align: right;\">\n",
       "      <th></th>\n",
       "      <th>year</th>\n",
       "      <th>store_type</th>\n",
       "      <th>expenditure</th>\n",
       "      <th>expenditure_2018</th>\n",
       "    </tr>\n",
       "  </thead>\n",
       "  <tbody>\n",
       "    <tr>\n",
       "      <th>0</th>\n",
       "      <td>1997</td>\n",
       "      <td>grocery_stores</td>\n",
       "      <td>270956.91</td>\n",
       "      <td>423875.807122</td>\n",
       "    </tr>\n",
       "    <tr>\n",
       "      <th>1</th>\n",
       "      <td>1998</td>\n",
       "      <td>grocery_stores</td>\n",
       "      <td>273638.88</td>\n",
       "      <td>421528.097543</td>\n",
       "    </tr>\n",
       "    <tr>\n",
       "      <th>2</th>\n",
       "      <td>1999</td>\n",
       "      <td>grocery_stores</td>\n",
       "      <td>283782.47</td>\n",
       "      <td>427793.590858</td>\n",
       "    </tr>\n",
       "    <tr>\n",
       "      <th>3</th>\n",
       "      <td>2000</td>\n",
       "      <td>grocery_stores</td>\n",
       "      <td>286669.78</td>\n",
       "      <td>418029.852893</td>\n",
       "    </tr>\n",
       "    <tr>\n",
       "      <th>4</th>\n",
       "      <td>2001</td>\n",
       "      <td>grocery_stores</td>\n",
       "      <td>296436.72</td>\n",
       "      <td>420391.299188</td>\n",
       "    </tr>\n",
       "  </tbody>\n",
       "</table>\n",
       "</div>"
      ],
      "text/plain": [
       "   year      store_type  expenditure  expenditure_2018\n",
       "0  1997  grocery_stores    270956.91     423875.807122\n",
       "1  1998  grocery_stores    273638.88     421528.097543\n",
       "2  1999  grocery_stores    283782.47     427793.590858\n",
       "3  2000  grocery_stores    286669.78     418029.852893\n",
       "4  2001  grocery_stores    296436.72     420391.299188"
      ]
     },
     "execution_count": 4,
     "metadata": {},
     "output_type": "execute_result"
    }
   ],
   "source": [
    "from janitor.finance import inflate_currency, convert_currency\n",
    "\n",
    "# Use split-apply-combine strategy to obtain 2018$ values\n",
    "# Group the data frame by year\n",
    "grouped = data.groupby(['year'])\n",
    "# Apply the inflate_currency() method to each group\n",
    "# (Note that each group comes with a name; in this case,\n",
    "#  the name corresponds to the year)\n",
    "data_constant_dollar = grouped.apply(\n",
    "    lambda x: x.inflate_currency(\n",
    "        column_name='expenditure',\n",
    "        country='USA',\n",
    "        currency_year=x.name,\n",
    "        to_year=2018,\n",
    "        make_new_column=True\n",
    "    )\n",
    ")\n",
    "data_constant_dollar.head()"
   ]
  },
  {
   "cell_type": "markdown",
   "metadata": {},
   "source": [
    "## Plot Time Series to Observe Currency Inflation"
   ]
  },
  {
   "cell_type": "code",
   "execution_count": 5,
   "metadata": {},
   "outputs": [
    {
     "data": {
      "text/plain": [
       "<matplotlib.axes._subplots.AxesSubplot at 0x7f3ac885ef50>"
      ]
     },
     "execution_count": 5,
     "metadata": {},
     "output_type": "execute_result"
    },
    {
     "data": {
      "image/png": "[encoded data removed]",
      "text/plain": [
       "<Figure size 432x288 with 1 Axes>"
      ]
     },
     "metadata": {
      "needs_background": "light"
     },
     "output_type": "display_data"
    }
   ],
   "source": [
    "# Plot time series of nominal and real (2018$) expenditures for grocery stores\n",
    "# Note that the 2018 values for both series should be equal\n",
    "(\n",
    "    data_constant_dollar\n",
    "    .loc[data_constant_dollar['store_type'] == 'grocery_stores', :]\n",
    "    .set_index('year')\n",
    "    .drop(columns='store_type')\n",
    "    .plot()\n",
    ")"
   ]
  },
  {
   "cell_type": "markdown",
   "metadata": {},
   "source": [
    "## Use convert_currency() to Convert USD to British Pounds"
   ]
  },
  {
   "cell_type": "code",
   "execution_count": 6,
   "metadata": {},
   "outputs": [
    {
     "data": {
      "text/html": [
       "<div>\n",
       "<style scoped>\n",
       "    .dataframe tbody tr th:only-of-type {\n",
       "        vertical-align: middle;\n",
       "    }\n",
       "\n",
       "    .dataframe tbody tr th {\n",
       "        vertical-align: top;\n",
       "    }\n",
       "\n",
       "    .dataframe thead th {\n",
       "        text-align: right;\n",
       "    }\n",
       "</style>\n",
       "<table border=\"1\" class=\"dataframe\">\n",
       "  <thead>\n",
       "    <tr style=\"text-align: right;\">\n",
       "      <th></th>\n",
       "      <th>year</th>\n",
       "      <th>store_type</th>\n",
       "      <th>expenditure</th>\n",
       "      <th>expenditure_2018</th>\n",
       "      <th>expenditure_2018_GBP</th>\n",
       "    </tr>\n",
       "  </thead>\n",
       "  <tbody>\n",
       "    <tr>\n",
       "      <th>0</th>\n",
       "      <td>1997</td>\n",
       "      <td>grocery_stores</td>\n",
       "      <td>270956.91</td>\n",
       "      <td>423875.807122</td>\n",
       "      <td>331152.511569</td>\n",
       "    </tr>\n",
       "    <tr>\n",
       "      <th>1</th>\n",
       "      <td>1998</td>\n",
       "      <td>grocery_stores</td>\n",
       "      <td>273638.88</td>\n",
       "      <td>421528.097543</td>\n",
       "      <td>329318.366023</td>\n",
       "    </tr>\n",
       "    <tr>\n",
       "      <th>2</th>\n",
       "      <td>1999</td>\n",
       "      <td>grocery_stores</td>\n",
       "      <td>283782.47</td>\n",
       "      <td>427793.590858</td>\n",
       "      <td>334213.275836</td>\n",
       "    </tr>\n",
       "    <tr>\n",
       "      <th>3</th>\n",
       "      <td>2000</td>\n",
       "      <td>grocery_stores</td>\n",
       "      <td>286669.78</td>\n",
       "      <td>418029.852893</td>\n",
       "      <td>326585.366209</td>\n",
       "    </tr>\n",
       "    <tr>\n",
       "      <th>4</th>\n",
       "      <td>2001</td>\n",
       "      <td>grocery_stores</td>\n",
       "      <td>296436.72</td>\n",
       "      <td>420391.299188</td>\n",
       "      <td>328430.243550</td>\n",
       "    </tr>\n",
       "  </tbody>\n",
       "</table>\n",
       "</div>"
      ],
      "text/plain": [
       "   year      store_type  expenditure  expenditure_2018  expenditure_2018_GBP\n",
       "0  1997  grocery_stores    270956.91     423875.807122         331152.511569\n",
       "1  1998  grocery_stores    273638.88     421528.097543         329318.366023\n",
       "2  1999  grocery_stores    283782.47     427793.590858         334213.275836\n",
       "3  2000  grocery_stores    286669.78     418029.852893         326585.366209\n",
       "4  2001  grocery_stores    296436.72     420391.299188         328430.243550"
      ]
     },
     "execution_count": 6,
     "metadata": {},
     "output_type": "execute_result"
    }
   ],
   "source": [
    "from datetime import date\n",
    "\n",
    "# Apply the convert_currency() method to the 'expenditure_2018' column\n",
    "# Use the exchange rate from Dec. 31, 2018, since our data are in 2018$\n",
    "data_constant_pounds = (\n",
    "    data_constant_dollar\n",
    "    .convert_currency(\n",
    "        column_name='expenditure_2018',\n",
    "        from_currency='USD',\n",
    "        to_currency='GBP',\n",
    "        historical_date=date(2018, 12, 31),\n",
    "        make_new_column=True\n",
    "    )\n",
    ")\n",
    "data_constant_pounds.head()                    "
   ]
  },
  {
   "cell_type": "markdown",
   "metadata": {},
   "source": [
    "## Plot Time Series to Observe Currency Conversion"
   ]
  },
  {
   "cell_type": "code",
   "execution_count": 7,
   "metadata": {},
   "outputs": [
    {
     "data": {
      "text/plain": [
       "<matplotlib.axes._subplots.AxesSubplot at 0x7f3ac63f6150>"
      ]
     },
     "execution_count": 7,
     "metadata": {},
     "output_type": "execute_result"
    },
    {
     "data": {
      "image/png": "[encoded data removed]",
      "text/plain": [
       "<Figure size 432x288 with 1 Axes>"
      ]
     },
     "metadata": {
      "needs_background": "light"
     },
     "output_type": "display_data"
    }
   ],
   "source": [
    "# You can see from this plot that GBP were worth more than USD on Dec. 31, 2018\n",
    "# (by about 1.3x, it appears)\n",
    "(\n",
    "    data_constant_pounds\n",
    "    .loc[data_constant_pounds['store_type'] == 'grocery_stores', :]\n",
    "    .set_index('year')\n",
    "    .drop(columns='store_type')\n",
    "    .plot()\n",
    ")"
   ]
  }
 ],
 "metadata": {
  "kernelspec": {
   "display_name": "Python 3",
   "language": "python",
   "name": "python3"
  },
  "language_info": {
   "codemirror_mode": {
    "name": "ipython",
    "version": 3
   },
   "file_extension": ".py",
   "mimetype": "text/x-python",
   "name": "python",
   "nbconvert_exporter": "python",
   "pygments_lexer": "ipython3",
   "version": "3.7.6"
  }
 },
 "nbformat": 4,
 "nbformat_minor": 4
}
