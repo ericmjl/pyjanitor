{
 "cells": [
  {
   "cell_type": "code",
   "execution_count": 1,
   "metadata": {
    "ExecuteTime": {
     "end_time": "2019-07-14T22:07:52.573748Z",
     "start_time": "2019-07-14T22:07:52.556228Z"
    }
   },
   "outputs": [],
   "source": [
    "%load_ext autoreload\n",
    "%autoreload 2"
   ]
  },
  {
   "cell_type": "code",
   "execution_count": 2,
   "metadata": {
    "ExecuteTime": {
     "end_time": "2019-07-14T22:07:53.347492Z",
     "start_time": "2019-07-14T22:07:52.576012Z"
    }
   },
   "outputs": [],
   "source": [
    "# Import pyjanitor and pandas\n",
    "from typing import Union\n",
    "import janitor\n",
    "import pandas as pd\n",
    "import pandas_flavor as pf"
   ]
  },
  {
   "cell_type": "code",
   "execution_count": 3,
   "metadata": {
    "ExecuteTime": {
     "end_time": "2019-07-14T22:07:53.375133Z",
     "start_time": "2019-07-14T22:07:53.350209Z"
    }
   },
   "outputs": [],
   "source": [
    "# Supress user warnings when we try overwriting our custom pandas flavor functions\n",
    "import warnings\n",
    "warnings.filterwarnings('ignore')"
   ]
  },
  {
   "cell_type": "code",
   "execution_count": 4,
   "metadata": {
    "ExecuteTime": {
     "end_time": "2019-07-14T22:07:53.803731Z",
     "start_time": "2019-07-14T22:07:53.377305Z"
    }
   },
   "outputs": [
    {
     "data": {
      "text/html": [
       "<div>\n",
       "<style scoped>\n",
       "    .dataframe tbody tr th:only-of-type {\n",
       "        vertical-align: middle;\n",
       "    }\n",
       "\n",
       "    .dataframe tbody tr th {\n",
       "        vertical-align: top;\n",
       "    }\n",
       "\n",
       "    .dataframe thead th {\n",
       "        text-align: right;\n",
       "    }\n",
       "</style>\n",
       "<table border=\"1\" class=\"dataframe\">\n",
       "  <thead>\n",
       "    <tr style=\"text-align: right;\">\n",
       "      <th></th>\n",
       "      <th>Franchise</th>\n",
       "      <th>Year of inception</th>\n",
       "      <th>Total revenue (USD)</th>\n",
       "      <th>Revenue breakdown (est.)</th>\n",
       "      <th>Original media</th>\n",
       "      <th>Creator(s)</th>\n",
       "      <th>Owner(s)</th>\n",
       "    </tr>\n",
       "  </thead>\n",
       "  <tbody>\n",
       "    <tr>\n",
       "      <th>0</th>\n",
       "      <td>Pokémon</td>\n",
       "      <td>1996</td>\n",
       "      <td>est. $90 billion</td>\n",
       "      <td>Licensed merchandise – $61.1 billion[a] Video ...</td>\n",
       "      <td>Video game</td>\n",
       "      <td>Satoshi Tajiri Ken Sugimori</td>\n",
       "      <td>Nintendo (trademark) The Pokémon Company (Nint...</td>\n",
       "    </tr>\n",
       "    <tr>\n",
       "      <th>1</th>\n",
       "      <td>Hello Kitty</td>\n",
       "      <td>1974</td>\n",
       "      <td>est. $80 billion</td>\n",
       "      <td>Merchandise sales – $80 billion[j] Manga magaz...</td>\n",
       "      <td>Cartoon character[37]</td>\n",
       "      <td>Yuko Shimizu Shintaro Tsuji</td>\n",
       "      <td>Sanrio</td>\n",
       "    </tr>\n",
       "    <tr>\n",
       "      <th>2</th>\n",
       "      <td>Winnie the Pooh</td>\n",
       "      <td>1924</td>\n",
       "      <td>est. $75 billion</td>\n",
       "      <td>Retail sales – $74.515 billion[n] DVD &amp; Blu-ra...</td>\n",
       "      <td>Book[58]</td>\n",
       "      <td>A. A. Milne E. H. Shepard</td>\n",
       "      <td>The Walt Disney Company</td>\n",
       "    </tr>\n",
       "    <tr>\n",
       "      <th>3</th>\n",
       "      <td>Mickey Mouse &amp; Friends</td>\n",
       "      <td>1928</td>\n",
       "      <td>est. $70 billion</td>\n",
       "      <td>Retail sales – $69.85 billion[o] VHS &amp; DVD – $...</td>\n",
       "      <td>Animated cartoon</td>\n",
       "      <td>Walt Disney Ub Iwerks</td>\n",
       "      <td>The Walt Disney Company</td>\n",
       "    </tr>\n",
       "    <tr>\n",
       "      <th>4</th>\n",
       "      <td>Star Wars</td>\n",
       "      <td>1977</td>\n",
       "      <td>est. $65 billion</td>\n",
       "      <td>Merchandise sales – $40.294 billion[r] Box off...</td>\n",
       "      <td>Film</td>\n",
       "      <td>George Lucas</td>\n",
       "      <td>Lucasfilm (The Walt Disney Company)</td>\n",
       "    </tr>\n",
       "  </tbody>\n",
       "</table>\n",
       "</div>"
      ],
      "text/plain": [
       "                Franchise  Year of inception Total revenue (USD)  \\\n",
       "0                 Pokémon               1996    est. $90 billion   \n",
       "1             Hello Kitty               1974    est. $80 billion   \n",
       "2         Winnie the Pooh               1924    est. $75 billion   \n",
       "3  Mickey Mouse & Friends               1928    est. $70 billion   \n",
       "4               Star Wars               1977    est. $65 billion   \n",
       "\n",
       "                            Revenue breakdown (est.)         Original media  \\\n",
       "0  Licensed merchandise – $61.1 billion[a] Video ...             Video game   \n",
       "1  Merchandise sales – $80 billion[j] Manga magaz...  Cartoon character[37]   \n",
       "2  Retail sales – $74.515 billion[n] DVD & Blu-ra...               Book[58]   \n",
       "3  Retail sales – $69.85 billion[o] VHS & DVD – $...       Animated cartoon   \n",
       "4  Merchandise sales – $40.294 billion[r] Box off...                   Film   \n",
       "\n",
       "                    Creator(s)  \\\n",
       "0  Satoshi Tajiri Ken Sugimori   \n",
       "1  Yuko Shimizu Shintaro Tsuji   \n",
       "2    A. A. Milne E. H. Shepard   \n",
       "3        Walt Disney Ub Iwerks   \n",
       "4                 George Lucas   \n",
       "\n",
       "                                            Owner(s)  \n",
       "0  Nintendo (trademark) The Pokémon Company (Nint...  \n",
       "1                                             Sanrio  \n",
       "2                            The Walt Disney Company  \n",
       "3                            The Walt Disney Company  \n",
       "4                Lucasfilm (The Walt Disney Company)  "
      ]
     },
     "execution_count": 4,
     "metadata": {},
     "output_type": "execute_result"
    }
   ],
   "source": [
    "fileurl = 'https://en.wikipedia.org/wiki/List_of_highest-grossing_media_franchises'\n",
    "df_raw = pd.read_html(fileurl)[1]\n",
    "df_raw.head()"
   ]
  },
  {
   "cell_type": "code",
   "execution_count": 5,
   "metadata": {
    "ExecuteTime": {
     "end_time": "2019-07-14T22:07:53.843107Z",
     "start_time": "2019-07-14T22:07:53.805554Z"
    }
   },
   "outputs": [
    {
     "data": {
      "text/html": [
       "<div>\n",
       "<style scoped>\n",
       "    .dataframe tbody tr th:only-of-type {\n",
       "        vertical-align: middle;\n",
       "    }\n",
       "\n",
       "    .dataframe tbody tr th {\n",
       "        vertical-align: top;\n",
       "    }\n",
       "\n",
       "    .dataframe thead th {\n",
       "        text-align: right;\n",
       "    }\n",
       "</style>\n",
       "<table border=\"1\" class=\"dataframe\">\n",
       "  <thead>\n",
       "    <tr style=\"text-align: right;\">\n",
       "      <th></th>\n",
       "      <th>franchise</th>\n",
       "      <th>year_of_inception</th>\n",
       "      <th>total_revenue_usd_</th>\n",
       "      <th>revenue_breakdown_est_</th>\n",
       "      <th>original_media</th>\n",
       "      <th>creator_s_</th>\n",
       "      <th>owner_s_</th>\n",
       "    </tr>\n",
       "  </thead>\n",
       "  <tbody>\n",
       "    <tr>\n",
       "      <th>0</th>\n",
       "      <td>Pokémon</td>\n",
       "      <td>1996</td>\n",
       "      <td>est. $90 billion</td>\n",
       "      <td>Licensed merchandise – $61.1 billion[a] Video ...</td>\n",
       "      <td>Video game</td>\n",
       "      <td>Satoshi Tajiri Ken Sugimori</td>\n",
       "      <td>Nintendo (trademark) The Pokémon Company (Nint...</td>\n",
       "    </tr>\n",
       "    <tr>\n",
       "      <th>1</th>\n",
       "      <td>Hello Kitty</td>\n",
       "      <td>1974</td>\n",
       "      <td>est. $80 billion</td>\n",
       "      <td>Merchandise sales – $80 billion[j] Manga magaz...</td>\n",
       "      <td>Cartoon character[37]</td>\n",
       "      <td>Yuko Shimizu Shintaro Tsuji</td>\n",
       "      <td>Sanrio</td>\n",
       "    </tr>\n",
       "    <tr>\n",
       "      <th>2</th>\n",
       "      <td>Winnie the Pooh</td>\n",
       "      <td>1924</td>\n",
       "      <td>est. $75 billion</td>\n",
       "      <td>Retail sales – $74.515 billion[n] DVD &amp; Blu-ra...</td>\n",
       "      <td>Book[58]</td>\n",
       "      <td>A. A. Milne E. H. Shepard</td>\n",
       "      <td>The Walt Disney Company</td>\n",
       "    </tr>\n",
       "    <tr>\n",
       "      <th>3</th>\n",
       "      <td>Mickey Mouse &amp; Friends</td>\n",
       "      <td>1928</td>\n",
       "      <td>est. $70 billion</td>\n",
       "      <td>Retail sales – $69.85 billion[o] VHS &amp; DVD – $...</td>\n",
       "      <td>Animated cartoon</td>\n",
       "      <td>Walt Disney Ub Iwerks</td>\n",
       "      <td>The Walt Disney Company</td>\n",
       "    </tr>\n",
       "    <tr>\n",
       "      <th>4</th>\n",
       "      <td>Star Wars</td>\n",
       "      <td>1977</td>\n",
       "      <td>est. $65 billion</td>\n",
       "      <td>Merchandise sales – $40.294 billion[r] Box off...</td>\n",
       "      <td>Film</td>\n",
       "      <td>George Lucas</td>\n",
       "      <td>Lucasfilm (The Walt Disney Company)</td>\n",
       "    </tr>\n",
       "  </tbody>\n",
       "</table>\n",
       "</div>"
      ],
      "text/plain": [
       "                franchise  year_of_inception total_revenue_usd_  \\\n",
       "0                 Pokémon               1996   est. $90 billion   \n",
       "1             Hello Kitty               1974   est. $80 billion   \n",
       "2         Winnie the Pooh               1924   est. $75 billion   \n",
       "3  Mickey Mouse & Friends               1928   est. $70 billion   \n",
       "4               Star Wars               1977   est. $65 billion   \n",
       "\n",
       "                              revenue_breakdown_est_         original_media  \\\n",
       "0  Licensed merchandise – $61.1 billion[a] Video ...             Video game   \n",
       "1  Merchandise sales – $80 billion[j] Manga magaz...  Cartoon character[37]   \n",
       "2  Retail sales – $74.515 billion[n] DVD & Blu-ra...               Book[58]   \n",
       "3  Retail sales – $69.85 billion[o] VHS & DVD – $...       Animated cartoon   \n",
       "4  Merchandise sales – $40.294 billion[r] Box off...                   Film   \n",
       "\n",
       "                    creator_s_  \\\n",
       "0  Satoshi Tajiri Ken Sugimori   \n",
       "1  Yuko Shimizu Shintaro Tsuji   \n",
       "2    A. A. Milne E. H. Shepard   \n",
       "3        Walt Disney Ub Iwerks   \n",
       "4                 George Lucas   \n",
       "\n",
       "                                            owner_s_  \n",
       "0  Nintendo (trademark) The Pokémon Company (Nint...  \n",
       "1                                             Sanrio  \n",
       "2                            The Walt Disney Company  \n",
       "3                            The Walt Disney Company  \n",
       "4                Lucasfilm (The Walt Disney Company)  "
      ]
     },
     "execution_count": 5,
     "metadata": {},
     "output_type": "execute_result"
    }
   ],
   "source": [
    "df_raw.clean_names().head()"
   ]
  },
  {
   "cell_type": "markdown",
   "metadata": {},
   "source": [
    "### Section 1\n",
    "Step 1.1 rename columns\n",
    "> ```clean_money <- df %>% \n",
    "> set_names(nm = c(\"franchise\", \"year_created\", \"total_revenue\", \"revenue_items\",\n",
    ">                   \"original_media\", \"creators\", \"owners\")) %>%```\n",
    "\n",
    "Step 1.2 clean up `total_revenue` column\n",
    "> ```mutate(total_revenue = str_remove(total_revenue, \"est.\"),\n",
    ">         total_revenue = str_trim(total_revenue),\n",
    ">         total_revenue = str_remove(total_revenue, \"[$]\"),\n",
    ">         total_revenue = word(total_revenue, 1, 1),\n",
    ">         total_revenue = as.double(total_revenue))```"
   ]
  },
  {
   "cell_type": "code",
   "execution_count": 6,
   "metadata": {
    "ExecuteTime": {
     "end_time": "2019-07-14T22:07:53.875713Z",
     "start_time": "2019-07-14T22:07:53.845164Z"
    }
   },
   "outputs": [],
   "source": [
    "# Section 1: Set up panda_flavor helper functions\n",
    "\n",
    "@pf.register_dataframe_method\n",
    "def str_remove(df, column_name: str = '', pattern: str = ''):\n",
    "    \"\"\"Wrapper around df.str.replace\"\"\"\n",
    "    df[column_name] = df[column_name].str.replace(pattern, '')\n",
    "    return df\n",
    "\n",
    "\n",
    "@pf.register_dataframe_method\n",
    "def str_trim(df, column_name: str):\n",
    "    \"\"\"Remove trailing and leading white space\"\"\"\n",
    "    df[column_name] = df[column_name].str.strip()\n",
    "    return df\n",
    "\n",
    "\n",
    "@pf.register_dataframe_method\n",
    "def str_slice(\n",
    "    df, column_name: str = '', start: int = None, stop: int = None\n",
    "):\n",
    "    \"\"\"\n",
    "    Wrapper around `df.str.slice`\n",
    "    \"\"\"\n",
    "    df[column_name] = df[column_name].str[start:stop]\n",
    "    return df\n",
    "\n",
    "@pf.register_dataframe_method\n",
    "def as_type(df, column_name: str = '', datatype: Union[type, str] = float):\n",
    "    \"\"\"Wrapper around df.astype\"\"\"\n",
    "    df[column_name] = df[column_name].astype(datatype)\n",
    "    return df"
   ]
  },
  {
   "cell_type": "code",
   "execution_count": 7,
   "metadata": {
    "ExecuteTime": {
     "end_time": "2019-07-14T22:07:53.904815Z",
     "start_time": "2019-07-14T22:07:53.877545Z"
    }
   },
   "outputs": [],
   "source": [
    "# Step 1.1: rename columns\n",
    "# Repliate R behavior:\n",
    "# set_names(nm = c(\"franchise\", \"year_created\", \"total_revenue\", \"revenue_items\",\n",
    "#                  \"original_media\", \"creators\", \"owners\")) \n",
    "colnames = (\n",
    "    'franchise', 'year_created', 'total_revenue', 'revenue_items',\n",
    "    'original_media', 'creators', 'owners'\n",
    ")\n",
    "df_dirty = df_raw.rename(columns={\n",
    "    col_old: col_new for col_old, col_new in zip(df_raw.columns, colnames)\n",
    "})"
   ]
  },
  {
   "cell_type": "code",
   "execution_count": 8,
   "metadata": {
    "ExecuteTime": {
     "end_time": "2019-07-14T22:07:53.938790Z",
     "start_time": "2019-07-14T22:07:53.908021Z"
    }
   },
   "outputs": [],
   "source": [
    "# Step 1.2: clean up `total_revenue` column\n",
    "# Replicate R behavior:\n",
    "# mutate(total_revenue = str_remove(total_revenue, \"est.\"),\n",
    "#         total_revenue = str_trim(total_revenue),\n",
    "#         total_revenue = str_remove(total_revenue, \"[$]\"),\n",
    "#         total_revenue = word(total_revenue, 1, 1),\n",
    "#         total_revenue = as.double(total_revenue))\n",
    "column_name = 'total_revenue'\n",
    "df_cleanmoney = (\n",
    "    df_dirty.str_remove(column_name=column_name, pattern='est.')\n",
    "        .str_trim(column_name=column_name)\n",
    "        .str_remove(column_name=column_name, pattern='[$]')\n",
    "        .str_slice(column_name=column_name, start=0, stop=2)\n",
    "        .as_type(column_name=column_name, datatype=float)\n",
    ")"
   ]
  },
  {
   "cell_type": "code",
   "execution_count": 9,
   "metadata": {
    "ExecuteTime": {
     "end_time": "2019-07-14T22:07:53.973034Z",
     "start_time": "2019-07-14T22:07:53.941104Z"
    }
   },
   "outputs": [
    {
     "data": {
      "text/html": [
       "<div>\n",
       "<style scoped>\n",
       "    .dataframe tbody tr th:only-of-type {\n",
       "        vertical-align: middle;\n",
       "    }\n",
       "\n",
       "    .dataframe tbody tr th {\n",
       "        vertical-align: top;\n",
       "    }\n",
       "\n",
       "    .dataframe thead th {\n",
       "        text-align: right;\n",
       "    }\n",
       "</style>\n",
       "<table border=\"1\" class=\"dataframe\">\n",
       "  <thead>\n",
       "    <tr style=\"text-align: right;\">\n",
       "      <th></th>\n",
       "      <th>franchise</th>\n",
       "      <th>year_created</th>\n",
       "      <th>total_revenue</th>\n",
       "      <th>revenue_items</th>\n",
       "      <th>original_media</th>\n",
       "      <th>creators</th>\n",
       "      <th>owners</th>\n",
       "    </tr>\n",
       "  </thead>\n",
       "  <tbody>\n",
       "    <tr>\n",
       "      <th>0</th>\n",
       "      <td>Pokémon</td>\n",
       "      <td>1996</td>\n",
       "      <td>90.0</td>\n",
       "      <td>Licensed merchandise – $61.1 billion[a] Video ...</td>\n",
       "      <td>Video game</td>\n",
       "      <td>Satoshi Tajiri Ken Sugimori</td>\n",
       "      <td>Nintendo (trademark) The Pokémon Company (Nint...</td>\n",
       "    </tr>\n",
       "    <tr>\n",
       "      <th>1</th>\n",
       "      <td>Hello Kitty</td>\n",
       "      <td>1974</td>\n",
       "      <td>80.0</td>\n",
       "      <td>Merchandise sales – $80 billion[j] Manga magaz...</td>\n",
       "      <td>Cartoon character[37]</td>\n",
       "      <td>Yuko Shimizu Shintaro Tsuji</td>\n",
       "      <td>Sanrio</td>\n",
       "    </tr>\n",
       "    <tr>\n",
       "      <th>2</th>\n",
       "      <td>Winnie the Pooh</td>\n",
       "      <td>1924</td>\n",
       "      <td>75.0</td>\n",
       "      <td>Retail sales – $74.515 billion[n] DVD &amp; Blu-ra...</td>\n",
       "      <td>Book[58]</td>\n",
       "      <td>A. A. Milne E. H. Shepard</td>\n",
       "      <td>The Walt Disney Company</td>\n",
       "    </tr>\n",
       "  </tbody>\n",
       "</table>\n",
       "</div>"
      ],
      "text/plain": [
       "         franchise  year_created  total_revenue  \\\n",
       "0          Pokémon          1996           90.0   \n",
       "1      Hello Kitty          1974           80.0   \n",
       "2  Winnie the Pooh          1924           75.0   \n",
       "\n",
       "                                       revenue_items         original_media  \\\n",
       "0  Licensed merchandise – $61.1 billion[a] Video ...             Video game   \n",
       "1  Merchandise sales – $80 billion[j] Manga magaz...  Cartoon character[37]   \n",
       "2  Retail sales – $74.515 billion[n] DVD & Blu-ra...               Book[58]   \n",
       "\n",
       "                      creators  \\\n",
       "0  Satoshi Tajiri Ken Sugimori   \n",
       "1  Yuko Shimizu Shintaro Tsuji   \n",
       "2    A. A. Milne E. H. Shepard   \n",
       "\n",
       "                                              owners  \n",
       "0  Nintendo (trademark) The Pokémon Company (Nint...  \n",
       "1                                             Sanrio  \n",
       "2                            The Walt Disney Company  "
      ]
     },
     "metadata": {},
     "output_type": "display_data"
    }
   ],
   "source": [
    "# Check output\n",
    "display(df_cleanmoney.head(3))"
   ]
  },
  {
   "cell_type": "markdown",
   "metadata": {},
   "source": [
    "### Section 2\n",
    ">```clean_category <- clean_money %>% \n",
    "> separate_rows(revenue_items, sep = \"\\\\[\") %>% \n",
    "  filter(str_detect(revenue_items, \"illion\")) %>% \n",
    "  separate(revenue_items, into = c(\"revenue_category\", \"revenue\"), sep = \"[$]\") %>% \n",
    "  mutate(revenue_category = str_remove(revenue_category, \" – \"),\n",
    "         revenue_category = str_remove(revenue_category, regex(\".*\\\\]\")),\n",
    ">        revenue_category = str_remove(revenue_category, \"\\n\"))```"
   ]
  },
  {
   "cell_type": "code",
   "execution_count": 10,
   "metadata": {
    "ExecuteTime": {
     "end_time": "2019-07-14T22:07:54.002774Z",
     "start_time": "2019-07-14T22:07:53.974850Z"
    }
   },
   "outputs": [],
   "source": [
    "# Section 2: Set up panda_flavor helper functions\n",
    "@pf.register_dataframe_method\n",
    "def separate_rows(df, column_name: str = '', sep: str = ''):\n",
    "    \"\"\"\n",
    "    Split cells (for the specified column) that contains a list of items\n",
    "    that are separated by `sep` into individual rows\n",
    "    This uses pyjanitor method `filter_string`\n",
    "    \"\"\"\n",
    "    df['id'] = df.index\n",
    "    wdf = (\n",
    "        pd.DataFrame(\n",
    "            df[column_name].str.split(sep).tolist()\n",
    "        ).stack().reset_index()\n",
    "    )\n",
    "    wdf.rename(columns={'level_0': 'id', 0: 'revenue_items'}, inplace=True)\n",
    "    wdf.drop(columns=['level_1'], inplace=True)\n",
    "    # Preserve an id field for later merge\n",
    "    return pd.merge(df, wdf, on=\"id\", suffixes=(\"_drop\", \"\")).drop(\n",
    "        columns=[\"id\", column_name + \"_drop\"]\n",
    "    )"
   ]
  },
  {
   "cell_type": "code",
   "execution_count": 32,
   "metadata": {
    "ExecuteTime": {
     "end_time": "2019-07-14T22:10:32.361931Z",
     "start_time": "2019-07-14T22:10:32.314365Z"
    }
   },
   "outputs": [],
   "source": [
    "column_name = 'revenue_items'\n",
    "df_cleancategory = (\n",
    "    df_cleanmoney.separate_rows(column_name=column_name, sep='\\[')\n",
    "        .filter_string(column_name, 'illion')\n",
    "        .deconcatenate_column(\n",
    "            column_name=column_name,\n",
    "            new_column_names=['revenue_category', 'revenue'], sep='–'\n",
    "        )\n",
    "        .str_remove(column_name='revenue_category', pattern=' – ')\n",
    "        .str_remove(column_name='revenue_category', pattern='.*\\]')\n",
    "        .str_remove(column_name='revenue_category', pattern='\\n')\n",
    ")"
   ]
  },
  {
   "cell_type": "code",
   "execution_count": 33,
   "metadata": {
    "ExecuteTime": {
     "end_time": "2019-07-14T22:10:32.782194Z",
     "start_time": "2019-07-14T22:10:32.747170Z"
    }
   },
   "outputs": [
    {
     "data": {
      "text/html": [
       "<div>\n",
       "<style scoped>\n",
       "    .dataframe tbody tr th:only-of-type {\n",
       "        vertical-align: middle;\n",
       "    }\n",
       "\n",
       "    .dataframe tbody tr th {\n",
       "        vertical-align: top;\n",
       "    }\n",
       "\n",
       "    .dataframe thead th {\n",
       "        text-align: right;\n",
       "    }\n",
       "</style>\n",
       "<table border=\"1\" class=\"dataframe\">\n",
       "  <thead>\n",
       "    <tr style=\"text-align: right;\">\n",
       "      <th></th>\n",
       "      <th>franchise</th>\n",
       "      <th>year_created</th>\n",
       "      <th>total_revenue</th>\n",
       "      <th>original_media</th>\n",
       "      <th>creators</th>\n",
       "      <th>owners</th>\n",
       "      <th>revenue_items</th>\n",
       "      <th>revenue_category</th>\n",
       "      <th>revenue</th>\n",
       "    </tr>\n",
       "  </thead>\n",
       "  <tbody>\n",
       "    <tr>\n",
       "      <th>0</th>\n",
       "      <td>Pokémon</td>\n",
       "      <td>1996</td>\n",
       "      <td>90.0</td>\n",
       "      <td>Video game</td>\n",
       "      <td>Satoshi Tajiri Ken Sugimori</td>\n",
       "      <td>Nintendo (trademark) The Pokémon Company (Nint...</td>\n",
       "      <td>Licensed merchandise – $61.1 billion</td>\n",
       "      <td>Licensed merchandise</td>\n",
       "      <td>$61.1 billion</td>\n",
       "    </tr>\n",
       "    <tr>\n",
       "      <th>1</th>\n",
       "      <td>Pokémon</td>\n",
       "      <td>1996</td>\n",
       "      <td>90.0</td>\n",
       "      <td>Video game</td>\n",
       "      <td>Satoshi Tajiri Ken Sugimori</td>\n",
       "      <td>Nintendo (trademark) The Pokémon Company (Nint...</td>\n",
       "      <td>a] Video games – $17.138 billion</td>\n",
       "      <td>Video games</td>\n",
       "      <td>$17.138 billion</td>\n",
       "    </tr>\n",
       "    <tr>\n",
       "      <th>2</th>\n",
       "      <td>Pokémon</td>\n",
       "      <td>1996</td>\n",
       "      <td>90.0</td>\n",
       "      <td>Video game</td>\n",
       "      <td>Satoshi Tajiri Ken Sugimori</td>\n",
       "      <td>Nintendo (trademark) The Pokémon Company (Nint...</td>\n",
       "      <td>b] Card game – $10.853 billion</td>\n",
       "      <td>Card game</td>\n",
       "      <td>$10.853 billion</td>\n",
       "    </tr>\n",
       "    <tr>\n",
       "      <th>3</th>\n",
       "      <td>Pokémon</td>\n",
       "      <td>1996</td>\n",
       "      <td>90.0</td>\n",
       "      <td>Video game</td>\n",
       "      <td>Satoshi Tajiri Ken Sugimori</td>\n",
       "      <td>Nintendo (trademark) The Pokémon Company (Nint...</td>\n",
       "      <td>c] Box office – $1.857 billion</td>\n",
       "      <td>Box office</td>\n",
       "      <td>$1.857 billion</td>\n",
       "    </tr>\n",
       "    <tr>\n",
       "      <th>4</th>\n",
       "      <td>Pokémon</td>\n",
       "      <td>1996</td>\n",
       "      <td>90.0</td>\n",
       "      <td>Video game</td>\n",
       "      <td>Satoshi Tajiri Ken Sugimori</td>\n",
       "      <td>Nintendo (trademark) The Pokémon Company (Nint...</td>\n",
       "      <td>d] Manga sales – $1.46 billion</td>\n",
       "      <td>Manga sales</td>\n",
       "      <td>$1.46 billion</td>\n",
       "    </tr>\n",
       "  </tbody>\n",
       "</table>\n",
       "</div>"
      ],
      "text/plain": [
       "  franchise  year_created  total_revenue original_media  \\\n",
       "0   Pokémon          1996           90.0     Video game   \n",
       "1   Pokémon          1996           90.0     Video game   \n",
       "2   Pokémon          1996           90.0     Video game   \n",
       "3   Pokémon          1996           90.0     Video game   \n",
       "4   Pokémon          1996           90.0     Video game   \n",
       "\n",
       "                      creators  \\\n",
       "0  Satoshi Tajiri Ken Sugimori   \n",
       "1  Satoshi Tajiri Ken Sugimori   \n",
       "2  Satoshi Tajiri Ken Sugimori   \n",
       "3  Satoshi Tajiri Ken Sugimori   \n",
       "4  Satoshi Tajiri Ken Sugimori   \n",
       "\n",
       "                                              owners  \\\n",
       "0  Nintendo (trademark) The Pokémon Company (Nint...   \n",
       "1  Nintendo (trademark) The Pokémon Company (Nint...   \n",
       "2  Nintendo (trademark) The Pokémon Company (Nint...   \n",
       "3  Nintendo (trademark) The Pokémon Company (Nint...   \n",
       "4  Nintendo (trademark) The Pokémon Company (Nint...   \n",
       "\n",
       "                          revenue_items       revenue_category  \\\n",
       "0  Licensed merchandise – $61.1 billion  Licensed merchandise    \n",
       "1      a] Video games – $17.138 billion           Video games    \n",
       "2        b] Card game – $10.853 billion             Card game    \n",
       "3        c] Box office – $1.857 billion            Box office    \n",
       "4        d] Manga sales – $1.46 billion           Manga sales    \n",
       "\n",
       "            revenue  \n",
       "0     $61.1 billion  \n",
       "1   $17.138 billion  \n",
       "2   $10.853 billion  \n",
       "3    $1.857 billion  \n",
       "4     $1.46 billion  "
      ]
     },
     "execution_count": 33,
     "metadata": {},
     "output_type": "execute_result"
    }
   ],
   "source": [
    "df_cleancategory.head()"
   ]
  },
  {
   "cell_type": "code",
   "execution_count": null,
   "metadata": {},
   "outputs": [],
   "source": []
  }
 ],
 "metadata": {
  "kernelspec": {
   "display_name": "pyjanitor-dev",
   "language": "python",
   "name": "pyjanitor-dev"
  },
  "language_info": {
   "codemirror_mode": {
    "name": "ipython",
    "version": 3
   },
   "file_extension": ".py",
   "mimetype": "text/x-python",
   "name": "python",
   "nbconvert_exporter": "python",
   "pygments_lexer": "ipython3",
   "version": "3.7.3"
  },
  "toc": {
   "base_numbering": 1,
   "nav_menu": {},
   "number_sections": true,
   "sideBar": true,
   "skip_h1_title": false,
   "title_cell": "Table of Contents",
   "title_sidebar": "Contents",
   "toc_cell": false,
   "toc_position": {},
   "toc_section_display": true,
   "toc_window_display": false
  }
 },
 "nbformat": 4,
 "nbformat_minor": 2
}
