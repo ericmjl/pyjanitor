{
 "metadata": {
  "language_info": {
   "codemirror_mode": {
    "name": "ipython",
    "version": 3
   },
   "file_extension": ".py",
   "mimetype": "text/x-python",
   "name": "python",
   "nbconvert_exporter": "python",
   "pygments_lexer": "ipython3",
   "version": "3.7.7-final"
  },
  "orig_nbformat": 2,
  "kernelspec": {
   "name": "Python 3.7.7 64-bit ('base': conda)",
   "display_name": "Python 3.7.7 64-bit ('base': conda)",
   "metadata": {
    "interpreter": {
     "hash": "98b0a9b7b4eaaa670588a142fd0a9b87eaafe866f1db4228be72b4211d12040f"
    }
   }
  }
 },
 "nbformat": 4,
 "nbformat_minor": 2,
 "cells": [
  {
   "cell_type": "code",
   "execution_count": 72,
   "metadata": {},
   "outputs": [],
   "source": [
    "import janitor\n",
    "import pandas as pd\n",
    "import numpy as np"
   ]
  },
  {
   "source": [
    "Unpivoting(reshaping data from wide to long form) in Pandas is executed either through [pd.melt](https://pandas.pydata.org/docs/reference/api/pandas.melt.html),[pd.wide_to_long](https://pandas.pydata.org/pandas-docs/stable/reference/api/pandas.wide_to_long.html), or [pd.stack](https://pandas.pydata.org/pandas-docs/stable/reference/api/pandas.DataFrame.stack.html). However, there are scenarios where a few more steps are required to massage the data into the long form we desire. Take the dataframe below, copied from [Stack Overflow](https://stackoverflow.com/questions/64061588/pandas-melt-multiple-columns-to-tabulate-a-dataset#64062002): "
   ],
   "cell_type": "markdown",
   "metadata": {}
  },
  {
   "cell_type": "code",
   "execution_count": 73,
   "metadata": {
    "tags": []
   },
   "outputs": [
    {
     "output_type": "execute_result",
     "data": {
      "text/plain": "   id  M_start_date_1  M_end_date_1  M_start_date_2  M_end_date_2  \\\n0   1          201709        201905          202004        202005   \n1   2          201709        201905          202004        202005   \n2   3          201709        201905          202004        202005   \n\n   F_start_date_1  F_end_date_1  F_start_date_2  F_end_date_2  \n0          201803        201904          201912        202007  \n1          201803        201904          201912        202007  \n2          201803        201904          201912        202007  ",
      "text/html": "<div>\n<style scoped>\n    .dataframe tbody tr th:only-of-type {\n        vertical-align: middle;\n    }\n\n    .dataframe tbody tr th {\n        vertical-align: top;\n    }\n\n    .dataframe thead th {\n        text-align: right;\n    }\n</style>\n<table border=\"1\" class=\"dataframe\">\n  <thead>\n    <tr style=\"text-align: right;\">\n      <th></th>\n      <th>id</th>\n      <th>M_start_date_1</th>\n      <th>M_end_date_1</th>\n      <th>M_start_date_2</th>\n      <th>M_end_date_2</th>\n      <th>F_start_date_1</th>\n      <th>F_end_date_1</th>\n      <th>F_start_date_2</th>\n      <th>F_end_date_2</th>\n    </tr>\n  </thead>\n  <tbody>\n    <tr>\n      <th>0</th>\n      <td>1</td>\n      <td>201709</td>\n      <td>201905</td>\n      <td>202004</td>\n      <td>202005</td>\n      <td>201803</td>\n      <td>201904</td>\n      <td>201912</td>\n      <td>202007</td>\n    </tr>\n    <tr>\n      <th>1</th>\n      <td>2</td>\n      <td>201709</td>\n      <td>201905</td>\n      <td>202004</td>\n      <td>202005</td>\n      <td>201803</td>\n      <td>201904</td>\n      <td>201912</td>\n      <td>202007</td>\n    </tr>\n    <tr>\n      <th>2</th>\n      <td>3</td>\n      <td>201709</td>\n      <td>201905</td>\n      <td>202004</td>\n      <td>202005</td>\n      <td>201803</td>\n      <td>201904</td>\n      <td>201912</td>\n      <td>202007</td>\n    </tr>\n  </tbody>\n</table>\n</div>"
     },
     "metadata": {},
     "execution_count": 73
    }
   ],
   "source": [
    "df = pd.DataFrame(\n",
    "        {\n",
    "            \"id\": [1, 2, 3],\n",
    "            \"M_start_date_1\": [201709, 201709, 201709],\n",
    "            \"M_end_date_1\": [201905, 201905, 201905],\n",
    "            \"M_start_date_2\": [202004, 202004, 202004],\n",
    "            \"M_end_date_2\": [202005, 202005, 202005],\n",
    "            \"F_start_date_1\": [201803, 201803, 201803],\n",
    "            \"F_end_date_1\": [201904, 201904, 201904],\n",
    "            \"F_start_date_2\": [201912, 201912, 201912],\n",
    "            \"F_end_date_2\": [202007, 202007, 202007],\n",
    "        }\n",
    "    )\n",
    "\n",
    "df"
   ]
  },
  {
   "source": [
    "A [beautiful solution](https://stackoverflow.com/a/64062027/7175713) was proferred : "
   ],
   "cell_type": "markdown",
   "metadata": {}
  },
  {
   "cell_type": "code",
   "execution_count": 74,
   "metadata": {},
   "outputs": [
    {
     "output_type": "execute_result",
     "data": {
      "text/plain": "    id cod   start     end\n0    1   M  201709  201905\n1    1   M  202004  202005\n2    1   F  201803  201904\n3    1   F  201912  202007\n4    2   M  201709  201905\n5    2   M  202004  202005\n6    2   F  201803  201904\n7    2   F  201912  202007\n8    3   M  201709  201905\n9    3   M  202004  202005\n10   3   F  201803  201904\n11   3   F  201912  202007",
      "text/html": "<div>\n<style scoped>\n    .dataframe tbody tr th:only-of-type {\n        vertical-align: middle;\n    }\n\n    .dataframe tbody tr th {\n        vertical-align: top;\n    }\n\n    .dataframe thead th {\n        text-align: right;\n    }\n</style>\n<table border=\"1\" class=\"dataframe\">\n  <thead>\n    <tr style=\"text-align: right;\">\n      <th></th>\n      <th>id</th>\n      <th>cod</th>\n      <th>start</th>\n      <th>end</th>\n    </tr>\n  </thead>\n  <tbody>\n    <tr>\n      <th>0</th>\n      <td>1</td>\n      <td>M</td>\n      <td>201709</td>\n      <td>201905</td>\n    </tr>\n    <tr>\n      <th>1</th>\n      <td>1</td>\n      <td>M</td>\n      <td>202004</td>\n      <td>202005</td>\n    </tr>\n    <tr>\n      <th>2</th>\n      <td>1</td>\n      <td>F</td>\n      <td>201803</td>\n      <td>201904</td>\n    </tr>\n    <tr>\n      <th>3</th>\n      <td>1</td>\n      <td>F</td>\n      <td>201912</td>\n      <td>202007</td>\n    </tr>\n    <tr>\n      <th>4</th>\n      <td>2</td>\n      <td>M</td>\n      <td>201709</td>\n      <td>201905</td>\n    </tr>\n    <tr>\n      <th>5</th>\n      <td>2</td>\n      <td>M</td>\n      <td>202004</td>\n      <td>202005</td>\n    </tr>\n    <tr>\n      <th>6</th>\n      <td>2</td>\n      <td>F</td>\n      <td>201803</td>\n      <td>201904</td>\n    </tr>\n    <tr>\n      <th>7</th>\n      <td>2</td>\n      <td>F</td>\n      <td>201912</td>\n      <td>202007</td>\n    </tr>\n    <tr>\n      <th>8</th>\n      <td>3</td>\n      <td>M</td>\n      <td>201709</td>\n      <td>201905</td>\n    </tr>\n    <tr>\n      <th>9</th>\n      <td>3</td>\n      <td>M</td>\n      <td>202004</td>\n      <td>202005</td>\n    </tr>\n    <tr>\n      <th>10</th>\n      <td>3</td>\n      <td>F</td>\n      <td>201803</td>\n      <td>201904</td>\n    </tr>\n    <tr>\n      <th>11</th>\n      <td>3</td>\n      <td>F</td>\n      <td>201912</td>\n      <td>202007</td>\n    </tr>\n  </tbody>\n</table>\n</div>"
     },
     "metadata": {},
     "execution_count": 74
    }
   ],
   "source": [
    "df1 = df.set_index('id')\n",
    "df1.columns = df1.columns.str.split('_', expand=True)\n",
    "df1 = (df1.stack(level=[0,2,3])\n",
    "          .sort_index(level=[0,1], ascending=[True, False])\n",
    "          .reset_index(level=[2,3], drop=True)\n",
    "          .sort_index(axis=1, ascending=False)\n",
    "          .rename_axis(['id','cod'])\n",
    "          .reset_index())\n",
    "\n",
    "df1"
   ]
  },
  {
   "source": [
    "We propose an alternative, based on [pandas melt](https://pandas.pydata.org/docs/reference/api/pandas.melt.html), that abstracts the reshaping mechanism, allows the user to focus on the task, can be applied to other scenarios,  and is chainable : "
   ],
   "cell_type": "markdown",
   "metadata": {}
  },
  {
   "cell_type": "code",
   "execution_count": 75,
   "metadata": {},
   "outputs": [
    {
     "output_type": "execute_result",
     "data": {
      "text/plain": "    id cod   start     end\n0    1   M  201709  201905\n1    1   M  202004  202005\n2    1   F  201803  201904\n3    1   F  201912  202007\n4    2   M  201709  201905\n5    2   M  202004  202005\n6    2   F  201803  201904\n7    2   F  201912  202007\n8    3   M  201709  201905\n9    3   M  202004  202005\n10   3   F  201803  201904\n11   3   F  201912  202007",
      "text/html": "<div>\n<style scoped>\n    .dataframe tbody tr th:only-of-type {\n        vertical-align: middle;\n    }\n\n    .dataframe tbody tr th {\n        vertical-align: top;\n    }\n\n    .dataframe thead th {\n        text-align: right;\n    }\n</style>\n<table border=\"1\" class=\"dataframe\">\n  <thead>\n    <tr style=\"text-align: right;\">\n      <th></th>\n      <th>id</th>\n      <th>cod</th>\n      <th>start</th>\n      <th>end</th>\n    </tr>\n  </thead>\n  <tbody>\n    <tr>\n      <th>0</th>\n      <td>1</td>\n      <td>M</td>\n      <td>201709</td>\n      <td>201905</td>\n    </tr>\n    <tr>\n      <th>1</th>\n      <td>1</td>\n      <td>M</td>\n      <td>202004</td>\n      <td>202005</td>\n    </tr>\n    <tr>\n      <th>2</th>\n      <td>1</td>\n      <td>F</td>\n      <td>201803</td>\n      <td>201904</td>\n    </tr>\n    <tr>\n      <th>3</th>\n      <td>1</td>\n      <td>F</td>\n      <td>201912</td>\n      <td>202007</td>\n    </tr>\n    <tr>\n      <th>4</th>\n      <td>2</td>\n      <td>M</td>\n      <td>201709</td>\n      <td>201905</td>\n    </tr>\n    <tr>\n      <th>5</th>\n      <td>2</td>\n      <td>M</td>\n      <td>202004</td>\n      <td>202005</td>\n    </tr>\n    <tr>\n      <th>6</th>\n      <td>2</td>\n      <td>F</td>\n      <td>201803</td>\n      <td>201904</td>\n    </tr>\n    <tr>\n      <th>7</th>\n      <td>2</td>\n      <td>F</td>\n      <td>201912</td>\n      <td>202007</td>\n    </tr>\n    <tr>\n      <th>8</th>\n      <td>3</td>\n      <td>M</td>\n      <td>201709</td>\n      <td>201905</td>\n    </tr>\n    <tr>\n      <th>9</th>\n      <td>3</td>\n      <td>M</td>\n      <td>202004</td>\n      <td>202005</td>\n    </tr>\n    <tr>\n      <th>10</th>\n      <td>3</td>\n      <td>F</td>\n      <td>201803</td>\n      <td>201904</td>\n    </tr>\n    <tr>\n      <th>11</th>\n      <td>3</td>\n      <td>F</td>\n      <td>201912</td>\n      <td>202007</td>\n    </tr>\n  </tbody>\n</table>\n</div>"
     },
     "metadata": {},
     "execution_count": 75
    }
   ],
   "source": [
    "df.pivot_longer(\"id\", names_to= (\"cod\", \".value\"), names_pattern=\"(M|F)_(start|end)_.+\")"
   ]
  },
  {
   "source": [
    "`pivot_longer` is not a new idea; we unashamedly stole it from R's [tidyr](https://tidyr.tidyverse.org/reference/pivot_longer.html)."
   ],
   "cell_type": "markdown",
   "metadata": {}
  },
  {
   "source": [
    "Do note that the `pivot_longer` function is designed primarily to work with single indexed dataframes; for MultiIndex dataframes, `pandas_melt` is more than adequate. "
   ],
   "cell_type": "markdown",
   "metadata": {}
  },
  {
   "source": [
    "`pivot_longer` can melt dataframes easily; it is just a wrapper around `pd.melt` : "
   ],
   "cell_type": "markdown",
   "metadata": {}
  },
  {
   "cell_type": "code",
   "execution_count": 76,
   "metadata": {},
   "outputs": [
    {
     "output_type": "execute_result",
     "data": {
      "text/plain": "   A  B  C\n0  a  1  2\n1  b  3  4\n2  c  5  6",
      "text/html": "<div>\n<style scoped>\n    .dataframe tbody tr th:only-of-type {\n        vertical-align: middle;\n    }\n\n    .dataframe tbody tr th {\n        vertical-align: top;\n    }\n\n    .dataframe thead th {\n        text-align: right;\n    }\n</style>\n<table border=\"1\" class=\"dataframe\">\n  <thead>\n    <tr style=\"text-align: right;\">\n      <th></th>\n      <th>A</th>\n      <th>B</th>\n      <th>C</th>\n    </tr>\n  </thead>\n  <tbody>\n    <tr>\n      <th>0</th>\n      <td>a</td>\n      <td>1</td>\n      <td>2</td>\n    </tr>\n    <tr>\n      <th>1</th>\n      <td>b</td>\n      <td>3</td>\n      <td>4</td>\n    </tr>\n    <tr>\n      <th>2</th>\n      <td>c</td>\n      <td>5</td>\n      <td>6</td>\n    </tr>\n  </tbody>\n</table>\n</div>"
     },
     "metadata": {},
     "execution_count": 76
    }
   ],
   "source": [
    "df = pd.DataFrame({'A': {0: 'a', 1: 'b', 2: 'c'},\n",
    "                   'B': {0: 1, 1: 3, 2: 5},\n",
    "                   'C': {0: 2, 1: 4, 2: 6}})\n",
    "\n",
    "df"
   ]
  },
  {
   "cell_type": "code",
   "execution_count": 77,
   "metadata": {},
   "outputs": [
    {
     "output_type": "execute_result",
     "data": {
      "text/plain": "   A variable  value\n0  a        B      1\n1  b        B      3\n2  c        B      5",
      "text/html": "<div>\n<style scoped>\n    .dataframe tbody tr th:only-of-type {\n        vertical-align: middle;\n    }\n\n    .dataframe tbody tr th {\n        vertical-align: top;\n    }\n\n    .dataframe thead th {\n        text-align: right;\n    }\n</style>\n<table border=\"1\" class=\"dataframe\">\n  <thead>\n    <tr style=\"text-align: right;\">\n      <th></th>\n      <th>A</th>\n      <th>variable</th>\n      <th>value</th>\n    </tr>\n  </thead>\n  <tbody>\n    <tr>\n      <th>0</th>\n      <td>a</td>\n      <td>B</td>\n      <td>1</td>\n    </tr>\n    <tr>\n      <th>1</th>\n      <td>b</td>\n      <td>B</td>\n      <td>3</td>\n    </tr>\n    <tr>\n      <th>2</th>\n      <td>c</td>\n      <td>B</td>\n      <td>5</td>\n    </tr>\n  </tbody>\n</table>\n</div>"
     },
     "metadata": {},
     "execution_count": 77
    }
   ],
   "source": [
    "df.pivot_longer(index='A', column_names=['B'])"
   ]
  },
  {
   "source": [
    "You can dynamically select columns, using regular expressions with the `janitor.patterns` function (inspired by r's data.table's `patterns` function, and is really just a wrapper around `re.compile`), especially if it is a lot of column names, and you are *lazy* like me  😄"
   ],
   "cell_type": "markdown",
   "metadata": {}
  },
  {
   "cell_type": "code",
   "execution_count": 78,
   "metadata": {},
   "outputs": [
    {
     "output_type": "execute_result",
     "data": {
      "text/plain": "     year            artist                    track  time date.entered  wk1  \\\n0    2000             2 Pac  Baby Don't Cry (Keep...  4:22   2000-02-26   87   \n1    2000           2Ge+her  The Hardest Part Of ...  3:15   2000-09-02   91   \n2    2000      3 Doors Down               Kryptonite  3:53   2000-04-08   81   \n3    2000      3 Doors Down                    Loser  4:24   2000-10-21   76   \n4    2000          504 Boyz            Wobble Wobble  3:35   2000-04-15   57   \n..    ...               ...                      ...   ...          ...  ...   \n312  2000       Yankee Grey     Another Nine Minutes  3:10   2000-04-29   86   \n313  2000  Yearwood, Trisha          Real Live Woman  3:55   2000-04-01   85   \n314  2000   Ying Yang Twins  Whistle While You Tw...  4:19   2000-03-18   95   \n315  2000     Zombie Nation            Kernkraft 400  3:30   2000-09-02   99   \n316  2000   matchbox twenty                     Bent  4:12   2000-04-29   60   \n\n      wk2   wk3   wk4   wk5  ...  wk67  wk68  wk69  wk70  wk71  wk72  wk73  \\\n0    82.0  72.0  77.0  87.0  ...   NaN   NaN   NaN   NaN   NaN   NaN   NaN   \n1    87.0  92.0   NaN   NaN  ...   NaN   NaN   NaN   NaN   NaN   NaN   NaN   \n2    70.0  68.0  67.0  66.0  ...   NaN   NaN   NaN   NaN   NaN   NaN   NaN   \n3    76.0  72.0  69.0  67.0  ...   NaN   NaN   NaN   NaN   NaN   NaN   NaN   \n4    34.0  25.0  17.0  17.0  ...   NaN   NaN   NaN   NaN   NaN   NaN   NaN   \n..    ...   ...   ...   ...  ...   ...   ...   ...   ...   ...   ...   ...   \n312  83.0  77.0  74.0  83.0  ...   NaN   NaN   NaN   NaN   NaN   NaN   NaN   \n313  83.0  83.0  82.0  81.0  ...   NaN   NaN   NaN   NaN   NaN   NaN   NaN   \n314  94.0  91.0  85.0  84.0  ...   NaN   NaN   NaN   NaN   NaN   NaN   NaN   \n315  99.0   NaN   NaN   NaN  ...   NaN   NaN   NaN   NaN   NaN   NaN   NaN   \n316  37.0  29.0  24.0  22.0  ...   NaN   NaN   NaN   NaN   NaN   NaN   NaN   \n\n     wk74  wk75  wk76  \n0     NaN   NaN   NaN  \n1     NaN   NaN   NaN  \n2     NaN   NaN   NaN  \n3     NaN   NaN   NaN  \n4     NaN   NaN   NaN  \n..    ...   ...   ...  \n312   NaN   NaN   NaN  \n313   NaN   NaN   NaN  \n314   NaN   NaN   NaN  \n315   NaN   NaN   NaN  \n316   NaN   NaN   NaN  \n\n[317 rows x 81 columns]",
      "text/html": "<div>\n<style scoped>\n    .dataframe tbody tr th:only-of-type {\n        vertical-align: middle;\n    }\n\n    .dataframe tbody tr th {\n        vertical-align: top;\n    }\n\n    .dataframe thead th {\n        text-align: right;\n    }\n</style>\n<table border=\"1\" class=\"dataframe\">\n  <thead>\n    <tr style=\"text-align: right;\">\n      <th></th>\n      <th>year</th>\n      <th>artist</th>\n      <th>track</th>\n      <th>time</th>\n      <th>date.entered</th>\n      <th>wk1</th>\n      <th>wk2</th>\n      <th>wk3</th>\n      <th>wk4</th>\n      <th>wk5</th>\n      <th>...</th>\n      <th>wk67</th>\n      <th>wk68</th>\n      <th>wk69</th>\n      <th>wk70</th>\n      <th>wk71</th>\n      <th>wk72</th>\n      <th>wk73</th>\n      <th>wk74</th>\n      <th>wk75</th>\n      <th>wk76</th>\n    </tr>\n  </thead>\n  <tbody>\n    <tr>\n      <th>0</th>\n      <td>2000</td>\n      <td>2 Pac</td>\n      <td>Baby Don't Cry (Keep...</td>\n      <td>4:22</td>\n      <td>2000-02-26</td>\n      <td>87</td>\n      <td>82.0</td>\n      <td>72.0</td>\n      <td>77.0</td>\n      <td>87.0</td>\n      <td>...</td>\n      <td>NaN</td>\n      <td>NaN</td>\n      <td>NaN</td>\n      <td>NaN</td>\n      <td>NaN</td>\n      <td>NaN</td>\n      <td>NaN</td>\n      <td>NaN</td>\n      <td>NaN</td>\n      <td>NaN</td>\n    </tr>\n    <tr>\n      <th>1</th>\n      <td>2000</td>\n      <td>2Ge+her</td>\n      <td>The Hardest Part Of ...</td>\n      <td>3:15</td>\n      <td>2000-09-02</td>\n      <td>91</td>\n      <td>87.0</td>\n      <td>92.0</td>\n      <td>NaN</td>\n      <td>NaN</td>\n      <td>...</td>\n      <td>NaN</td>\n      <td>NaN</td>\n      <td>NaN</td>\n      <td>NaN</td>\n      <td>NaN</td>\n      <td>NaN</td>\n      <td>NaN</td>\n      <td>NaN</td>\n      <td>NaN</td>\n      <td>NaN</td>\n    </tr>\n    <tr>\n      <th>2</th>\n      <td>2000</td>\n      <td>3 Doors Down</td>\n      <td>Kryptonite</td>\n      <td>3:53</td>\n      <td>2000-04-08</td>\n      <td>81</td>\n      <td>70.0</td>\n      <td>68.0</td>\n      <td>67.0</td>\n      <td>66.0</td>\n      <td>...</td>\n      <td>NaN</td>\n      <td>NaN</td>\n      <td>NaN</td>\n      <td>NaN</td>\n      <td>NaN</td>\n      <td>NaN</td>\n      <td>NaN</td>\n      <td>NaN</td>\n      <td>NaN</td>\n      <td>NaN</td>\n    </tr>\n    <tr>\n      <th>3</th>\n      <td>2000</td>\n      <td>3 Doors Down</td>\n      <td>Loser</td>\n      <td>4:24</td>\n      <td>2000-10-21</td>\n      <td>76</td>\n      <td>76.0</td>\n      <td>72.0</td>\n      <td>69.0</td>\n      <td>67.0</td>\n      <td>...</td>\n      <td>NaN</td>\n      <td>NaN</td>\n      <td>NaN</td>\n      <td>NaN</td>\n      <td>NaN</td>\n      <td>NaN</td>\n      <td>NaN</td>\n      <td>NaN</td>\n      <td>NaN</td>\n      <td>NaN</td>\n    </tr>\n    <tr>\n      <th>4</th>\n      <td>2000</td>\n      <td>504 Boyz</td>\n      <td>Wobble Wobble</td>\n      <td>3:35</td>\n      <td>2000-04-15</td>\n      <td>57</td>\n      <td>34.0</td>\n      <td>25.0</td>\n      <td>17.0</td>\n      <td>17.0</td>\n      <td>...</td>\n      <td>NaN</td>\n      <td>NaN</td>\n      <td>NaN</td>\n      <td>NaN</td>\n      <td>NaN</td>\n      <td>NaN</td>\n      <td>NaN</td>\n      <td>NaN</td>\n      <td>NaN</td>\n      <td>NaN</td>\n    </tr>\n    <tr>\n      <th>...</th>\n      <td>...</td>\n      <td>...</td>\n      <td>...</td>\n      <td>...</td>\n      <td>...</td>\n      <td>...</td>\n      <td>...</td>\n      <td>...</td>\n      <td>...</td>\n      <td>...</td>\n      <td>...</td>\n      <td>...</td>\n      <td>...</td>\n      <td>...</td>\n      <td>...</td>\n      <td>...</td>\n      <td>...</td>\n      <td>...</td>\n      <td>...</td>\n      <td>...</td>\n      <td>...</td>\n    </tr>\n    <tr>\n      <th>312</th>\n      <td>2000</td>\n      <td>Yankee Grey</td>\n      <td>Another Nine Minutes</td>\n      <td>3:10</td>\n      <td>2000-04-29</td>\n      <td>86</td>\n      <td>83.0</td>\n      <td>77.0</td>\n      <td>74.0</td>\n      <td>83.0</td>\n      <td>...</td>\n      <td>NaN</td>\n      <td>NaN</td>\n      <td>NaN</td>\n      <td>NaN</td>\n      <td>NaN</td>\n      <td>NaN</td>\n      <td>NaN</td>\n      <td>NaN</td>\n      <td>NaN</td>\n      <td>NaN</td>\n    </tr>\n    <tr>\n      <th>313</th>\n      <td>2000</td>\n      <td>Yearwood, Trisha</td>\n      <td>Real Live Woman</td>\n      <td>3:55</td>\n      <td>2000-04-01</td>\n      <td>85</td>\n      <td>83.0</td>\n      <td>83.0</td>\n      <td>82.0</td>\n      <td>81.0</td>\n      <td>...</td>\n      <td>NaN</td>\n      <td>NaN</td>\n      <td>NaN</td>\n      <td>NaN</td>\n      <td>NaN</td>\n      <td>NaN</td>\n      <td>NaN</td>\n      <td>NaN</td>\n      <td>NaN</td>\n      <td>NaN</td>\n    </tr>\n    <tr>\n      <th>314</th>\n      <td>2000</td>\n      <td>Ying Yang Twins</td>\n      <td>Whistle While You Tw...</td>\n      <td>4:19</td>\n      <td>2000-03-18</td>\n      <td>95</td>\n      <td>94.0</td>\n      <td>91.0</td>\n      <td>85.0</td>\n      <td>84.0</td>\n      <td>...</td>\n      <td>NaN</td>\n      <td>NaN</td>\n      <td>NaN</td>\n      <td>NaN</td>\n      <td>NaN</td>\n      <td>NaN</td>\n      <td>NaN</td>\n      <td>NaN</td>\n      <td>NaN</td>\n      <td>NaN</td>\n    </tr>\n    <tr>\n      <th>315</th>\n      <td>2000</td>\n      <td>Zombie Nation</td>\n      <td>Kernkraft 400</td>\n      <td>3:30</td>\n      <td>2000-09-02</td>\n      <td>99</td>\n      <td>99.0</td>\n      <td>NaN</td>\n      <td>NaN</td>\n      <td>NaN</td>\n      <td>...</td>\n      <td>NaN</td>\n      <td>NaN</td>\n      <td>NaN</td>\n      <td>NaN</td>\n      <td>NaN</td>\n      <td>NaN</td>\n      <td>NaN</td>\n      <td>NaN</td>\n      <td>NaN</td>\n      <td>NaN</td>\n    </tr>\n    <tr>\n      <th>316</th>\n      <td>2000</td>\n      <td>matchbox twenty</td>\n      <td>Bent</td>\n      <td>4:12</td>\n      <td>2000-04-29</td>\n      <td>60</td>\n      <td>37.0</td>\n      <td>29.0</td>\n      <td>24.0</td>\n      <td>22.0</td>\n      <td>...</td>\n      <td>NaN</td>\n      <td>NaN</td>\n      <td>NaN</td>\n      <td>NaN</td>\n      <td>NaN</td>\n      <td>NaN</td>\n      <td>NaN</td>\n      <td>NaN</td>\n      <td>NaN</td>\n      <td>NaN</td>\n    </tr>\n  </tbody>\n</table>\n<p>317 rows × 81 columns</p>\n</div>"
     },
     "metadata": {},
     "execution_count": 78
    }
   ],
   "source": [
    "url = 'https://github.com/tidyverse/tidyr/raw/master/data-raw/billboard.csv'\n",
    "df = pd.read_csv(url)\n",
    "\n",
    "df"
   ]
  },
  {
   "cell_type": "code",
   "execution_count": 79,
   "metadata": {},
   "outputs": [
    {
     "output_type": "execute_result",
     "data": {
      "text/plain": "                artist date.entered  time                    track  year  \\\n0                2 Pac   2000-02-26  4:22  Baby Don't Cry (Keep...  2000   \n1                2 Pac   2000-02-26  4:22  Baby Don't Cry (Keep...  2000   \n2                2 Pac   2000-02-26  4:22  Baby Don't Cry (Keep...  2000   \n3                2 Pac   2000-02-26  4:22  Baby Don't Cry (Keep...  2000   \n4                2 Pac   2000-02-26  4:22  Baby Don't Cry (Keep...  2000   \n...                ...          ...   ...                      ...   ...   \n24087  matchbox twenty   2000-04-29  4:12                     Bent  2000   \n24088  matchbox twenty   2000-04-29  4:12                     Bent  2000   \n24089  matchbox twenty   2000-04-29  4:12                     Bent  2000   \n24090  matchbox twenty   2000-04-29  4:12                     Bent  2000   \n24091  matchbox twenty   2000-04-29  4:12                     Bent  2000   \n\n       week  value  \n0       wk1   87.0  \n1       wk2   82.0  \n2       wk3   72.0  \n3       wk4   77.0  \n4       wk5   87.0  \n...     ...    ...  \n24087  wk72    NaN  \n24088  wk73    NaN  \n24089  wk74    NaN  \n24090  wk75    NaN  \n24091  wk76    NaN  \n\n[24092 rows x 7 columns]",
      "text/html": "<div>\n<style scoped>\n    .dataframe tbody tr th:only-of-type {\n        vertical-align: middle;\n    }\n\n    .dataframe tbody tr th {\n        vertical-align: top;\n    }\n\n    .dataframe thead th {\n        text-align: right;\n    }\n</style>\n<table border=\"1\" class=\"dataframe\">\n  <thead>\n    <tr style=\"text-align: right;\">\n      <th></th>\n      <th>artist</th>\n      <th>date.entered</th>\n      <th>time</th>\n      <th>track</th>\n      <th>year</th>\n      <th>week</th>\n      <th>value</th>\n    </tr>\n  </thead>\n  <tbody>\n    <tr>\n      <th>0</th>\n      <td>2 Pac</td>\n      <td>2000-02-26</td>\n      <td>4:22</td>\n      <td>Baby Don't Cry (Keep...</td>\n      <td>2000</td>\n      <td>wk1</td>\n      <td>87.0</td>\n    </tr>\n    <tr>\n      <th>1</th>\n      <td>2 Pac</td>\n      <td>2000-02-26</td>\n      <td>4:22</td>\n      <td>Baby Don't Cry (Keep...</td>\n      <td>2000</td>\n      <td>wk2</td>\n      <td>82.0</td>\n    </tr>\n    <tr>\n      <th>2</th>\n      <td>2 Pac</td>\n      <td>2000-02-26</td>\n      <td>4:22</td>\n      <td>Baby Don't Cry (Keep...</td>\n      <td>2000</td>\n      <td>wk3</td>\n      <td>72.0</td>\n    </tr>\n    <tr>\n      <th>3</th>\n      <td>2 Pac</td>\n      <td>2000-02-26</td>\n      <td>4:22</td>\n      <td>Baby Don't Cry (Keep...</td>\n      <td>2000</td>\n      <td>wk4</td>\n      <td>77.0</td>\n    </tr>\n    <tr>\n      <th>4</th>\n      <td>2 Pac</td>\n      <td>2000-02-26</td>\n      <td>4:22</td>\n      <td>Baby Don't Cry (Keep...</td>\n      <td>2000</td>\n      <td>wk5</td>\n      <td>87.0</td>\n    </tr>\n    <tr>\n      <th>...</th>\n      <td>...</td>\n      <td>...</td>\n      <td>...</td>\n      <td>...</td>\n      <td>...</td>\n      <td>...</td>\n      <td>...</td>\n    </tr>\n    <tr>\n      <th>24087</th>\n      <td>matchbox twenty</td>\n      <td>2000-04-29</td>\n      <td>4:12</td>\n      <td>Bent</td>\n      <td>2000</td>\n      <td>wk72</td>\n      <td>NaN</td>\n    </tr>\n    <tr>\n      <th>24088</th>\n      <td>matchbox twenty</td>\n      <td>2000-04-29</td>\n      <td>4:12</td>\n      <td>Bent</td>\n      <td>2000</td>\n      <td>wk73</td>\n      <td>NaN</td>\n    </tr>\n    <tr>\n      <th>24089</th>\n      <td>matchbox twenty</td>\n      <td>2000-04-29</td>\n      <td>4:12</td>\n      <td>Bent</td>\n      <td>2000</td>\n      <td>wk74</td>\n      <td>NaN</td>\n    </tr>\n    <tr>\n      <th>24090</th>\n      <td>matchbox twenty</td>\n      <td>2000-04-29</td>\n      <td>4:12</td>\n      <td>Bent</td>\n      <td>2000</td>\n      <td>wk75</td>\n      <td>NaN</td>\n    </tr>\n    <tr>\n      <th>24091</th>\n      <td>matchbox twenty</td>\n      <td>2000-04-29</td>\n      <td>4:12</td>\n      <td>Bent</td>\n      <td>2000</td>\n      <td>wk76</td>\n      <td>NaN</td>\n    </tr>\n  </tbody>\n</table>\n<p>24092 rows × 7 columns</p>\n</div>"
     },
     "metadata": {},
     "execution_count": 79
    }
   ],
   "source": [
    "# unpivot all columns that start with 'wk'\n",
    "df.pivot_longer(column_names = janitor.patterns(\"^(wk)\"), names_to='week')"
   ]
  },
  {
   "source": [
    "`pivot_longer` can also unpivot paired columns. Let's look at some examples from pandas `wide_to_long` docs : "
   ],
   "cell_type": "markdown",
   "metadata": {}
  },
  {
   "cell_type": "code",
   "execution_count": 80,
   "metadata": {},
   "outputs": [
    {
     "output_type": "execute_result",
     "data": {
      "text/plain": "   famid  birth  ht1  ht2\n0      1      1  2.8  3.4\n1      1      2  2.9  3.8\n2      1      3  2.2  2.9\n3      2      1  2.0  3.2\n4      2      2  1.8  2.8\n5      2      3  1.9  2.4\n6      3      1  2.2  3.3\n7      3      2  2.3  3.4\n8      3      3  2.1  2.9",
      "text/html": "<div>\n<style scoped>\n    .dataframe tbody tr th:only-of-type {\n        vertical-align: middle;\n    }\n\n    .dataframe tbody tr th {\n        vertical-align: top;\n    }\n\n    .dataframe thead th {\n        text-align: right;\n    }\n</style>\n<table border=\"1\" class=\"dataframe\">\n  <thead>\n    <tr style=\"text-align: right;\">\n      <th></th>\n      <th>famid</th>\n      <th>birth</th>\n      <th>ht1</th>\n      <th>ht2</th>\n    </tr>\n  </thead>\n  <tbody>\n    <tr>\n      <th>0</th>\n      <td>1</td>\n      <td>1</td>\n      <td>2.8</td>\n      <td>3.4</td>\n    </tr>\n    <tr>\n      <th>1</th>\n      <td>1</td>\n      <td>2</td>\n      <td>2.9</td>\n      <td>3.8</td>\n    </tr>\n    <tr>\n      <th>2</th>\n      <td>1</td>\n      <td>3</td>\n      <td>2.2</td>\n      <td>2.9</td>\n    </tr>\n    <tr>\n      <th>3</th>\n      <td>2</td>\n      <td>1</td>\n      <td>2.0</td>\n      <td>3.2</td>\n    </tr>\n    <tr>\n      <th>4</th>\n      <td>2</td>\n      <td>2</td>\n      <td>1.8</td>\n      <td>2.8</td>\n    </tr>\n    <tr>\n      <th>5</th>\n      <td>2</td>\n      <td>3</td>\n      <td>1.9</td>\n      <td>2.4</td>\n    </tr>\n    <tr>\n      <th>6</th>\n      <td>3</td>\n      <td>1</td>\n      <td>2.2</td>\n      <td>3.3</td>\n    </tr>\n    <tr>\n      <th>7</th>\n      <td>3</td>\n      <td>2</td>\n      <td>2.3</td>\n      <td>3.4</td>\n    </tr>\n    <tr>\n      <th>8</th>\n      <td>3</td>\n      <td>3</td>\n      <td>2.1</td>\n      <td>2.9</td>\n    </tr>\n  </tbody>\n</table>\n</div>"
     },
     "metadata": {},
     "execution_count": 80
    }
   ],
   "source": [
    "df = pd.DataFrame({\n",
    "    'famid': [1, 1, 1, 2, 2, 2, 3, 3, 3],\n",
    "    'birth': [1, 2, 3, 1, 2, 3, 1, 2, 3],\n",
    "    'ht1': [2.8, 2.9, 2.2, 2, 1.8, 1.9, 2.2, 2.3, 2.1],\n",
    "    'ht2': [3.4, 3.8, 2.9, 3.2, 2.8, 2.4, 3.3, 3.4, 2.9]\n",
    "})\n",
    "\n",
    "df"
   ]
  },
  {
   "source": [
    "In the data above, the `height` is paired with `age`. Let's see how `pivot_longer` handles this:"
   ],
   "cell_type": "markdown",
   "metadata": {}
  },
  {
   "cell_type": "code",
   "execution_count": 81,
   "metadata": {},
   "outputs": [
    {
     "output_type": "execute_result",
     "data": {
      "text/plain": "    famid  birth  age   ht\n0       1      1    1  2.8\n1       1      1    2  3.4\n2       1      2    1  2.9\n3       1      2    2  3.8\n4       1      3    1  2.2\n5       1      3    2  2.9\n6       2      1    1  2.0\n7       2      1    2  3.2\n8       2      2    1  1.8\n9       2      2    2  2.8\n10      2      3    1  1.9\n11      2      3    2  2.4\n12      3      1    1  2.2\n13      3      1    2  3.3\n14      3      2    1  2.3\n15      3      2    2  3.4\n16      3      3    1  2.1\n17      3      3    2  2.9",
      "text/html": "<div>\n<style scoped>\n    .dataframe tbody tr th:only-of-type {\n        vertical-align: middle;\n    }\n\n    .dataframe tbody tr th {\n        vertical-align: top;\n    }\n\n    .dataframe thead th {\n        text-align: right;\n    }\n</style>\n<table border=\"1\" class=\"dataframe\">\n  <thead>\n    <tr style=\"text-align: right;\">\n      <th></th>\n      <th>famid</th>\n      <th>birth</th>\n      <th>age</th>\n      <th>ht</th>\n    </tr>\n  </thead>\n  <tbody>\n    <tr>\n      <th>0</th>\n      <td>1</td>\n      <td>1</td>\n      <td>1</td>\n      <td>2.8</td>\n    </tr>\n    <tr>\n      <th>1</th>\n      <td>1</td>\n      <td>1</td>\n      <td>2</td>\n      <td>3.4</td>\n    </tr>\n    <tr>\n      <th>2</th>\n      <td>1</td>\n      <td>2</td>\n      <td>1</td>\n      <td>2.9</td>\n    </tr>\n    <tr>\n      <th>3</th>\n      <td>1</td>\n      <td>2</td>\n      <td>2</td>\n      <td>3.8</td>\n    </tr>\n    <tr>\n      <th>4</th>\n      <td>1</td>\n      <td>3</td>\n      <td>1</td>\n      <td>2.2</td>\n    </tr>\n    <tr>\n      <th>5</th>\n      <td>1</td>\n      <td>3</td>\n      <td>2</td>\n      <td>2.9</td>\n    </tr>\n    <tr>\n      <th>6</th>\n      <td>2</td>\n      <td>1</td>\n      <td>1</td>\n      <td>2.0</td>\n    </tr>\n    <tr>\n      <th>7</th>\n      <td>2</td>\n      <td>1</td>\n      <td>2</td>\n      <td>3.2</td>\n    </tr>\n    <tr>\n      <th>8</th>\n      <td>2</td>\n      <td>2</td>\n      <td>1</td>\n      <td>1.8</td>\n    </tr>\n    <tr>\n      <th>9</th>\n      <td>2</td>\n      <td>2</td>\n      <td>2</td>\n      <td>2.8</td>\n    </tr>\n    <tr>\n      <th>10</th>\n      <td>2</td>\n      <td>3</td>\n      <td>1</td>\n      <td>1.9</td>\n    </tr>\n    <tr>\n      <th>11</th>\n      <td>2</td>\n      <td>3</td>\n      <td>2</td>\n      <td>2.4</td>\n    </tr>\n    <tr>\n      <th>12</th>\n      <td>3</td>\n      <td>1</td>\n      <td>1</td>\n      <td>2.2</td>\n    </tr>\n    <tr>\n      <th>13</th>\n      <td>3</td>\n      <td>1</td>\n      <td>2</td>\n      <td>3.3</td>\n    </tr>\n    <tr>\n      <th>14</th>\n      <td>3</td>\n      <td>2</td>\n      <td>1</td>\n      <td>2.3</td>\n    </tr>\n    <tr>\n      <th>15</th>\n      <td>3</td>\n      <td>2</td>\n      <td>2</td>\n      <td>3.4</td>\n    </tr>\n    <tr>\n      <th>16</th>\n      <td>3</td>\n      <td>3</td>\n      <td>1</td>\n      <td>2.1</td>\n    </tr>\n    <tr>\n      <th>17</th>\n      <td>3</td>\n      <td>3</td>\n      <td>2</td>\n      <td>2.9</td>\n    </tr>\n  </tbody>\n</table>\n</div>"
     },
     "metadata": {},
     "execution_count": 81
    }
   ],
   "source": [
    "df.pivot_longer(index=['famid','birth'], names_to=('.value', 'age'), names_pattern=r\"(ht)(\\d)\")"
   ]
  },
  {
   "source": [
    "The first step in unpivoting a dataframe with a paired column is to specify the part of the column that will become a header, and the other part that becomes unpivoted. The `.value` symbol helps us achieve that. It indicates to the `pivot_longer` function that `ht` will be the new column name, while the rest of the data in the column(the numbers) will be unpivoted under the `age` column. How does `pivot_longer` associate `.value` to the part of the column name? The `names_pattern` or the `names_sep` arguments. For this, the `names_pattern` argument, which accepts regular expression, is a better fit; `pivot_longer` takes care of the rest.\n",
    "\n",
    "`pd.wide_to_long` handles this already, so why bother? Let's look at another scenario where `pd.wide_to_long` would need a few more steps : "
   ],
   "cell_type": "markdown",
   "metadata": {}
  },
  {
   "cell_type": "code",
   "execution_count": 107,
   "metadata": {},
   "outputs": [
    {
     "output_type": "execute_result",
     "data": {
      "text/plain": "  off_loc pt_loc      pt_lat     off_lat     pt_long    off_long\n0       A      G  100.075482  121.271083    4.472090   -7.188632\n1       B      H   75.191326   75.938453 -144.387785 -143.228857\n2       C      I  122.651345  135.043791  -40.456110   21.242563\n3       D      J  124.135533  134.511284  -46.071562   40.937417\n4       E      K  124.135533  134.484374  -46.071562   40.784720\n5       F      L  124.010289  137.962195  -46.015943   22.905889",
      "text/html": "<div>\n<style scoped>\n    .dataframe tbody tr th:only-of-type {\n        vertical-align: middle;\n    }\n\n    .dataframe tbody tr th {\n        vertical-align: top;\n    }\n\n    .dataframe thead th {\n        text-align: right;\n    }\n</style>\n<table border=\"1\" class=\"dataframe\">\n  <thead>\n    <tr style=\"text-align: right;\">\n      <th></th>\n      <th>off_loc</th>\n      <th>pt_loc</th>\n      <th>pt_lat</th>\n      <th>off_lat</th>\n      <th>pt_long</th>\n      <th>off_long</th>\n    </tr>\n  </thead>\n  <tbody>\n    <tr>\n      <th>0</th>\n      <td>A</td>\n      <td>G</td>\n      <td>100.075482</td>\n      <td>121.271083</td>\n      <td>4.472090</td>\n      <td>-7.188632</td>\n    </tr>\n    <tr>\n      <th>1</th>\n      <td>B</td>\n      <td>H</td>\n      <td>75.191326</td>\n      <td>75.938453</td>\n      <td>-144.387785</td>\n      <td>-143.228857</td>\n    </tr>\n    <tr>\n      <th>2</th>\n      <td>C</td>\n      <td>I</td>\n      <td>122.651345</td>\n      <td>135.043791</td>\n      <td>-40.456110</td>\n      <td>21.242563</td>\n    </tr>\n    <tr>\n      <th>3</th>\n      <td>D</td>\n      <td>J</td>\n      <td>124.135533</td>\n      <td>134.511284</td>\n      <td>-46.071562</td>\n      <td>40.937417</td>\n    </tr>\n    <tr>\n      <th>4</th>\n      <td>E</td>\n      <td>K</td>\n      <td>124.135533</td>\n      <td>134.484374</td>\n      <td>-46.071562</td>\n      <td>40.784720</td>\n    </tr>\n    <tr>\n      <th>5</th>\n      <td>F</td>\n      <td>L</td>\n      <td>124.010289</td>\n      <td>137.962195</td>\n      <td>-46.015943</td>\n      <td>22.905889</td>\n    </tr>\n  </tbody>\n</table>\n</div>"
     },
     "metadata": {},
     "execution_count": 107
    }
   ],
   "source": [
    "#https://community.rstudio.com/t/pivot-longer-on-multiple-column-sets-pairs/43958\n",
    "df = pd.DataFrame(\n",
    "    {\n",
    "        \"off_loc\": [\"A\", \"B\", \"C\", \"D\", \"E\", \"F\"],\n",
    "        \"pt_loc\": [\"G\", \"H\", \"I\", \"J\", \"K\", \"L\"],\n",
    "        \"pt_lat\": [\n",
    "            100.07548220000001,\n",
    "            75.191326,\n",
    "            122.65134479999999,\n",
    "            124.13553329999999,\n",
    "            124.13553329999999,\n",
    "            124.01028909999998,\n",
    "        ],\n",
    "        \"off_lat\": [\n",
    "            121.271083,\n",
    "            75.93845266,\n",
    "            135.043791,\n",
    "            134.51128400000002,\n",
    "            134.484374,\n",
    "            137.962195,\n",
    "        ],\n",
    "        \"pt_long\": [\n",
    "            4.472089953,\n",
    "            -144.387785,\n",
    "            -40.45611048,\n",
    "            -46.07156181,\n",
    "            -46.07156181,\n",
    "            -46.01594293,\n",
    "        ],\n",
    "        \"off_long\": [\n",
    "            -7.188632000000001,\n",
    "            -143.2288569,\n",
    "            21.242563,\n",
    "            40.937416999999996,\n",
    "            40.78472,\n",
    "            22.905889000000002,\n",
    "        ],\n",
    "    }\n",
    ")\n",
    "\n",
    "df"
   ]
  },
  {
   "source": [
    "We can unpivot with `pd.wide_to_long` by first reorganising the columns : "
   ],
   "cell_type": "markdown",
   "metadata": {}
  },
  {
   "cell_type": "code",
   "execution_count": 108,
   "metadata": {},
   "outputs": [
    {
     "output_type": "execute_result",
     "data": {
      "text/plain": "Index(['loc_off', 'loc_pt', 'lat_pt', 'lat_off', 'long_pt', 'long_off'], dtype='object')"
     },
     "metadata": {},
     "execution_count": 108
    }
   ],
   "source": [
    "df1 = df.copy()\n",
    "df1.columns = [\"_\".join(col.split(\"_\")[::-1]) for col in df1.columns]\n",
    "df1.columns"
   ]
  },
  {
   "source": [
    "Nowe we can unpivot : "
   ],
   "cell_type": "markdown",
   "metadata": {}
  },
  {
   "cell_type": "code",
   "execution_count": 109,
   "metadata": {
    "tags": []
   },
   "outputs": [
    {
     "output_type": "stream",
     "name": "stdout",
     "text": "37.8 ms ± 1.81 ms per loop (mean ± std. dev. of 7 runs, 10 loops each)\n"
    }
   ],
   "source": [
    "pd.wide_to_long(\n",
    "    df1.reset_index(),\n",
    "    stubnames=[\"loc\", \"lat\", \"long\"],\n",
    "    sep=\"_\",\n",
    "    i=\"index\",\n",
    "    j=\"set\",\n",
    "    suffix=\"\\w+\",\n",
    ")"
   ]
  },
  {
   "source": [
    "Notice that we had to reset the dataframe to get an index. We can abstract all this away, using `pivot_longer` :"
   ],
   "cell_type": "markdown",
   "metadata": {}
  },
  {
   "cell_type": "code",
   "execution_count": 110,
   "metadata": {
    "tags": []
   },
   "outputs": [
    {
     "output_type": "stream",
     "name": "stdout",
     "text": "14.9 ms ± 257 µs per loop (mean ± std. dev. of 7 runs, 100 loops each)\n"
    }
   ],
   "source": [
    "df.pivot_longer(\n",
    "            names_to=[\"set\", \".value\"], names_pattern=\"(.+)_(.+)\"\n",
    "        )"
   ]
  },
  {
   "source": [
    "Again, the key here is the `.value` symbol. `names_to` is set as ('set', '.value'), and the `names_pattern` as \"(.+)_(.+)\". This tells `pivot_longer` to get the `loc`, `lat`, and `long` out of the existing column names, make them new column names, while unpivoting `off` and `pt` as a new column with the header `set`. Notice that we did not have to reset the index;  `pivot_longer` allows you to focus on what you want, so you can get it and move on. \n",
    "\n",
    "Let's look at some more examples : "
   ],
   "cell_type": "markdown",
   "metadata": {}
  },
  {
   "cell_type": "code",
   "execution_count": 111,
   "metadata": {},
   "outputs": [
    {
     "output_type": "execute_result",
     "data": {
      "text/plain": "   a_1  ab_1  ac_1  a_2  ab_2  ac_2\n0    2     3     4    5     6     7",
      "text/html": "<div>\n<style scoped>\n    .dataframe tbody tr th:only-of-type {\n        vertical-align: middle;\n    }\n\n    .dataframe tbody tr th {\n        vertical-align: top;\n    }\n\n    .dataframe thead th {\n        text-align: right;\n    }\n</style>\n<table border=\"1\" class=\"dataframe\">\n  <thead>\n    <tr style=\"text-align: right;\">\n      <th></th>\n      <th>a_1</th>\n      <th>ab_1</th>\n      <th>ac_1</th>\n      <th>a_2</th>\n      <th>ab_2</th>\n      <th>ac_2</th>\n    </tr>\n  </thead>\n  <tbody>\n    <tr>\n      <th>0</th>\n      <td>2</td>\n      <td>3</td>\n      <td>4</td>\n      <td>5</td>\n      <td>6</td>\n      <td>7</td>\n    </tr>\n  </tbody>\n</table>\n</div>"
     },
     "metadata": {},
     "execution_count": 111
    }
   ],
   "source": [
    " # https://stackoverflow.com/questions/45123924/convert-pandas-dataframe-from-wide-to-long/45124130\n",
    " df = pd.DataFrame([{'a_1': 2, 'ab_1': 3, 'ac_1': 4, 'a_2': 5, 'ab_2': 6, 'ac_2': 7}]\n",
    ")\n",
    "df"
   ]
  },
  {
   "source": [
    "The data above requires extracting `a`, `ab` and `ac` from `1` and `2`. This is another example of a paired column. We could solve this using `pd.wide_to_long`; infact there is a very good solution from [Stack Overflow](https://stackoverflow.com/a/45124775/7175713)"
   ],
   "cell_type": "markdown",
   "metadata": {}
  },
  {
   "cell_type": "code",
   "execution_count": 114,
   "metadata": {
    "tags": []
   },
   "outputs": [
    {
     "output_type": "stream",
     "name": "stdout",
     "text": "33.3 ms ± 971 µs per loop (mean ± std. dev. of 7 runs, 10 loops each)\n"
    }
   ],
   "source": [
    "df1 = df.copy()\n",
    "df1['id'] = df1.index\n",
    "pd.wide_to_long(df1, ['a','ab','ac'],i='id',j='num',sep='_')"
   ]
  },
  {
   "source": [
    "Or you could simply pass the buck to `pivot_longer` : "
   ],
   "cell_type": "markdown",
   "metadata": {}
  },
  {
   "cell_type": "code",
   "execution_count": 115,
   "metadata": {
    "tags": []
   },
   "outputs": [
    {
     "output_type": "stream",
     "name": "stdout",
     "text": "12.2 ms ± 448 µs per loop (mean ± std. dev. of 7 runs, 100 loops each)\n"
    }
   ],
   "source": [
    "df.pivot_longer(names_to=('.value','num'), names_sep='_')"
   ]
  },
  {
   "source": [
    "In the solution above, we used the `names_sep`, as it is more convenient. A few more examples to get you familiar with the `.value` symbol."
   ],
   "cell_type": "markdown",
   "metadata": {}
  },
  {
   "cell_type": "code",
   "execution_count": 116,
   "metadata": {},
   "outputs": [
    {
     "output_type": "execute_result",
     "data": {
      "text/plain": "   id  ax  ay  az  bx  by  bz\n0   1   1   2   3   4   5   6\n1   2   7   8   9  10  11  12",
      "text/html": "<div>\n<style scoped>\n    .dataframe tbody tr th:only-of-type {\n        vertical-align: middle;\n    }\n\n    .dataframe tbody tr th {\n        vertical-align: top;\n    }\n\n    .dataframe thead th {\n        text-align: right;\n    }\n</style>\n<table border=\"1\" class=\"dataframe\">\n  <thead>\n    <tr style=\"text-align: right;\">\n      <th></th>\n      <th>id</th>\n      <th>ax</th>\n      <th>ay</th>\n      <th>az</th>\n      <th>bx</th>\n      <th>by</th>\n      <th>bz</th>\n    </tr>\n  </thead>\n  <tbody>\n    <tr>\n      <th>0</th>\n      <td>1</td>\n      <td>1</td>\n      <td>2</td>\n      <td>3</td>\n      <td>4</td>\n      <td>5</td>\n      <td>6</td>\n    </tr>\n    <tr>\n      <th>1</th>\n      <td>2</td>\n      <td>7</td>\n      <td>8</td>\n      <td>9</td>\n      <td>10</td>\n      <td>11</td>\n      <td>12</td>\n    </tr>\n  </tbody>\n</table>\n</div>"
     },
     "metadata": {},
     "execution_count": 116
    }
   ],
   "source": [
    "# https://stackoverflow.com/questions/55403008/pandas-partial-melt-or-group-melt\n",
    "df = pd.DataFrame([[1,1,2,3,4,5,6],[2,7,8,9,10,11,12]], \n",
    "                      columns=['id', 'ax','ay','az','bx','by','bz'])\n",
    "\n",
    "df"
   ]
  },
  {
   "cell_type": "code",
   "execution_count": 117,
   "metadata": {},
   "outputs": [
    {
     "output_type": "execute_result",
     "data": {
      "text/plain": "   id name   x   y   z\n0   1    a   1   2   3\n1   1    b   4   5   6\n2   2    a   7   8   9\n3   2    b  10  11  12",
      "text/html": "<div>\n<style scoped>\n    .dataframe tbody tr th:only-of-type {\n        vertical-align: middle;\n    }\n\n    .dataframe tbody tr th {\n        vertical-align: top;\n    }\n\n    .dataframe thead th {\n        text-align: right;\n    }\n</style>\n<table border=\"1\" class=\"dataframe\">\n  <thead>\n    <tr style=\"text-align: right;\">\n      <th></th>\n      <th>id</th>\n      <th>name</th>\n      <th>x</th>\n      <th>y</th>\n      <th>z</th>\n    </tr>\n  </thead>\n  <tbody>\n    <tr>\n      <th>0</th>\n      <td>1</td>\n      <td>a</td>\n      <td>1</td>\n      <td>2</td>\n      <td>3</td>\n    </tr>\n    <tr>\n      <th>1</th>\n      <td>1</td>\n      <td>b</td>\n      <td>4</td>\n      <td>5</td>\n      <td>6</td>\n    </tr>\n    <tr>\n      <th>2</th>\n      <td>2</td>\n      <td>a</td>\n      <td>7</td>\n      <td>8</td>\n      <td>9</td>\n    </tr>\n    <tr>\n      <th>3</th>\n      <td>2</td>\n      <td>b</td>\n      <td>10</td>\n      <td>11</td>\n      <td>12</td>\n    </tr>\n  </tbody>\n</table>\n</div>"
     },
     "metadata": {},
     "execution_count": 117
    }
   ],
   "source": [
    "df.pivot_longer(index='id', names_to=('name','.value'), names_pattern='(.)(.)')"
   ]
  },
  {
   "source": [
    "For the code above `.value` is paired with `x`, `y`, `z`, while `a`, `b`, and `c` are unpivoted into the `name` column."
   ],
   "cell_type": "markdown",
   "metadata": {}
  },
  {
   "cell_type": "code",
   "execution_count": 96,
   "metadata": {},
   "outputs": [
    {
     "output_type": "execute_result",
     "data": {
      "text/plain": "    id a_1 a_2 a_3  b_1  b_2  b_3 c_1 c_2 c_3\n0  101   a   b   c    1    2    3  aa  bb  cc\n1  102   d   e   f    4    5    6  dd  ee  ff",
      "text/html": "<div>\n<style scoped>\n    .dataframe tbody tr th:only-of-type {\n        vertical-align: middle;\n    }\n\n    .dataframe tbody tr th {\n        vertical-align: top;\n    }\n\n    .dataframe thead th {\n        text-align: right;\n    }\n</style>\n<table border=\"1\" class=\"dataframe\">\n  <thead>\n    <tr style=\"text-align: right;\">\n      <th></th>\n      <th>id</th>\n      <th>a_1</th>\n      <th>a_2</th>\n      <th>a_3</th>\n      <th>b_1</th>\n      <th>b_2</th>\n      <th>b_3</th>\n      <th>c_1</th>\n      <th>c_2</th>\n      <th>c_3</th>\n    </tr>\n  </thead>\n  <tbody>\n    <tr>\n      <th>0</th>\n      <td>101</td>\n      <td>a</td>\n      <td>b</td>\n      <td>c</td>\n      <td>1</td>\n      <td>2</td>\n      <td>3</td>\n      <td>aa</td>\n      <td>bb</td>\n      <td>cc</td>\n    </tr>\n    <tr>\n      <th>1</th>\n      <td>102</td>\n      <td>d</td>\n      <td>e</td>\n      <td>f</td>\n      <td>4</td>\n      <td>5</td>\n      <td>6</td>\n      <td>dd</td>\n      <td>ee</td>\n      <td>ff</td>\n    </tr>\n  </tbody>\n</table>\n</div>"
     },
     "metadata": {},
     "execution_count": 96
    }
   ],
   "source": [
    "# https://stackoverflow.com/questions/38862832/pandas-melt-several-groups-of-columns-into-multiple-target-columns-by-name\n",
    "df = pd.DataFrame({'id': [101, 102],\n",
    " 'a_1': ['a', 'd'],\n",
    " 'a_2': ['b', 'e'],\n",
    " 'a_3': ['c', 'f'],\n",
    " 'b_1': [1, 4],\n",
    " 'b_2': [2, 5],\n",
    " 'b_3': [3, 6],\n",
    " 'c_1': ['aa', 'dd'],\n",
    " 'c_2': ['bb', 'ee'],\n",
    " 'c_3': ['cc', 'ff']}\n",
    ")\n",
    "df"
   ]
  },
  {
   "cell_type": "code",
   "execution_count": 99,
   "metadata": {},
   "outputs": [
    {
     "output_type": "execute_result",
     "data": {
      "text/plain": "    id  value  a  b   c\n0  101      1  a  1  aa\n1  101      2  b  2  bb\n2  101      3  c  3  cc\n3  102      1  d  4  dd\n4  102      2  e  5  ee\n5  102      3  f  6  ff",
      "text/html": "<div>\n<style scoped>\n    .dataframe tbody tr th:only-of-type {\n        vertical-align: middle;\n    }\n\n    .dataframe tbody tr th {\n        vertical-align: top;\n    }\n\n    .dataframe thead th {\n        text-align: right;\n    }\n</style>\n<table border=\"1\" class=\"dataframe\">\n  <thead>\n    <tr style=\"text-align: right;\">\n      <th></th>\n      <th>id</th>\n      <th>value</th>\n      <th>a</th>\n      <th>b</th>\n      <th>c</th>\n    </tr>\n  </thead>\n  <tbody>\n    <tr>\n      <th>0</th>\n      <td>101</td>\n      <td>1</td>\n      <td>a</td>\n      <td>1</td>\n      <td>aa</td>\n    </tr>\n    <tr>\n      <th>1</th>\n      <td>101</td>\n      <td>2</td>\n      <td>b</td>\n      <td>2</td>\n      <td>bb</td>\n    </tr>\n    <tr>\n      <th>2</th>\n      <td>101</td>\n      <td>3</td>\n      <td>c</td>\n      <td>3</td>\n      <td>cc</td>\n    </tr>\n    <tr>\n      <th>3</th>\n      <td>102</td>\n      <td>1</td>\n      <td>d</td>\n      <td>4</td>\n      <td>dd</td>\n    </tr>\n    <tr>\n      <th>4</th>\n      <td>102</td>\n      <td>2</td>\n      <td>e</td>\n      <td>5</td>\n      <td>ee</td>\n    </tr>\n    <tr>\n      <th>5</th>\n      <td>102</td>\n      <td>3</td>\n      <td>f</td>\n      <td>6</td>\n      <td>ff</td>\n    </tr>\n  </tbody>\n</table>\n</div>"
     },
     "metadata": {},
     "execution_count": 99
    }
   ],
   "source": [
    "df.pivot_longer(index='id',names_to=('.value', 'value'), names_sep='_') # it seems single .value is not robust enough ... check and fix"
   ]
  },
  {
   "cell_type": "code",
   "execution_count": 101,
   "metadata": {},
   "outputs": [
    {
     "output_type": "execute_result",
     "data": {
      "text/plain": "   subject  A_target_word_gd  A_target_word_fd  B_target_word_gd  \\\n0        1                 1                 2                 3   \n1        2                11                12                13   \n\n   B_target_word_fd subject_type  \n0                 4         mild  \n1                14     moderate  ",
      "text/html": "<div>\n<style scoped>\n    .dataframe tbody tr th:only-of-type {\n        vertical-align: middle;\n    }\n\n    .dataframe tbody tr th {\n        vertical-align: top;\n    }\n\n    .dataframe thead th {\n        text-align: right;\n    }\n</style>\n<table border=\"1\" class=\"dataframe\">\n  <thead>\n    <tr style=\"text-align: right;\">\n      <th></th>\n      <th>subject</th>\n      <th>A_target_word_gd</th>\n      <th>A_target_word_fd</th>\n      <th>B_target_word_gd</th>\n      <th>B_target_word_fd</th>\n      <th>subject_type</th>\n    </tr>\n  </thead>\n  <tbody>\n    <tr>\n      <th>0</th>\n      <td>1</td>\n      <td>1</td>\n      <td>2</td>\n      <td>3</td>\n      <td>4</td>\n      <td>mild</td>\n    </tr>\n    <tr>\n      <th>1</th>\n      <td>2</td>\n      <td>11</td>\n      <td>12</td>\n      <td>13</td>\n      <td>14</td>\n      <td>moderate</td>\n    </tr>\n  </tbody>\n</table>\n</div>"
     },
     "metadata": {},
     "execution_count": 101
    }
   ],
   "source": [
    "# https://stackoverflow.com/questions/59550804/melt-column-by-substring-of-the-columns-name-in-pandas-python\n",
    "df = pd.DataFrame({'subject': [1, 2],\n",
    " 'A_target_word_gd': [1, 11],\n",
    " 'A_target_word_fd': [2, 12],\n",
    " 'B_target_word_gd': [3, 13],\n",
    " 'B_target_word_fd': [4, 14],\n",
    " 'subject_type': ['mild', 'moderate']})\n",
    "\n",
    "df"
   ]
  },
  {
   "cell_type": "code",
   "execution_count": 104,
   "metadata": {},
   "outputs": [
    {
     "output_type": "execute_result",
     "data": {
      "text/plain": "   subject subject_type cond value_type  value\n0        1         mild    A         gd      1\n1        1         mild    A         fd      2\n2        1         mild    B         gd      3\n3        1         mild    B         fd      4\n4        2     moderate    A         gd     11\n5        2     moderate    A         fd     12\n6        2     moderate    B         gd     13\n7        2     moderate    B         fd     14",
      "text/html": "<div>\n<style scoped>\n    .dataframe tbody tr th:only-of-type {\n        vertical-align: middle;\n    }\n\n    .dataframe tbody tr th {\n        vertical-align: top;\n    }\n\n    .dataframe thead th {\n        text-align: right;\n    }\n</style>\n<table border=\"1\" class=\"dataframe\">\n  <thead>\n    <tr style=\"text-align: right;\">\n      <th></th>\n      <th>subject</th>\n      <th>subject_type</th>\n      <th>cond</th>\n      <th>value_type</th>\n      <th>value</th>\n    </tr>\n  </thead>\n  <tbody>\n    <tr>\n      <th>0</th>\n      <td>1</td>\n      <td>mild</td>\n      <td>A</td>\n      <td>gd</td>\n      <td>1</td>\n    </tr>\n    <tr>\n      <th>1</th>\n      <td>1</td>\n      <td>mild</td>\n      <td>A</td>\n      <td>fd</td>\n      <td>2</td>\n    </tr>\n    <tr>\n      <th>2</th>\n      <td>1</td>\n      <td>mild</td>\n      <td>B</td>\n      <td>gd</td>\n      <td>3</td>\n    </tr>\n    <tr>\n      <th>3</th>\n      <td>1</td>\n      <td>mild</td>\n      <td>B</td>\n      <td>fd</td>\n      <td>4</td>\n    </tr>\n    <tr>\n      <th>4</th>\n      <td>2</td>\n      <td>moderate</td>\n      <td>A</td>\n      <td>gd</td>\n      <td>11</td>\n    </tr>\n    <tr>\n      <th>5</th>\n      <td>2</td>\n      <td>moderate</td>\n      <td>A</td>\n      <td>fd</td>\n      <td>12</td>\n    </tr>\n    <tr>\n      <th>6</th>\n      <td>2</td>\n      <td>moderate</td>\n      <td>B</td>\n      <td>gd</td>\n      <td>13</td>\n    </tr>\n    <tr>\n      <th>7</th>\n      <td>2</td>\n      <td>moderate</td>\n      <td>B</td>\n      <td>fd</td>\n      <td>14</td>\n    </tr>\n  </tbody>\n</table>\n</div>"
     },
     "metadata": {},
     "execution_count": 104
    }
   ],
   "source": [
    "df.pivot_longer(index=['subject', 'subject_type'], names_to=('cond','value_type'), names_pattern='([A-Z]).*(gd|fd)')"
   ]
  }
 ]
}