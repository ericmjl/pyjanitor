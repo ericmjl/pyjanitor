{
 "metadata": {
  "language_info": {
   "codemirror_mode": {
    "name": "ipython",
    "version": 3
   },
   "file_extension": ".py",
   "mimetype": "text/x-python",
   "name": "python",
   "nbconvert_exporter": "python",
   "pygments_lexer": "ipython3",
   "version": "3.7.7-final"
  },
  "orig_nbformat": 2,
  "kernelspec": {
   "name": "Python 3.7.7 64-bit ('base': conda)",
   "display_name": "Python 3.7.7 64-bit ('base': conda)",
   "metadata": {
    "interpreter": {
     "hash": "98b0a9b7b4eaaa670588a142fd0a9b87eaafe866f1db4228be72b4211d12040f"
    }
   }
  }
 },
 "nbformat": 4,
 "nbformat_minor": 2,
 "cells": [
  {
   "cell_type": "code",
   "execution_count": 2,
   "metadata": {},
   "outputs": [],
   "source": [
    "import pandas as pd\n",
    "import numpy as np "
   ]
  },
  {
   "cell_type": "code",
   "execution_count": 3,
   "metadata": {},
   "outputs": [
    {
     "output_type": "execute_result",
     "data": {
      "text/plain": [
       "   geoid     name     variable   measure    value\n",
       "0      1  Alabama   pop_renter  estimate  1434765\n",
       "1      1  Alabama   pop_renter     error    16736\n",
       "2      1  Alabama  median_rent  estimate      747\n",
       "3      1  Alabama  median_rent     error        3\n",
       "4     13  Georgia   pop_renter  estimate  3592422\n",
       "5     13  Georgia   pop_renter     error    33385\n",
       "6     13  Georgia  median_rent  estimate      927\n",
       "7     13  Georgia  median_rent     error        3"
      ],
      "text/html": "<div>\n<style scoped>\n    .dataframe tbody tr th:only-of-type {\n        vertical-align: middle;\n    }\n\n    .dataframe tbody tr th {\n        vertical-align: top;\n    }\n\n    .dataframe thead th {\n        text-align: right;\n    }\n</style>\n<table border=\"1\" class=\"dataframe\">\n  <thead>\n    <tr style=\"text-align: right;\">\n      <th></th>\n      <th>geoid</th>\n      <th>name</th>\n      <th>variable</th>\n      <th>measure</th>\n      <th>value</th>\n    </tr>\n  </thead>\n  <tbody>\n    <tr>\n      <th>0</th>\n      <td>1</td>\n      <td>Alabama</td>\n      <td>pop_renter</td>\n      <td>estimate</td>\n      <td>1434765</td>\n    </tr>\n    <tr>\n      <th>1</th>\n      <td>1</td>\n      <td>Alabama</td>\n      <td>pop_renter</td>\n      <td>error</td>\n      <td>16736</td>\n    </tr>\n    <tr>\n      <th>2</th>\n      <td>1</td>\n      <td>Alabama</td>\n      <td>median_rent</td>\n      <td>estimate</td>\n      <td>747</td>\n    </tr>\n    <tr>\n      <th>3</th>\n      <td>1</td>\n      <td>Alabama</td>\n      <td>median_rent</td>\n      <td>error</td>\n      <td>3</td>\n    </tr>\n    <tr>\n      <th>4</th>\n      <td>13</td>\n      <td>Georgia</td>\n      <td>pop_renter</td>\n      <td>estimate</td>\n      <td>3592422</td>\n    </tr>\n    <tr>\n      <th>5</th>\n      <td>13</td>\n      <td>Georgia</td>\n      <td>pop_renter</td>\n      <td>error</td>\n      <td>33385</td>\n    </tr>\n    <tr>\n      <th>6</th>\n      <td>13</td>\n      <td>Georgia</td>\n      <td>median_rent</td>\n      <td>estimate</td>\n      <td>927</td>\n    </tr>\n    <tr>\n      <th>7</th>\n      <td>13</td>\n      <td>Georgia</td>\n      <td>median_rent</td>\n      <td>error</td>\n      <td>3</td>\n    </tr>\n  </tbody>\n</table>\n</div>"
     },
     "metadata": {},
     "execution_count": 3
    }
   ],
   "source": [
    "df = pd.DataFrame([{'geoid': 1,\n",
    "  'name': 'Alabama',\n",
    "  'variable': 'pop_renter',\n",
    "  'measure': 'estimate',\n",
    "  'value': 1434765},\n",
    " {'geoid': 1,\n",
    "  'name': 'Alabama',\n",
    "  'variable': 'pop_renter',\n",
    "  'measure': 'error',\n",
    "  'value': 16736},\n",
    " {'geoid': 1,\n",
    "  'name': 'Alabama',\n",
    "  'variable': 'median_rent',\n",
    "  'measure': 'estimate',\n",
    "  'value': 747},\n",
    " {'geoid': 1,\n",
    "  'name': 'Alabama',\n",
    "  'variable': 'median_rent',\n",
    "  'measure': 'error',\n",
    "  'value': 3},\n",
    " {'geoid': 13,\n",
    "  'name': 'Georgia',\n",
    "  'variable': 'pop_renter',\n",
    "  'measure': 'estimate',\n",
    "  'value': 3592422},\n",
    " {'geoid': 13,\n",
    "  'name': 'Georgia',\n",
    "  'variable': 'pop_renter',\n",
    "  'measure': 'error',\n",
    "  'value': 33385},\n",
    " {'geoid': 13,\n",
    "  'name': 'Georgia',\n",
    "  'variable': 'median_rent',\n",
    "  'measure': 'estimate',\n",
    "  'value': 927},\n",
    " {'geoid': 13,\n",
    "  'name': 'Georgia',\n",
    "  'variable': 'median_rent',\n",
    "  'measure': 'error',\n",
    "  'value': 3}])\n",
    "\n",
    "df"
   ]
  },
  {
   "cell_type": "code",
   "execution_count": 4,
   "metadata": {},
   "outputs": [
    {
     "output_type": "execute_result",
     "data": {
      "text/plain": [
       "{'geoid': [1, 1, 1, 1, 13, 13, 13, 13],\n",
       " 'name': ['Alabama',\n",
       "  'Alabama',\n",
       "  'Alabama',\n",
       "  'Alabama',\n",
       "  'Georgia',\n",
       "  'Georgia',\n",
       "  'Georgia',\n",
       "  'Georgia'],\n",
       " 'variable': ['pop_renter',\n",
       "  'pop_renter',\n",
       "  'median_rent',\n",
       "  'median_rent',\n",
       "  'pop_renter',\n",
       "  'pop_renter',\n",
       "  'median_rent',\n",
       "  'median_rent'],\n",
       " 'measure': ['estimate',\n",
       "  'error',\n",
       "  'estimate',\n",
       "  'error',\n",
       "  'estimate',\n",
       "  'error',\n",
       "  'estimate',\n",
       "  'error'],\n",
       " 'value': [1434765, 16736, 747, 3, 3592422, 33385, 927, 3]}"
      ]
     },
     "metadata": {},
     "execution_count": 4
    }
   ],
   "source": [
    "df.to_dict('list')"
   ]
  },
  {
   "cell_type": "code",
   "execution_count": 5,
   "metadata": {},
   "outputs": [
    {
     "output_type": "execute_result",
     "data": {
      "text/plain": [
       "   geoid     name  pop_renter_estimate  pop_renter_error  \\\n",
       "0      1  Alabama              1434765             16736   \n",
       "1     13  Georgia              3592422             33385   \n",
       "\n",
       "   median_rent_estimate  median_rent_error  \n",
       "0                   747                  3  \n",
       "1                   927                  3  "
      ],
      "text/html": "<div>\n<style scoped>\n    .dataframe tbody tr th:only-of-type {\n        vertical-align: middle;\n    }\n\n    .dataframe tbody tr th {\n        vertical-align: top;\n    }\n\n    .dataframe thead th {\n        text-align: right;\n    }\n</style>\n<table border=\"1\" class=\"dataframe\">\n  <thead>\n    <tr style=\"text-align: right;\">\n      <th></th>\n      <th>geoid</th>\n      <th>name</th>\n      <th>pop_renter_estimate</th>\n      <th>pop_renter_error</th>\n      <th>median_rent_estimate</th>\n      <th>median_rent_error</th>\n    </tr>\n  </thead>\n  <tbody>\n    <tr>\n      <th>0</th>\n      <td>1</td>\n      <td>Alabama</td>\n      <td>1434765</td>\n      <td>16736</td>\n      <td>747</td>\n      <td>3</td>\n    </tr>\n    <tr>\n      <th>1</th>\n      <td>13</td>\n      <td>Georgia</td>\n      <td>3592422</td>\n      <td>33385</td>\n      <td>927</td>\n      <td>3</td>\n    </tr>\n  </tbody>\n</table>\n</div>"
     },
     "metadata": {},
     "execution_count": 5
    }
   ],
   "source": [
    "pd.DataFrame({'geoid': [1, 13],\n",
    " 'name': ['Alabama', 'Georgia'],\n",
    " 'pop_renter_estimate': [1434765, 3592422],\n",
    " 'pop_renter_error': [16736, 33385],\n",
    " 'median_rent_estimate': [747, 927],\n",
    " 'median_rent_error': [3, 3]})"
   ]
  }
 ]
}