{
 "metadata": {
  "language_info": {
   "codemirror_mode": {
    "name": "ipython",
    "version": 3
   },
   "file_extension": ".py",
   "mimetype": "text/x-python",
   "name": "python",
   "nbconvert_exporter": "python",
   "pygments_lexer": "ipython3",
   "version": "3.7.7-final"
  },
  "orig_nbformat": 2,
  "kernelspec": {
   "name": "Python 3.7.7 64-bit ('base': conda)",
   "display_name": "Python 3.7.7 64-bit ('base': conda)",
   "metadata": {
    "interpreter": {
     "hash": "98b0a9b7b4eaaa670588a142fd0a9b87eaafe866f1db4228be72b4211d12040f"
    }
   }
  }
 },
 "nbformat": 4,
 "nbformat_minor": 2,
 "cells": [
  {
   "cell_type": "code",
   "execution_count": 1,
   "metadata": {},
   "outputs": [],
   "source": [
    "import pandas as pd\n",
    "import numpy as np "
   ]
  },
  {
   "cell_type": "code",
   "execution_count": 2,
   "metadata": {},
   "outputs": [
    {
     "output_type": "execute_result",
     "data": {
      "text/plain": [
       "   geoid     name     variable   measure    value\n",
       "0      1  Alabama   pop_renter  estimate  1434765\n",
       "1      1  Alabama   pop_renter     error    16736\n",
       "2      1  Alabama  median_rent  estimate      747\n",
       "3      1  Alabama  median_rent     error        3\n",
       "4     13  Georgia   pop_renter  estimate  3592422\n",
       "5     13  Georgia   pop_renter     error    33385\n",
       "6     13  Georgia  median_rent  estimate      927\n",
       "7     13  Georgia  median_rent     error        3"
      ],
      "text/html": "<div>\n<style scoped>\n    .dataframe tbody tr th:only-of-type {\n        vertical-align: middle;\n    }\n\n    .dataframe tbody tr th {\n        vertical-align: top;\n    }\n\n    .dataframe thead th {\n        text-align: right;\n    }\n</style>\n<table border=\"1\" class=\"dataframe\">\n  <thead>\n    <tr style=\"text-align: right;\">\n      <th></th>\n      <th>geoid</th>\n      <th>name</th>\n      <th>variable</th>\n      <th>measure</th>\n      <th>value</th>\n    </tr>\n  </thead>\n  <tbody>\n    <tr>\n      <th>0</th>\n      <td>1</td>\n      <td>Alabama</td>\n      <td>pop_renter</td>\n      <td>estimate</td>\n      <td>1434765</td>\n    </tr>\n    <tr>\n      <th>1</th>\n      <td>1</td>\n      <td>Alabama</td>\n      <td>pop_renter</td>\n      <td>error</td>\n      <td>16736</td>\n    </tr>\n    <tr>\n      <th>2</th>\n      <td>1</td>\n      <td>Alabama</td>\n      <td>median_rent</td>\n      <td>estimate</td>\n      <td>747</td>\n    </tr>\n    <tr>\n      <th>3</th>\n      <td>1</td>\n      <td>Alabama</td>\n      <td>median_rent</td>\n      <td>error</td>\n      <td>3</td>\n    </tr>\n    <tr>\n      <th>4</th>\n      <td>13</td>\n      <td>Georgia</td>\n      <td>pop_renter</td>\n      <td>estimate</td>\n      <td>3592422</td>\n    </tr>\n    <tr>\n      <th>5</th>\n      <td>13</td>\n      <td>Georgia</td>\n      <td>pop_renter</td>\n      <td>error</td>\n      <td>33385</td>\n    </tr>\n    <tr>\n      <th>6</th>\n      <td>13</td>\n      <td>Georgia</td>\n      <td>median_rent</td>\n      <td>estimate</td>\n      <td>927</td>\n    </tr>\n    <tr>\n      <th>7</th>\n      <td>13</td>\n      <td>Georgia</td>\n      <td>median_rent</td>\n      <td>error</td>\n      <td>3</td>\n    </tr>\n  </tbody>\n</table>\n</div>"
     },
     "metadata": {},
     "execution_count": 2
    }
   ],
   "source": [
    "df = pd.DataFrame([{'geoid': 1,\n",
    "  'name': 'Alabama',\n",
    "  'variable': 'pop_renter',\n",
    "  'measure': 'estimate',\n",
    "  'value': 1434765},\n",
    " {'geoid': 1,\n",
    "  'name': 'Alabama',\n",
    "  'variable': 'pop_renter',\n",
    "  'measure': 'error',\n",
    "  'value': 16736},\n",
    " {'geoid': 1,\n",
    "  'name': 'Alabama',\n",
    "  'variable': 'median_rent',\n",
    "  'measure': 'estimate',\n",
    "  'value': 747},\n",
    " {'geoid': 1,\n",
    "  'name': 'Alabama',\n",
    "  'variable': 'median_rent',\n",
    "  'measure': 'error',\n",
    "  'value': 3},\n",
    " {'geoid': 13,\n",
    "  'name': 'Georgia',\n",
    "  'variable': 'pop_renter',\n",
    "  'measure': 'estimate',\n",
    "  'value': 3592422},\n",
    " {'geoid': 13,\n",
    "  'name': 'Georgia',\n",
    "  'variable': 'pop_renter',\n",
    "  'measure': 'error',\n",
    "  'value': 33385},\n",
    " {'geoid': 13,\n",
    "  'name': 'Georgia',\n",
    "  'variable': 'median_rent',\n",
    "  'measure': 'estimate',\n",
    "  'value': 927},\n",
    " {'geoid': 13,\n",
    "  'name': 'Georgia',\n",
    "  'variable': 'median_rent',\n",
    "  'measure': 'error',\n",
    "  'value': 3}])\n",
    "\n",
    "df"
   ]
  },
  {
   "cell_type": "code",
   "execution_count": 3,
   "metadata": {},
   "outputs": [],
   "source": [
    "names_from = ['variable','measure']\n",
    "mapping_names_from = {col: pd.unique(df.loc[:, col]) for col in names_from}"
   ]
  },
  {
   "cell_type": "code",
   "execution_count": 4,
   "metadata": {},
   "outputs": [
    {
     "output_type": "execute_result",
     "data": {
      "text/plain": [
       "{'variable': array(['pop_renter', 'median_rent'], dtype=object),\n",
       " 'measure': array(['estimate', 'error'], dtype=object)}"
      ]
     },
     "metadata": {},
     "execution_count": 4
    }
   ],
   "source": [
    "mapping_names_from"
   ]
  },
  {
   "cell_type": "code",
   "execution_count": 5,
   "metadata": {},
   "outputs": [
    {
     "output_type": "execute_result",
     "data": {
      "text/plain": [
       "                      len                                     mean           \\\n",
       "variable      median_rent          pop_renter          median_rent            \n",
       "measure             error estimate      error estimate       error estimate   \n",
       "geoid name                                                                    \n",
       "1     Alabama           1        1          1        1           3      747   \n",
       "13    Georgia           1        1          1        1           3      927   \n",
       "\n",
       "                                   \n",
       "variable      pop_renter           \n",
       "measure            error estimate  \n",
       "geoid name                         \n",
       "1     Alabama      16736  1434765  \n",
       "13    Georgia      33385  3592422  "
      ],
      "text/html": "<div>\n<style scoped>\n    .dataframe tbody tr th:only-of-type {\n        vertical-align: middle;\n    }\n\n    .dataframe tbody tr th {\n        vertical-align: top;\n    }\n\n    .dataframe thead tr th {\n        text-align: left;\n    }\n\n    .dataframe thead tr:last-of-type th {\n        text-align: right;\n    }\n</style>\n<table border=\"1\" class=\"dataframe\">\n  <thead>\n    <tr>\n      <th></th>\n      <th></th>\n      <th colspan=\"4\" halign=\"left\">len</th>\n      <th colspan=\"4\" halign=\"left\">mean</th>\n    </tr>\n    <tr>\n      <th></th>\n      <th>variable</th>\n      <th colspan=\"2\" halign=\"left\">median_rent</th>\n      <th colspan=\"2\" halign=\"left\">pop_renter</th>\n      <th colspan=\"2\" halign=\"left\">median_rent</th>\n      <th colspan=\"2\" halign=\"left\">pop_renter</th>\n    </tr>\n    <tr>\n      <th></th>\n      <th>measure</th>\n      <th>error</th>\n      <th>estimate</th>\n      <th>error</th>\n      <th>estimate</th>\n      <th>error</th>\n      <th>estimate</th>\n      <th>error</th>\n      <th>estimate</th>\n    </tr>\n    <tr>\n      <th>geoid</th>\n      <th>name</th>\n      <th></th>\n      <th></th>\n      <th></th>\n      <th></th>\n      <th></th>\n      <th></th>\n      <th></th>\n      <th></th>\n    </tr>\n  </thead>\n  <tbody>\n    <tr>\n      <th>1</th>\n      <th>Alabama</th>\n      <td>1</td>\n      <td>1</td>\n      <td>1</td>\n      <td>1</td>\n      <td>3</td>\n      <td>747</td>\n      <td>16736</td>\n      <td>1434765</td>\n    </tr>\n    <tr>\n      <th>13</th>\n      <th>Georgia</th>\n      <td>1</td>\n      <td>1</td>\n      <td>1</td>\n      <td>1</td>\n      <td>3</td>\n      <td>927</td>\n      <td>33385</td>\n      <td>3592422</td>\n    </tr>\n  </tbody>\n</table>\n</div>"
     },
     "metadata": {},
     "execution_count": 5
    }
   ],
   "source": [
    "box = df.pivot_table(index=['geoid','name'], columns=['variable','measure'], values='value', aggfunc=[len, 'mean'])\n",
    "box"
   ]
  },
  {
   "cell_type": "code",
   "execution_count": 18,
   "metadata": {},
   "outputs": [
    {
     "output_type": "execute_result",
     "data": {
      "text/plain": [
       "   geoid     name     variable   measure    value\n",
       "0      1  Alabama   pop_renter  estimate  1434765\n",
       "1      1  Alabama   pop_renter     error    16736\n",
       "2      1  Alabama  median_rent  estimate      747\n",
       "3      1  Alabama  median_rent     error        3\n",
       "4     13  Georgia   pop_renter  estimate  3592422\n",
       "5     13  Georgia   pop_renter     error    33385\n",
       "6     13  Georgia  median_rent  estimate      927\n",
       "7     13  Georgia  median_rent     error        3"
      ],
      "text/html": "<div>\n<style scoped>\n    .dataframe tbody tr th:only-of-type {\n        vertical-align: middle;\n    }\n\n    .dataframe tbody tr th {\n        vertical-align: top;\n    }\n\n    .dataframe thead th {\n        text-align: right;\n    }\n</style>\n<table border=\"1\" class=\"dataframe\">\n  <thead>\n    <tr style=\"text-align: right;\">\n      <th></th>\n      <th>geoid</th>\n      <th>name</th>\n      <th>variable</th>\n      <th>measure</th>\n      <th>value</th>\n    </tr>\n  </thead>\n  <tbody>\n    <tr>\n      <th>0</th>\n      <td>1</td>\n      <td>Alabama</td>\n      <td>pop_renter</td>\n      <td>estimate</td>\n      <td>1434765</td>\n    </tr>\n    <tr>\n      <th>1</th>\n      <td>1</td>\n      <td>Alabama</td>\n      <td>pop_renter</td>\n      <td>error</td>\n      <td>16736</td>\n    </tr>\n    <tr>\n      <th>2</th>\n      <td>1</td>\n      <td>Alabama</td>\n      <td>median_rent</td>\n      <td>estimate</td>\n      <td>747</td>\n    </tr>\n    <tr>\n      <th>3</th>\n      <td>1</td>\n      <td>Alabama</td>\n      <td>median_rent</td>\n      <td>error</td>\n      <td>3</td>\n    </tr>\n    <tr>\n      <th>4</th>\n      <td>13</td>\n      <td>Georgia</td>\n      <td>pop_renter</td>\n      <td>estimate</td>\n      <td>3592422</td>\n    </tr>\n    <tr>\n      <th>5</th>\n      <td>13</td>\n      <td>Georgia</td>\n      <td>pop_renter</td>\n      <td>error</td>\n      <td>33385</td>\n    </tr>\n    <tr>\n      <th>6</th>\n      <td>13</td>\n      <td>Georgia</td>\n      <td>median_rent</td>\n      <td>estimate</td>\n      <td>927</td>\n    </tr>\n    <tr>\n      <th>7</th>\n      <td>13</td>\n      <td>Georgia</td>\n      <td>median_rent</td>\n      <td>error</td>\n      <td>3</td>\n    </tr>\n  </tbody>\n</table>\n</div>"
     },
     "metadata": {},
     "execution_count": 18
    }
   ],
   "source": [
    "data = \"\"\"\n",
    "geoid  name  variable  measure  value\n",
    "0  1  Alabama  pop_renter  estimate  1434765\n",
    "1  1  Alabama  pop_renter  error  16736\n",
    "2  1  Alabama  median_rent  estimate  747\n",
    "3  1  Alabama  median_rent  error  3\n",
    "4  13  Georgia  pop_renter  estimate  3592422\n",
    "5  13  Georgia  pop_renter  error  33385\n",
    "6  13  Georgia  median_rent  estimate  927\n",
    "7  13  Georgia  median_rent  error  3\n",
    "\"\"\"\n",
    "\n",
    "from io import StringIO\n",
    "df = pd.read_csv(StringIO(data), sep=\"\\s{2,}\", engine=\"python\")\n",
    "df.columns = df.columns.str.strip()\n",
    "df"
   ]
  },
  {
   "cell_type": "code",
   "execution_count": 21,
   "metadata": {},
   "outputs": [
    {
     "output_type": "execute_result",
     "data": {
      "text/plain": [
       "                    value                             \n",
       "variable      median_rent          pop_renter         \n",
       "measure             error estimate      error estimate\n",
       "geoid name                                            \n",
       "1     Alabama           3      747      16736  1434765\n",
       "13    Georgia           3      927      33385  3592422"
      ],
      "text/html": "<div>\n<style scoped>\n    .dataframe tbody tr th:only-of-type {\n        vertical-align: middle;\n    }\n\n    .dataframe tbody tr th {\n        vertical-align: top;\n    }\n\n    .dataframe thead tr th {\n        text-align: left;\n    }\n\n    .dataframe thead tr:last-of-type th {\n        text-align: right;\n    }\n</style>\n<table border=\"1\" class=\"dataframe\">\n  <thead>\n    <tr>\n      <th></th>\n      <th></th>\n      <th colspan=\"4\" halign=\"left\">value</th>\n    </tr>\n    <tr>\n      <th></th>\n      <th>variable</th>\n      <th colspan=\"2\" halign=\"left\">median_rent</th>\n      <th colspan=\"2\" halign=\"left\">pop_renter</th>\n    </tr>\n    <tr>\n      <th></th>\n      <th>measure</th>\n      <th>error</th>\n      <th>estimate</th>\n      <th>error</th>\n      <th>estimate</th>\n    </tr>\n    <tr>\n      <th>geoid</th>\n      <th>name</th>\n      <th></th>\n      <th></th>\n      <th></th>\n      <th></th>\n    </tr>\n  </thead>\n  <tbody>\n    <tr>\n      <th>1</th>\n      <th>Alabama</th>\n      <td>3</td>\n      <td>747</td>\n      <td>16736</td>\n      <td>1434765</td>\n    </tr>\n    <tr>\n      <th>13</th>\n      <th>Georgia</th>\n      <td>3</td>\n      <td>927</td>\n      <td>33385</td>\n      <td>3592422</td>\n    </tr>\n  </tbody>\n</table>\n</div>"
     },
     "metadata": {},
     "execution_count": 21
    }
   ],
   "source": [
    "box = pd.pivot_table(df, index=['geoid','name'], columns=['variable','measure'], values=['value'])\n",
    "box"
   ]
  },
  {
   "cell_type": "code",
   "execution_count": 22,
   "metadata": {},
   "outputs": [],
   "source": [
    "names_from = ['variable','measure']\n",
    "mapping_names_from = {col: pd.unique(df.loc[:, col]) for col in names_from}"
   ]
  },
  {
   "cell_type": "code",
   "execution_count": 23,
   "metadata": {},
   "outputs": [
    {
     "output_type": "execute_result",
     "data": {
      "text/plain": [
       "MultiIndex([('value', 'median_rent',    'error'),\n",
       "            ('value', 'median_rent', 'estimate'),\n",
       "            ('value',  'pop_renter',    'error'),\n",
       "            ('value',  'pop_renter', 'estimate')],\n",
       "           names=[None, 'variable', 'measure'])"
      ]
     },
     "metadata": {},
     "execution_count": 23
    }
   ],
   "source": [
    "box.columns"
   ]
  },
  {
   "cell_type": "code",
   "execution_count": 26,
   "metadata": {},
   "outputs": [
    {
     "output_type": "execute_result",
     "data": {
      "text/plain": [
       "'value'"
      ]
     },
     "metadata": {},
     "execution_count": 26
    }
   ],
   "source": [
    "box.columns.get_level_values(0).intersection(['value'])"
   ]
  },
  {
   "cell_type": "code",
   "execution_count": null,
   "metadata": {},
   "outputs": [],
   "source": []
  },
  {
   "cell_type": "code",
   "execution_count": null,
   "metadata": {},
   "outputs": [],
   "source": []
  },
  {
   "cell_type": "code",
   "execution_count": 94,
   "metadata": {},
   "outputs": [
    {
     "output_type": "execute_result",
     "data": {
      "text/plain": [
       "      name drug  heartrate\n",
       "0   Wilbur    a         67\n",
       "1  Petunia    a         80\n",
       "2  Gregory    a         64\n",
       "3   Wilbur    b         56\n",
       "4  Petunia    b         90\n",
       "5  Gregory    b         50"
      ],
      "text/html": "<div>\n<style scoped>\n    .dataframe tbody tr th:only-of-type {\n        vertical-align: middle;\n    }\n\n    .dataframe tbody tr th {\n        vertical-align: top;\n    }\n\n    .dataframe thead th {\n        text-align: right;\n    }\n</style>\n<table border=\"1\" class=\"dataframe\">\n  <thead>\n    <tr style=\"text-align: right;\">\n      <th></th>\n      <th>name</th>\n      <th>drug</th>\n      <th>heartrate</th>\n    </tr>\n  </thead>\n  <tbody>\n    <tr>\n      <th>0</th>\n      <td>Wilbur</td>\n      <td>a</td>\n      <td>67</td>\n    </tr>\n    <tr>\n      <th>1</th>\n      <td>Petunia</td>\n      <td>a</td>\n      <td>80</td>\n    </tr>\n    <tr>\n      <th>2</th>\n      <td>Gregory</td>\n      <td>a</td>\n      <td>64</td>\n    </tr>\n    <tr>\n      <th>3</th>\n      <td>Wilbur</td>\n      <td>b</td>\n      <td>56</td>\n    </tr>\n    <tr>\n      <th>4</th>\n      <td>Petunia</td>\n      <td>b</td>\n      <td>90</td>\n    </tr>\n    <tr>\n      <th>5</th>\n      <td>Gregory</td>\n      <td>b</td>\n      <td>50</td>\n    </tr>\n  </tbody>\n</table>\n</div>"
     },
     "metadata": {},
     "execution_count": 94
    }
   ],
   "source": [
    "df1 = pd.DataFrame(\n",
    "    {\n",
    "        \"name\": [\"Wilbur\", \"Petunia\", \"Gregory\", \"Wilbur\", \"Petunia\", \"Gregory\"],\n",
    "        \"drug\": [\"a\", \"a\", \"a\", \"b\", \"b\", \"b\"],\n",
    "        \"heartrate\": [67, 80, 64, 56, 90, 50],\n",
    "    }\n",
    ")\n",
    "\n",
    "df1"
   ]
  },
  {
   "cell_type": "code",
   "execution_count": 99,
   "metadata": {},
   "outputs": [
    {
     "output_type": "execute_result",
     "data": {
      "text/plain": [
       "drug      a   b\n",
       "name           \n",
       "Gregory  64  50\n",
       "Petunia  80  90\n",
       "Wilbur   67  56"
      ],
      "text/html": "<div>\n<style scoped>\n    .dataframe tbody tr th:only-of-type {\n        vertical-align: middle;\n    }\n\n    .dataframe tbody tr th {\n        vertical-align: top;\n    }\n\n    .dataframe thead th {\n        text-align: right;\n    }\n</style>\n<table border=\"1\" class=\"dataframe\">\n  <thead>\n    <tr style=\"text-align: right;\">\n      <th>drug</th>\n      <th>a</th>\n      <th>b</th>\n    </tr>\n    <tr>\n      <th>name</th>\n      <th></th>\n      <th></th>\n    </tr>\n  </thead>\n  <tbody>\n    <tr>\n      <th>Gregory</th>\n      <td>64</td>\n      <td>50</td>\n    </tr>\n    <tr>\n      <th>Petunia</th>\n      <td>80</td>\n      <td>90</td>\n    </tr>\n    <tr>\n      <th>Wilbur</th>\n      <td>67</td>\n      <td>56</td>\n    </tr>\n  </tbody>\n</table>\n</div>"
     },
     "metadata": {},
     "execution_count": 99
    }
   ],
   "source": [
    "df1.pivot_table(index='name', columns='drug', values='heartrate')"
   ]
  },
  {
   "cell_type": "code",
   "execution_count": null,
   "metadata": {},
   "outputs": [],
   "source": []
  }
 ]
}