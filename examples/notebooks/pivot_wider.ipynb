{
 "metadata": {
  "language_info": {
   "codemirror_mode": {
    "name": "ipython",
    "version": 3
   },
   "file_extension": ".py",
   "mimetype": "text/x-python",
   "name": "python",
   "nbconvert_exporter": "python",
   "pygments_lexer": "ipython3",
   "version": "3.7.7-final"
  },
  "orig_nbformat": 2,
  "kernelspec": {
   "name": "Python 3.7.7 64-bit ('conda': virtualenv)",
   "display_name": "Python 3.7.7 64-bit ('conda': virtualenv)",
   "metadata": {
    "interpreter": {
     "hash": "98b0a9b7b4eaaa670588a142fd0a9b87eaafe866f1db4228be72b4211d12040f"
    }
   }
  }
 },
 "nbformat": 4,
 "nbformat_minor": 2,
 "cells": [
  {
   "cell_type": "code",
   "execution_count": 1,
   "metadata": {},
   "outputs": [],
   "source": [
    "import pandas as pd\n",
    "import numpy as np "
   ]
  },
  {
   "cell_type": "code",
   "execution_count": 183,
   "metadata": {},
   "outputs": [
    {
     "output_type": "execute_result",
     "data": {
      "text/plain": "   geoid     name     variable   measure    value\n0      1  Alabama   pop_renter  estimate  1434765\n1      1  Alabama   pop_renter     error    16736\n2      1  Alabama  median_rent  estimate      747\n3      1  Alabama  median_rent     error        3\n4     13  Georgia   pop_renter  estimate  3592422\n5     13  Georgia   pop_renter     error    33385\n6     13  Georgia  median_rent  estimate      927\n7     13  Georgia  median_rent     error        3",
      "text/html": "<div>\n<style scoped>\n    .dataframe tbody tr th:only-of-type {\n        vertical-align: middle;\n    }\n\n    .dataframe tbody tr th {\n        vertical-align: top;\n    }\n\n    .dataframe thead th {\n        text-align: right;\n    }\n</style>\n<table border=\"1\" class=\"dataframe\">\n  <thead>\n    <tr style=\"text-align: right;\">\n      <th></th>\n      <th>geoid</th>\n      <th>name</th>\n      <th>variable</th>\n      <th>measure</th>\n      <th>value</th>\n    </tr>\n  </thead>\n  <tbody>\n    <tr>\n      <th>0</th>\n      <td>1</td>\n      <td>Alabama</td>\n      <td>pop_renter</td>\n      <td>estimate</td>\n      <td>1434765</td>\n    </tr>\n    <tr>\n      <th>1</th>\n      <td>1</td>\n      <td>Alabama</td>\n      <td>pop_renter</td>\n      <td>error</td>\n      <td>16736</td>\n    </tr>\n    <tr>\n      <th>2</th>\n      <td>1</td>\n      <td>Alabama</td>\n      <td>median_rent</td>\n      <td>estimate</td>\n      <td>747</td>\n    </tr>\n    <tr>\n      <th>3</th>\n      <td>1</td>\n      <td>Alabama</td>\n      <td>median_rent</td>\n      <td>error</td>\n      <td>3</td>\n    </tr>\n    <tr>\n      <th>4</th>\n      <td>13</td>\n      <td>Georgia</td>\n      <td>pop_renter</td>\n      <td>estimate</td>\n      <td>3592422</td>\n    </tr>\n    <tr>\n      <th>5</th>\n      <td>13</td>\n      <td>Georgia</td>\n      <td>pop_renter</td>\n      <td>error</td>\n      <td>33385</td>\n    </tr>\n    <tr>\n      <th>6</th>\n      <td>13</td>\n      <td>Georgia</td>\n      <td>median_rent</td>\n      <td>estimate</td>\n      <td>927</td>\n    </tr>\n    <tr>\n      <th>7</th>\n      <td>13</td>\n      <td>Georgia</td>\n      <td>median_rent</td>\n      <td>error</td>\n      <td>3</td>\n    </tr>\n  </tbody>\n</table>\n</div>"
     },
     "metadata": {},
     "execution_count": 183
    }
   ],
   "source": [
    "df = pd.DataFrame([{'geoid': 1,\n",
    "  'name': 'Alabama',\n",
    "  'variable': 'pop_renter',\n",
    "  'measure': 'estimate',\n",
    "  'value': 1434765},\n",
    " {'geoid': 1,\n",
    "  'name': 'Alabama',\n",
    "  'variable': 'pop_renter',\n",
    "  'measure': 'error',\n",
    "  'value': 16736},\n",
    " {'geoid': 1,\n",
    "  'name': 'Alabama',\n",
    "  'variable': 'median_rent',\n",
    "  'measure': 'estimate',\n",
    "  'value': 747},\n",
    " {'geoid': 1,\n",
    "  'name': 'Alabama',\n",
    "  'variable': 'median_rent',\n",
    "  'measure': 'error',\n",
    "  'value': 3},\n",
    " {'geoid': 13,\n",
    "  'name': 'Georgia',\n",
    "  'variable': 'pop_renter',\n",
    "  'measure': 'estimate',\n",
    "  'value': 3592422},\n",
    " {'geoid': 13,\n",
    "  'name': 'Georgia',\n",
    "  'variable': 'pop_renter',\n",
    "  'measure': 'error',\n",
    "  'value': 33385},\n",
    " {'geoid': 13,\n",
    "  'name': 'Georgia',\n",
    "  'variable': 'median_rent',\n",
    "  'measure': 'estimate',\n",
    "  'value': 927},\n",
    " {'geoid': 13,\n",
    "  'name': 'Georgia',\n",
    "  'variable': 'median_rent',\n",
    "  'measure': 'error',\n",
    "  'value': 3}])\n",
    "\n",
    "df"
   ]
  },
  {
   "cell_type": "code",
   "execution_count": 160,
   "metadata": {},
   "outputs": [
    {
     "output_type": "execute_result",
     "data": {
      "text/plain": "      name drug  heartrate\n0   Wilbur    a         67\n1  Petunia    a         80\n2  Gregory    a         64\n3   Wilbur    b         56\n4  Petunia    b         90\n5  Gregory    b         50",
      "text/html": "<div>\n<style scoped>\n    .dataframe tbody tr th:only-of-type {\n        vertical-align: middle;\n    }\n\n    .dataframe tbody tr th {\n        vertical-align: top;\n    }\n\n    .dataframe thead th {\n        text-align: right;\n    }\n</style>\n<table border=\"1\" class=\"dataframe\">\n  <thead>\n    <tr style=\"text-align: right;\">\n      <th></th>\n      <th>name</th>\n      <th>drug</th>\n      <th>heartrate</th>\n    </tr>\n  </thead>\n  <tbody>\n    <tr>\n      <th>0</th>\n      <td>Wilbur</td>\n      <td>a</td>\n      <td>67</td>\n    </tr>\n    <tr>\n      <th>1</th>\n      <td>Petunia</td>\n      <td>a</td>\n      <td>80</td>\n    </tr>\n    <tr>\n      <th>2</th>\n      <td>Gregory</td>\n      <td>a</td>\n      <td>64</td>\n    </tr>\n    <tr>\n      <th>3</th>\n      <td>Wilbur</td>\n      <td>b</td>\n      <td>56</td>\n    </tr>\n    <tr>\n      <th>4</th>\n      <td>Petunia</td>\n      <td>b</td>\n      <td>90</td>\n    </tr>\n    <tr>\n      <th>5</th>\n      <td>Gregory</td>\n      <td>b</td>\n      <td>50</td>\n    </tr>\n  </tbody>\n</table>\n</div>"
     },
     "metadata": {},
     "execution_count": 160
    }
   ],
   "source": [
    "df1 = pd.DataFrame(\n",
    "    {\n",
    "        \"name\": [\"Wilbur\", \"Petunia\", \"Gregory\", \"Wilbur\", \"Petunia\", \"Gregory\"],\n",
    "        \"drug\": [\"a\", \"a\", \"a\", \"b\", \"b\", \"b\"],\n",
    "        \"heartrate\": [67, 80, 64, 56, 90, 50],\n",
    "    }\n",
    ")\n",
    "\n",
    "df1"
   ]
  },
  {
   "cell_type": "code",
   "execution_count": 194,
   "metadata": {},
   "outputs": [
    {
     "output_type": "execute_result",
     "data": {
      "text/plain": "variable      median_rent          pop_renter         \nmeasure             error estimate      error estimate\ngeoid name                                            \n1     Alabama           3      747      16736  1434765\n13    Georgia           3      927      33385  3592422",
      "text/html": "<div>\n<style scoped>\n    .dataframe tbody tr th:only-of-type {\n        vertical-align: middle;\n    }\n\n    .dataframe tbody tr th {\n        vertical-align: top;\n    }\n\n    .dataframe thead tr th {\n        text-align: left;\n    }\n\n    .dataframe thead tr:last-of-type th {\n        text-align: right;\n    }\n</style>\n<table border=\"1\" class=\"dataframe\">\n  <thead>\n    <tr>\n      <th></th>\n      <th>variable</th>\n      <th colspan=\"2\" halign=\"left\">median_rent</th>\n      <th colspan=\"2\" halign=\"left\">pop_renter</th>\n    </tr>\n    <tr>\n      <th></th>\n      <th>measure</th>\n      <th>error</th>\n      <th>estimate</th>\n      <th>error</th>\n      <th>estimate</th>\n    </tr>\n    <tr>\n      <th>geoid</th>\n      <th>name</th>\n      <th></th>\n      <th></th>\n      <th></th>\n      <th></th>\n    </tr>\n  </thead>\n  <tbody>\n    <tr>\n      <th>1</th>\n      <th>Alabama</th>\n      <td>3</td>\n      <td>747</td>\n      <td>16736</td>\n      <td>1434765</td>\n    </tr>\n    <tr>\n      <th>13</th>\n      <th>Georgia</th>\n      <td>3</td>\n      <td>927</td>\n      <td>33385</td>\n      <td>3592422</td>\n    </tr>\n  </tbody>\n</table>\n</div>"
     },
     "metadata": {},
     "execution_count": 194
    }
   ],
   "source": [
    "index = [\"geoid\", \"name\"]\n",
    "columns = [\"variable\", \"measure\"]\n",
    "mapping = {col: pd.unique(df.loc[:, col]) for col in columns}\n",
    "box = df.pivot_table(index=index, columns=columns, values='value')\n",
    "box"
   ]
  },
  {
   "cell_type": "code",
   "execution_count": 195,
   "metadata": {},
   "outputs": [
    {
     "output_type": "execute_result",
     "data": {
      "text/plain": "{&#39;variable&#39;: array([&#39;pop_renter&#39;, &#39;median_rent&#39;], dtype=object),\n &#39;measure&#39;: array([&#39;estimate&#39;, &#39;error&#39;], dtype=object)}"
     },
     "metadata": {},
     "execution_count": 195
    }
   ],
   "source": [
    "mapping"
   ]
  },
  {
   "cell_type": "code",
   "execution_count": 196,
   "metadata": {},
   "outputs": [
    {
     "output_type": "execute_result",
     "data": {
      "text/plain": "MultiIndex([(&#39;median_rent&#39;,    &#39;error&#39;),\n            (&#39;median_rent&#39;, &#39;estimate&#39;),\n            ( &#39;pop_renter&#39;,    &#39;error&#39;),\n            ( &#39;pop_renter&#39;, &#39;estimate&#39;)],\n           names=[&#39;variable&#39;, &#39;measure&#39;])"
     },
     "metadata": {},
     "execution_count": 196
    }
   ],
   "source": [
    "box.columns"
   ]
  },
  {
   "cell_type": "code",
   "execution_count": 199,
   "metadata": {},
   "outputs": [
    {
     "output_type": "execute_result",
     "data": {
      "text/plain": "MultiIndex([(&#39;median_rent&#39;,    &#39;error&#39;),\n            (&#39;median_rent&#39;, &#39;estimate&#39;),\n            ( &#39;pop_renter&#39;,    &#39;error&#39;),\n            ( &#39;pop_renter&#39;, &#39;estimate&#39;)],\n           names=[&#39;variable&#39;, &#39;measure&#39;])"
     },
     "metadata": {},
     "execution_count": 199
    }
   ],
   "source": [
    "box.columns"
   ]
  }
 ]
}