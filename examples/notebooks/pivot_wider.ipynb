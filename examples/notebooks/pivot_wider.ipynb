{
 "metadata": {
  "language_info": {
   "codemirror_mode": {
    "name": "ipython",
    "version": 3
   },
   "file_extension": ".py",
   "mimetype": "text/x-python",
   "name": "python",
   "nbconvert_exporter": "python",
   "pygments_lexer": "ipython3",
   "version": "3.7.7-final"
  },
  "orig_nbformat": 2,
  "kernelspec": {
   "name": "Python 3.7.7 64-bit ('base': conda)",
   "display_name": "Python 3.7.7 64-bit ('base': conda)",
   "metadata": {
    "interpreter": {
     "hash": "98b0a9b7b4eaaa670588a142fd0a9b87eaafe866f1db4228be72b4211d12040f"
    }
   }
  }
 },
 "nbformat": 4,
 "nbformat_minor": 2,
 "cells": [
  {
   "cell_type": "code",
   "execution_count": 13,
   "metadata": {},
   "outputs": [],
   "source": [
    "import pandas as pd\n",
    "import numpy as np \n",
    "import janitor\n",
    "from io import StringIO"
   ]
  },
  {
   "cell_type": "code",
   "execution_count": 27,
   "metadata": {},
   "outputs": [
    {
     "output_type": "execute_result",
     "data": {
      "text/plain": [
       "    variable value\n",
       "0      group     a\n",
       "1      group     a\n",
       "2      group     a\n",
       "3      group     a\n",
       "4      group     a\n",
       "..       ...   ...\n",
       "100    d3_br  0.95\n",
       "101    d3_br  0.05\n",
       "102    d3_br  0.95\n",
       "103    d3_br  0.05\n",
       "104    d3_br  0.05\n",
       "\n",
       "[105 rows x 2 columns]"
      ],
      "text/html": "<div>\n<style scoped>\n    .dataframe tbody tr th:only-of-type {\n        vertical-align: middle;\n    }\n\n    .dataframe tbody tr th {\n        vertical-align: top;\n    }\n\n    .dataframe thead th {\n        text-align: right;\n    }\n</style>\n<table border=\"1\" class=\"dataframe\">\n  <thead>\n    <tr style=\"text-align: right;\">\n      <th></th>\n      <th>variable</th>\n      <th>value</th>\n    </tr>\n  </thead>\n  <tbody>\n    <tr>\n      <th>0</th>\n      <td>group</td>\n      <td>a</td>\n    </tr>\n    <tr>\n      <th>1</th>\n      <td>group</td>\n      <td>a</td>\n    </tr>\n    <tr>\n      <th>2</th>\n      <td>group</td>\n      <td>a</td>\n    </tr>\n    <tr>\n      <th>3</th>\n      <td>group</td>\n      <td>a</td>\n    </tr>\n    <tr>\n      <th>4</th>\n      <td>group</td>\n      <td>a</td>\n    </tr>\n    <tr>\n      <th>...</th>\n      <td>...</td>\n      <td>...</td>\n    </tr>\n    <tr>\n      <th>100</th>\n      <td>d3_br</td>\n      <td>0.95</td>\n    </tr>\n    <tr>\n      <th>101</th>\n      <td>d3_br</td>\n      <td>0.05</td>\n    </tr>\n    <tr>\n      <th>102</th>\n      <td>d3_br</td>\n      <td>0.95</td>\n    </tr>\n    <tr>\n      <th>103</th>\n      <td>d3_br</td>\n      <td>0.05</td>\n    </tr>\n    <tr>\n      <th>104</th>\n      <td>d3_br</td>\n      <td>0.05</td>\n    </tr>\n  </tbody>\n</table>\n<p>105 rows × 2 columns</p>\n</div>"
     },
     "metadata": {},
     "execution_count": 27
    }
   ],
   "source": [
    "df.pivot_longer(index=janitor.patterns(\"^ID\"))"
   ]
  }
 ]
}