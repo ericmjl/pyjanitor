{
 "cells": [
  {
   "cell_type": "markdown",
   "metadata": {},
   "source": [
    "# Example From TidyTuesday 2019-04-30\n",
    "\n",
    "The following example was obtained by translating the R code from https://github.com/rfordatascience/tidytuesday/tree/47567cb80846739c8543d158c1f3ff226c7e5a5f/data/2019/2019-04-30\n",
    "to Python using Pandas and PyJanitor"
   ]
  },
  {
   "cell_type": "code",
   "execution_count": 1,
   "metadata": {},
   "outputs": [],
   "source": [
    "import pandas as pd\n",
    "import janitor"
   ]
  },
  {
   "cell_type": "markdown",
   "metadata": {},
   "source": [
    "## Get Raw Data"
   ]
  },
  {
   "cell_type": "code",
   "execution_count": 2,
   "metadata": {},
   "outputs": [],
   "source": [
    "raw_birds = pd.read_csv(\"https://raw.githubusercontent.com/rfordatascience/tidytuesday/master/data/2019/2019-04-30/raw/Chicago_collision_data.csv\")\n",
    "raw_call = pd.read_csv(\"https://raw.githubusercontent.com/rfordatascience/tidytuesday/master/data/2019/2019-04-30/raw/bird_call.csv\", sep=\" \")\n",
    "raw_light = pd.read_csv(\"https://raw.githubusercontent.com/rfordatascience/tidytuesday/master/data/2019/2019-04-30/raw/Light_levels_dryad.csv\")"
   ]
  },
  {
   "cell_type": "markdown",
   "metadata": {},
   "source": [
    "## Clean Data"
   ]
  },
  {
   "cell_type": "code",
   "execution_count": 3,
   "metadata": {},
   "outputs": [],
   "source": [
    "clean_call = (\n",
    "    raw_call\n",
    "    .rename_column(\"Species\", \"Genus\")\n",
    "    .rename_column(\"Family\", \"Species\")\n",
    ")\n",
    "clean_birds = (\n",
    "    raw_birds\n",
    "    .merge(clean_call, how='left')\n",
    "    .select_columns([\"Genus\", \"Species\", \"Date\", \"Locality\", \"Collisions\", \"Call\", \"Habitat\", \"Stratum\"])\n",
    "    .clean_names()\n",
    "    .rename_column(\"collisions\", \"family\")\n",
    "    .rename_column(\"call\", \"flight_call\")\n",
    "    .dropna()\n",
    ")\n",
    "clean_light = raw_light.clean_names()"
   ]
  },
  {
   "cell_type": "code",
   "execution_count": null,
   "metadata": {},
   "outputs": [],
   "source": []
  }
 ],
 "metadata": {
  "kernelspec": {
   "display_name": "pyjanitor-dev",
   "language": "python",
   "name": "pyjanitor-dev"
  },
  "language_info": {
   "codemirror_mode": {
    "name": "ipython",
    "version": 3
   },
   "file_extension": ".py",
   "mimetype": "text/x-python",
   "name": "python",
   "nbconvert_exporter": "python",
   "pygments_lexer": "ipython3",
   "version": "3.6.8"
  }
 },
 "nbformat": 4,
 "nbformat_minor": 2
}
